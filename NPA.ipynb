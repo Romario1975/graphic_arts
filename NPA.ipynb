{
  "nbformat": 4,
  "nbformat_minor": 0,
  "metadata": {
    "colab": {
      "provenance": [],
      "authorship_tag": "ABX9TyPmhScDC70iUUx/HXtLugHP",
      "include_colab_link": true
    },
    "kernelspec": {
      "name": "python3",
      "display_name": "Python 3"
    },
    "language_info": {
      "name": "python"
    },
    "widgets": {
      "application/vnd.jupyter.widget-state+json": {
        "287eaf30797d44f8ae111078e403b858": {
          "model_module": "@jupyter-widgets/controls",
          "model_name": "HBoxModel",
          "model_module_version": "1.5.0",
          "state": {
            "_dom_classes": [],
            "_model_module": "@jupyter-widgets/controls",
            "_model_module_version": "1.5.0",
            "_model_name": "HBoxModel",
            "_view_count": null,
            "_view_module": "@jupyter-widgets/controls",
            "_view_module_version": "1.5.0",
            "_view_name": "HBoxView",
            "box_style": "",
            "children": [
              "IPY_MODEL_7161303b6cef43a5b106fe3b811fd9e8",
              "IPY_MODEL_20003727815a4d758712ff8265c34717",
              "IPY_MODEL_35b3cb3ffc87443f8506092130c78167"
            ],
            "layout": "IPY_MODEL_d5357dae0814467f8586a5a2f3c23281"
          }
        },
        "7161303b6cef43a5b106fe3b811fd9e8": {
          "model_module": "@jupyter-widgets/controls",
          "model_name": "HTMLModel",
          "model_module_version": "1.5.0",
          "state": {
            "_dom_classes": [],
            "_model_module": "@jupyter-widgets/controls",
            "_model_module_version": "1.5.0",
            "_model_name": "HTMLModel",
            "_view_count": null,
            "_view_module": "@jupyter-widgets/controls",
            "_view_module_version": "1.5.0",
            "_view_name": "HTMLView",
            "description": "",
            "description_tooltip": null,
            "layout": "IPY_MODEL_7835331d20e546ff97a166d082c0e5ba",
            "placeholder": "​",
            "style": "IPY_MODEL_29c16ccbe9184a5e8d1498399fff6b04",
            "value": "vocab.txt: 100%"
          }
        },
        "20003727815a4d758712ff8265c34717": {
          "model_module": "@jupyter-widgets/controls",
          "model_name": "FloatProgressModel",
          "model_module_version": "1.5.0",
          "state": {
            "_dom_classes": [],
            "_model_module": "@jupyter-widgets/controls",
            "_model_module_version": "1.5.0",
            "_model_name": "FloatProgressModel",
            "_view_count": null,
            "_view_module": "@jupyter-widgets/controls",
            "_view_module_version": "1.5.0",
            "_view_name": "ProgressView",
            "bar_style": "success",
            "description": "",
            "description_tooltip": null,
            "layout": "IPY_MODEL_a9da42c74da84e68adba3b4d48814f6d",
            "max": 1780720,
            "min": 0,
            "orientation": "horizontal",
            "style": "IPY_MODEL_b44c060ae87a4699919cc80ea55271f0",
            "value": 1780720
          }
        },
        "35b3cb3ffc87443f8506092130c78167": {
          "model_module": "@jupyter-widgets/controls",
          "model_name": "HTMLModel",
          "model_module_version": "1.5.0",
          "state": {
            "_dom_classes": [],
            "_model_module": "@jupyter-widgets/controls",
            "_model_module_version": "1.5.0",
            "_model_name": "HTMLModel",
            "_view_count": null,
            "_view_module": "@jupyter-widgets/controls",
            "_view_module_version": "1.5.0",
            "_view_name": "HTMLView",
            "description": "",
            "description_tooltip": null,
            "layout": "IPY_MODEL_39fb17afc2ca4ba0aef595c8a16d0573",
            "placeholder": "​",
            "style": "IPY_MODEL_37c990a90c884004bde5fd1bd586017b",
            "value": " 1.78M/1.78M [00:00&lt;00:00, 5.32MB/s]"
          }
        },
        "d5357dae0814467f8586a5a2f3c23281": {
          "model_module": "@jupyter-widgets/base",
          "model_name": "LayoutModel",
          "model_module_version": "1.2.0",
          "state": {
            "_model_module": "@jupyter-widgets/base",
            "_model_module_version": "1.2.0",
            "_model_name": "LayoutModel",
            "_view_count": null,
            "_view_module": "@jupyter-widgets/base",
            "_view_module_version": "1.2.0",
            "_view_name": "LayoutView",
            "align_content": null,
            "align_items": null,
            "align_self": null,
            "border": null,
            "bottom": null,
            "display": null,
            "flex": null,
            "flex_flow": null,
            "grid_area": null,
            "grid_auto_columns": null,
            "grid_auto_flow": null,
            "grid_auto_rows": null,
            "grid_column": null,
            "grid_gap": null,
            "grid_row": null,
            "grid_template_areas": null,
            "grid_template_columns": null,
            "grid_template_rows": null,
            "height": null,
            "justify_content": null,
            "justify_items": null,
            "left": null,
            "margin": null,
            "max_height": null,
            "max_width": null,
            "min_height": null,
            "min_width": null,
            "object_fit": null,
            "object_position": null,
            "order": null,
            "overflow": null,
            "overflow_x": null,
            "overflow_y": null,
            "padding": null,
            "right": null,
            "top": null,
            "visibility": null,
            "width": null
          }
        },
        "7835331d20e546ff97a166d082c0e5ba": {
          "model_module": "@jupyter-widgets/base",
          "model_name": "LayoutModel",
          "model_module_version": "1.2.0",
          "state": {
            "_model_module": "@jupyter-widgets/base",
            "_model_module_version": "1.2.0",
            "_model_name": "LayoutModel",
            "_view_count": null,
            "_view_module": "@jupyter-widgets/base",
            "_view_module_version": "1.2.0",
            "_view_name": "LayoutView",
            "align_content": null,
            "align_items": null,
            "align_self": null,
            "border": null,
            "bottom": null,
            "display": null,
            "flex": null,
            "flex_flow": null,
            "grid_area": null,
            "grid_auto_columns": null,
            "grid_auto_flow": null,
            "grid_auto_rows": null,
            "grid_column": null,
            "grid_gap": null,
            "grid_row": null,
            "grid_template_areas": null,
            "grid_template_columns": null,
            "grid_template_rows": null,
            "height": null,
            "justify_content": null,
            "justify_items": null,
            "left": null,
            "margin": null,
            "max_height": null,
            "max_width": null,
            "min_height": null,
            "min_width": null,
            "object_fit": null,
            "object_position": null,
            "order": null,
            "overflow": null,
            "overflow_x": null,
            "overflow_y": null,
            "padding": null,
            "right": null,
            "top": null,
            "visibility": null,
            "width": null
          }
        },
        "29c16ccbe9184a5e8d1498399fff6b04": {
          "model_module": "@jupyter-widgets/controls",
          "model_name": "DescriptionStyleModel",
          "model_module_version": "1.5.0",
          "state": {
            "_model_module": "@jupyter-widgets/controls",
            "_model_module_version": "1.5.0",
            "_model_name": "DescriptionStyleModel",
            "_view_count": null,
            "_view_module": "@jupyter-widgets/base",
            "_view_module_version": "1.2.0",
            "_view_name": "StyleView",
            "description_width": ""
          }
        },
        "a9da42c74da84e68adba3b4d48814f6d": {
          "model_module": "@jupyter-widgets/base",
          "model_name": "LayoutModel",
          "model_module_version": "1.2.0",
          "state": {
            "_model_module": "@jupyter-widgets/base",
            "_model_module_version": "1.2.0",
            "_model_name": "LayoutModel",
            "_view_count": null,
            "_view_module": "@jupyter-widgets/base",
            "_view_module_version": "1.2.0",
            "_view_name": "LayoutView",
            "align_content": null,
            "align_items": null,
            "align_self": null,
            "border": null,
            "bottom": null,
            "display": null,
            "flex": null,
            "flex_flow": null,
            "grid_area": null,
            "grid_auto_columns": null,
            "grid_auto_flow": null,
            "grid_auto_rows": null,
            "grid_column": null,
            "grid_gap": null,
            "grid_row": null,
            "grid_template_areas": null,
            "grid_template_columns": null,
            "grid_template_rows": null,
            "height": null,
            "justify_content": null,
            "justify_items": null,
            "left": null,
            "margin": null,
            "max_height": null,
            "max_width": null,
            "min_height": null,
            "min_width": null,
            "object_fit": null,
            "object_position": null,
            "order": null,
            "overflow": null,
            "overflow_x": null,
            "overflow_y": null,
            "padding": null,
            "right": null,
            "top": null,
            "visibility": null,
            "width": null
          }
        },
        "b44c060ae87a4699919cc80ea55271f0": {
          "model_module": "@jupyter-widgets/controls",
          "model_name": "ProgressStyleModel",
          "model_module_version": "1.5.0",
          "state": {
            "_model_module": "@jupyter-widgets/controls",
            "_model_module_version": "1.5.0",
            "_model_name": "ProgressStyleModel",
            "_view_count": null,
            "_view_module": "@jupyter-widgets/base",
            "_view_module_version": "1.2.0",
            "_view_name": "StyleView",
            "bar_color": null,
            "description_width": ""
          }
        },
        "39fb17afc2ca4ba0aef595c8a16d0573": {
          "model_module": "@jupyter-widgets/base",
          "model_name": "LayoutModel",
          "model_module_version": "1.2.0",
          "state": {
            "_model_module": "@jupyter-widgets/base",
            "_model_module_version": "1.2.0",
            "_model_name": "LayoutModel",
            "_view_count": null,
            "_view_module": "@jupyter-widgets/base",
            "_view_module_version": "1.2.0",
            "_view_name": "LayoutView",
            "align_content": null,
            "align_items": null,
            "align_self": null,
            "border": null,
            "bottom": null,
            "display": null,
            "flex": null,
            "flex_flow": null,
            "grid_area": null,
            "grid_auto_columns": null,
            "grid_auto_flow": null,
            "grid_auto_rows": null,
            "grid_column": null,
            "grid_gap": null,
            "grid_row": null,
            "grid_template_areas": null,
            "grid_template_columns": null,
            "grid_template_rows": null,
            "height": null,
            "justify_content": null,
            "justify_items": null,
            "left": null,
            "margin": null,
            "max_height": null,
            "max_width": null,
            "min_height": null,
            "min_width": null,
            "object_fit": null,
            "object_position": null,
            "order": null,
            "overflow": null,
            "overflow_x": null,
            "overflow_y": null,
            "padding": null,
            "right": null,
            "top": null,
            "visibility": null,
            "width": null
          }
        },
        "37c990a90c884004bde5fd1bd586017b": {
          "model_module": "@jupyter-widgets/controls",
          "model_name": "DescriptionStyleModel",
          "model_module_version": "1.5.0",
          "state": {
            "_model_module": "@jupyter-widgets/controls",
            "_model_module_version": "1.5.0",
            "_model_name": "DescriptionStyleModel",
            "_view_count": null,
            "_view_module": "@jupyter-widgets/base",
            "_view_module_version": "1.2.0",
            "_view_name": "StyleView",
            "description_width": ""
          }
        },
        "66924a604e124093a7381baa2bc31aab": {
          "model_module": "@jupyter-widgets/controls",
          "model_name": "HBoxModel",
          "model_module_version": "1.5.0",
          "state": {
            "_dom_classes": [],
            "_model_module": "@jupyter-widgets/controls",
            "_model_module_version": "1.5.0",
            "_model_name": "HBoxModel",
            "_view_count": null,
            "_view_module": "@jupyter-widgets/controls",
            "_view_module_version": "1.5.0",
            "_view_name": "HBoxView",
            "box_style": "",
            "children": [
              "IPY_MODEL_ba094b6f448943b2a759e398628b315c",
              "IPY_MODEL_407b908bef894fa1969176795ae501ee",
              "IPY_MODEL_7fca3723141f4d88b531ac57a209cf5c"
            ],
            "layout": "IPY_MODEL_675f5aacd5de45878103b46cf30d3f23"
          }
        },
        "ba094b6f448943b2a759e398628b315c": {
          "model_module": "@jupyter-widgets/controls",
          "model_name": "HTMLModel",
          "model_module_version": "1.5.0",
          "state": {
            "_dom_classes": [],
            "_model_module": "@jupyter-widgets/controls",
            "_model_module_version": "1.5.0",
            "_model_name": "HTMLModel",
            "_view_count": null,
            "_view_module": "@jupyter-widgets/controls",
            "_view_module_version": "1.5.0",
            "_view_name": "HTMLView",
            "description": "",
            "description_tooltip": null,
            "layout": "IPY_MODEL_5263189d7ee44550a258e9cfb5c820fd",
            "placeholder": "​",
            "style": "IPY_MODEL_b89809e1ccd649638f32811752d2b1e3",
            "value": "config.json: 100%"
          }
        },
        "407b908bef894fa1969176795ae501ee": {
          "model_module": "@jupyter-widgets/controls",
          "model_name": "FloatProgressModel",
          "model_module_version": "1.5.0",
          "state": {
            "_dom_classes": [],
            "_model_module": "@jupyter-widgets/controls",
            "_model_module_version": "1.5.0",
            "_model_name": "FloatProgressModel",
            "_view_count": null,
            "_view_module": "@jupyter-widgets/controls",
            "_view_module_version": "1.5.0",
            "_view_name": "ProgressView",
            "bar_style": "success",
            "description": "",
            "description_tooltip": null,
            "layout": "IPY_MODEL_a88e89fe509a4860b8ca7dd73a44bad7",
            "max": 590,
            "min": 0,
            "orientation": "horizontal",
            "style": "IPY_MODEL_d6e4223f9e6d45499e60ba3ff04395dc",
            "value": 590
          }
        },
        "7fca3723141f4d88b531ac57a209cf5c": {
          "model_module": "@jupyter-widgets/controls",
          "model_name": "HTMLModel",
          "model_module_version": "1.5.0",
          "state": {
            "_dom_classes": [],
            "_model_module": "@jupyter-widgets/controls",
            "_model_module_version": "1.5.0",
            "_model_name": "HTMLModel",
            "_view_count": null,
            "_view_module": "@jupyter-widgets/controls",
            "_view_module_version": "1.5.0",
            "_view_name": "HTMLView",
            "description": "",
            "description_tooltip": null,
            "layout": "IPY_MODEL_1c2d2c9a595a487ba5524b6bcb23420e",
            "placeholder": "​",
            "style": "IPY_MODEL_d016b43d7abd4315b2c74285e9a3b953",
            "value": " 590/590 [00:00&lt;00:00, 33.0kB/s]"
          }
        },
        "675f5aacd5de45878103b46cf30d3f23": {
          "model_module": "@jupyter-widgets/base",
          "model_name": "LayoutModel",
          "model_module_version": "1.2.0",
          "state": {
            "_model_module": "@jupyter-widgets/base",
            "_model_module_version": "1.2.0",
            "_model_name": "LayoutModel",
            "_view_count": null,
            "_view_module": "@jupyter-widgets/base",
            "_view_module_version": "1.2.0",
            "_view_name": "LayoutView",
            "align_content": null,
            "align_items": null,
            "align_self": null,
            "border": null,
            "bottom": null,
            "display": null,
            "flex": null,
            "flex_flow": null,
            "grid_area": null,
            "grid_auto_columns": null,
            "grid_auto_flow": null,
            "grid_auto_rows": null,
            "grid_column": null,
            "grid_gap": null,
            "grid_row": null,
            "grid_template_areas": null,
            "grid_template_columns": null,
            "grid_template_rows": null,
            "height": null,
            "justify_content": null,
            "justify_items": null,
            "left": null,
            "margin": null,
            "max_height": null,
            "max_width": null,
            "min_height": null,
            "min_width": null,
            "object_fit": null,
            "object_position": null,
            "order": null,
            "overflow": null,
            "overflow_x": null,
            "overflow_y": null,
            "padding": null,
            "right": null,
            "top": null,
            "visibility": null,
            "width": null
          }
        },
        "5263189d7ee44550a258e9cfb5c820fd": {
          "model_module": "@jupyter-widgets/base",
          "model_name": "LayoutModel",
          "model_module_version": "1.2.0",
          "state": {
            "_model_module": "@jupyter-widgets/base",
            "_model_module_version": "1.2.0",
            "_model_name": "LayoutModel",
            "_view_count": null,
            "_view_module": "@jupyter-widgets/base",
            "_view_module_version": "1.2.0",
            "_view_name": "LayoutView",
            "align_content": null,
            "align_items": null,
            "align_self": null,
            "border": null,
            "bottom": null,
            "display": null,
            "flex": null,
            "flex_flow": null,
            "grid_area": null,
            "grid_auto_columns": null,
            "grid_auto_flow": null,
            "grid_auto_rows": null,
            "grid_column": null,
            "grid_gap": null,
            "grid_row": null,
            "grid_template_areas": null,
            "grid_template_columns": null,
            "grid_template_rows": null,
            "height": null,
            "justify_content": null,
            "justify_items": null,
            "left": null,
            "margin": null,
            "max_height": null,
            "max_width": null,
            "min_height": null,
            "min_width": null,
            "object_fit": null,
            "object_position": null,
            "order": null,
            "overflow": null,
            "overflow_x": null,
            "overflow_y": null,
            "padding": null,
            "right": null,
            "top": null,
            "visibility": null,
            "width": null
          }
        },
        "b89809e1ccd649638f32811752d2b1e3": {
          "model_module": "@jupyter-widgets/controls",
          "model_name": "DescriptionStyleModel",
          "model_module_version": "1.5.0",
          "state": {
            "_model_module": "@jupyter-widgets/controls",
            "_model_module_version": "1.5.0",
            "_model_name": "DescriptionStyleModel",
            "_view_count": null,
            "_view_module": "@jupyter-widgets/base",
            "_view_module_version": "1.2.0",
            "_view_name": "StyleView",
            "description_width": ""
          }
        },
        "a88e89fe509a4860b8ca7dd73a44bad7": {
          "model_module": "@jupyter-widgets/base",
          "model_name": "LayoutModel",
          "model_module_version": "1.2.0",
          "state": {
            "_model_module": "@jupyter-widgets/base",
            "_model_module_version": "1.2.0",
            "_model_name": "LayoutModel",
            "_view_count": null,
            "_view_module": "@jupyter-widgets/base",
            "_view_module_version": "1.2.0",
            "_view_name": "LayoutView",
            "align_content": null,
            "align_items": null,
            "align_self": null,
            "border": null,
            "bottom": null,
            "display": null,
            "flex": null,
            "flex_flow": null,
            "grid_area": null,
            "grid_auto_columns": null,
            "grid_auto_flow": null,
            "grid_auto_rows": null,
            "grid_column": null,
            "grid_gap": null,
            "grid_row": null,
            "grid_template_areas": null,
            "grid_template_columns": null,
            "grid_template_rows": null,
            "height": null,
            "justify_content": null,
            "justify_items": null,
            "left": null,
            "margin": null,
            "max_height": null,
            "max_width": null,
            "min_height": null,
            "min_width": null,
            "object_fit": null,
            "object_position": null,
            "order": null,
            "overflow": null,
            "overflow_x": null,
            "overflow_y": null,
            "padding": null,
            "right": null,
            "top": null,
            "visibility": null,
            "width": null
          }
        },
        "d6e4223f9e6d45499e60ba3ff04395dc": {
          "model_module": "@jupyter-widgets/controls",
          "model_name": "ProgressStyleModel",
          "model_module_version": "1.5.0",
          "state": {
            "_model_module": "@jupyter-widgets/controls",
            "_model_module_version": "1.5.0",
            "_model_name": "ProgressStyleModel",
            "_view_count": null,
            "_view_module": "@jupyter-widgets/base",
            "_view_module_version": "1.2.0",
            "_view_name": "StyleView",
            "bar_color": null,
            "description_width": ""
          }
        },
        "1c2d2c9a595a487ba5524b6bcb23420e": {
          "model_module": "@jupyter-widgets/base",
          "model_name": "LayoutModel",
          "model_module_version": "1.2.0",
          "state": {
            "_model_module": "@jupyter-widgets/base",
            "_model_module_version": "1.2.0",
            "_model_name": "LayoutModel",
            "_view_count": null,
            "_view_module": "@jupyter-widgets/base",
            "_view_module_version": "1.2.0",
            "_view_name": "LayoutView",
            "align_content": null,
            "align_items": null,
            "align_self": null,
            "border": null,
            "bottom": null,
            "display": null,
            "flex": null,
            "flex_flow": null,
            "grid_area": null,
            "grid_auto_columns": null,
            "grid_auto_flow": null,
            "grid_auto_rows": null,
            "grid_column": null,
            "grid_gap": null,
            "grid_row": null,
            "grid_template_areas": null,
            "grid_template_columns": null,
            "grid_template_rows": null,
            "height": null,
            "justify_content": null,
            "justify_items": null,
            "left": null,
            "margin": null,
            "max_height": null,
            "max_width": null,
            "min_height": null,
            "min_width": null,
            "object_fit": null,
            "object_position": null,
            "order": null,
            "overflow": null,
            "overflow_x": null,
            "overflow_y": null,
            "padding": null,
            "right": null,
            "top": null,
            "visibility": null,
            "width": null
          }
        },
        "d016b43d7abd4315b2c74285e9a3b953": {
          "model_module": "@jupyter-widgets/controls",
          "model_name": "DescriptionStyleModel",
          "model_module_version": "1.5.0",
          "state": {
            "_model_module": "@jupyter-widgets/controls",
            "_model_module_version": "1.5.0",
            "_model_name": "DescriptionStyleModel",
            "_view_count": null,
            "_view_module": "@jupyter-widgets/base",
            "_view_module_version": "1.2.0",
            "_view_name": "StyleView",
            "description_width": ""
          }
        },
        "35bacd8c22844d5bb4e112a7cffd57b6": {
          "model_module": "@jupyter-widgets/controls",
          "model_name": "HBoxModel",
          "model_module_version": "1.5.0",
          "state": {
            "_dom_classes": [],
            "_model_module": "@jupyter-widgets/controls",
            "_model_module_version": "1.5.0",
            "_model_name": "HBoxModel",
            "_view_count": null,
            "_view_module": "@jupyter-widgets/controls",
            "_view_module_version": "1.5.0",
            "_view_name": "HBoxView",
            "box_style": "",
            "children": [
              "IPY_MODEL_3bda2e61f3bd4c36971107c8e60eaf8b",
              "IPY_MODEL_59b4740b91eb4217b93ba33d3845e4b7",
              "IPY_MODEL_dc5c30ebd028422f8cea1b13b6164c26"
            ],
            "layout": "IPY_MODEL_e35482eea1f8470da7f2e05b2c80d325"
          }
        },
        "3bda2e61f3bd4c36971107c8e60eaf8b": {
          "model_module": "@jupyter-widgets/controls",
          "model_name": "HTMLModel",
          "model_module_version": "1.5.0",
          "state": {
            "_dom_classes": [],
            "_model_module": "@jupyter-widgets/controls",
            "_model_module_version": "1.5.0",
            "_model_name": "HTMLModel",
            "_view_count": null,
            "_view_module": "@jupyter-widgets/controls",
            "_view_module_version": "1.5.0",
            "_view_name": "HTMLView",
            "description": "",
            "description_tooltip": null,
            "layout": "IPY_MODEL_33f693c611314695b60cc88417f7dfe2",
            "placeholder": "​",
            "style": "IPY_MODEL_bcd46c36dc254d76b38ebda2a46b6af9",
            "value": "tokenizer_config.json: 100%"
          }
        },
        "59b4740b91eb4217b93ba33d3845e4b7": {
          "model_module": "@jupyter-widgets/controls",
          "model_name": "FloatProgressModel",
          "model_module_version": "1.5.0",
          "state": {
            "_dom_classes": [],
            "_model_module": "@jupyter-widgets/controls",
            "_model_module_version": "1.5.0",
            "_model_name": "FloatProgressModel",
            "_view_count": null,
            "_view_module": "@jupyter-widgets/controls",
            "_view_module_version": "1.5.0",
            "_view_name": "ProgressView",
            "bar_style": "success",
            "description": "",
            "description_tooltip": null,
            "layout": "IPY_MODEL_8553edb5d2e245f1b762ad62c14987ca",
            "max": 24,
            "min": 0,
            "orientation": "horizontal",
            "style": "IPY_MODEL_79e00b2e8aee41c4a3710690f789186c",
            "value": 24
          }
        },
        "dc5c30ebd028422f8cea1b13b6164c26": {
          "model_module": "@jupyter-widgets/controls",
          "model_name": "HTMLModel",
          "model_module_version": "1.5.0",
          "state": {
            "_dom_classes": [],
            "_model_module": "@jupyter-widgets/controls",
            "_model_module_version": "1.5.0",
            "_model_name": "HTMLModel",
            "_view_count": null,
            "_view_module": "@jupyter-widgets/controls",
            "_view_module_version": "1.5.0",
            "_view_name": "HTMLView",
            "description": "",
            "description_tooltip": null,
            "layout": "IPY_MODEL_77007d26e2504e70bc4ebdda4638293f",
            "placeholder": "​",
            "style": "IPY_MODEL_08013b1d693344b18a8c230937525ed3",
            "value": " 24.0/24.0 [00:00&lt;00:00, 1.22kB/s]"
          }
        },
        "e35482eea1f8470da7f2e05b2c80d325": {
          "model_module": "@jupyter-widgets/base",
          "model_name": "LayoutModel",
          "model_module_version": "1.2.0",
          "state": {
            "_model_module": "@jupyter-widgets/base",
            "_model_module_version": "1.2.0",
            "_model_name": "LayoutModel",
            "_view_count": null,
            "_view_module": "@jupyter-widgets/base",
            "_view_module_version": "1.2.0",
            "_view_name": "LayoutView",
            "align_content": null,
            "align_items": null,
            "align_self": null,
            "border": null,
            "bottom": null,
            "display": null,
            "flex": null,
            "flex_flow": null,
            "grid_area": null,
            "grid_auto_columns": null,
            "grid_auto_flow": null,
            "grid_auto_rows": null,
            "grid_column": null,
            "grid_gap": null,
            "grid_row": null,
            "grid_template_areas": null,
            "grid_template_columns": null,
            "grid_template_rows": null,
            "height": null,
            "justify_content": null,
            "justify_items": null,
            "left": null,
            "margin": null,
            "max_height": null,
            "max_width": null,
            "min_height": null,
            "min_width": null,
            "object_fit": null,
            "object_position": null,
            "order": null,
            "overflow": null,
            "overflow_x": null,
            "overflow_y": null,
            "padding": null,
            "right": null,
            "top": null,
            "visibility": null,
            "width": null
          }
        },
        "33f693c611314695b60cc88417f7dfe2": {
          "model_module": "@jupyter-widgets/base",
          "model_name": "LayoutModel",
          "model_module_version": "1.2.0",
          "state": {
            "_model_module": "@jupyter-widgets/base",
            "_model_module_version": "1.2.0",
            "_model_name": "LayoutModel",
            "_view_count": null,
            "_view_module": "@jupyter-widgets/base",
            "_view_module_version": "1.2.0",
            "_view_name": "LayoutView",
            "align_content": null,
            "align_items": null,
            "align_self": null,
            "border": null,
            "bottom": null,
            "display": null,
            "flex": null,
            "flex_flow": null,
            "grid_area": null,
            "grid_auto_columns": null,
            "grid_auto_flow": null,
            "grid_auto_rows": null,
            "grid_column": null,
            "grid_gap": null,
            "grid_row": null,
            "grid_template_areas": null,
            "grid_template_columns": null,
            "grid_template_rows": null,
            "height": null,
            "justify_content": null,
            "justify_items": null,
            "left": null,
            "margin": null,
            "max_height": null,
            "max_width": null,
            "min_height": null,
            "min_width": null,
            "object_fit": null,
            "object_position": null,
            "order": null,
            "overflow": null,
            "overflow_x": null,
            "overflow_y": null,
            "padding": null,
            "right": null,
            "top": null,
            "visibility": null,
            "width": null
          }
        },
        "bcd46c36dc254d76b38ebda2a46b6af9": {
          "model_module": "@jupyter-widgets/controls",
          "model_name": "DescriptionStyleModel",
          "model_module_version": "1.5.0",
          "state": {
            "_model_module": "@jupyter-widgets/controls",
            "_model_module_version": "1.5.0",
            "_model_name": "DescriptionStyleModel",
            "_view_count": null,
            "_view_module": "@jupyter-widgets/base",
            "_view_module_version": "1.2.0",
            "_view_name": "StyleView",
            "description_width": ""
          }
        },
        "8553edb5d2e245f1b762ad62c14987ca": {
          "model_module": "@jupyter-widgets/base",
          "model_name": "LayoutModel",
          "model_module_version": "1.2.0",
          "state": {
            "_model_module": "@jupyter-widgets/base",
            "_model_module_version": "1.2.0",
            "_model_name": "LayoutModel",
            "_view_count": null,
            "_view_module": "@jupyter-widgets/base",
            "_view_module_version": "1.2.0",
            "_view_name": "LayoutView",
            "align_content": null,
            "align_items": null,
            "align_self": null,
            "border": null,
            "bottom": null,
            "display": null,
            "flex": null,
            "flex_flow": null,
            "grid_area": null,
            "grid_auto_columns": null,
            "grid_auto_flow": null,
            "grid_auto_rows": null,
            "grid_column": null,
            "grid_gap": null,
            "grid_row": null,
            "grid_template_areas": null,
            "grid_template_columns": null,
            "grid_template_rows": null,
            "height": null,
            "justify_content": null,
            "justify_items": null,
            "left": null,
            "margin": null,
            "max_height": null,
            "max_width": null,
            "min_height": null,
            "min_width": null,
            "object_fit": null,
            "object_position": null,
            "order": null,
            "overflow": null,
            "overflow_x": null,
            "overflow_y": null,
            "padding": null,
            "right": null,
            "top": null,
            "visibility": null,
            "width": null
          }
        },
        "79e00b2e8aee41c4a3710690f789186c": {
          "model_module": "@jupyter-widgets/controls",
          "model_name": "ProgressStyleModel",
          "model_module_version": "1.5.0",
          "state": {
            "_model_module": "@jupyter-widgets/controls",
            "_model_module_version": "1.5.0",
            "_model_name": "ProgressStyleModel",
            "_view_count": null,
            "_view_module": "@jupyter-widgets/base",
            "_view_module_version": "1.2.0",
            "_view_name": "StyleView",
            "bar_color": null,
            "description_width": ""
          }
        },
        "77007d26e2504e70bc4ebdda4638293f": {
          "model_module": "@jupyter-widgets/base",
          "model_name": "LayoutModel",
          "model_module_version": "1.2.0",
          "state": {
            "_model_module": "@jupyter-widgets/base",
            "_model_module_version": "1.2.0",
            "_model_name": "LayoutModel",
            "_view_count": null,
            "_view_module": "@jupyter-widgets/base",
            "_view_module_version": "1.2.0",
            "_view_name": "LayoutView",
            "align_content": null,
            "align_items": null,
            "align_self": null,
            "border": null,
            "bottom": null,
            "display": null,
            "flex": null,
            "flex_flow": null,
            "grid_area": null,
            "grid_auto_columns": null,
            "grid_auto_flow": null,
            "grid_auto_rows": null,
            "grid_column": null,
            "grid_gap": null,
            "grid_row": null,
            "grid_template_areas": null,
            "grid_template_columns": null,
            "grid_template_rows": null,
            "height": null,
            "justify_content": null,
            "justify_items": null,
            "left": null,
            "margin": null,
            "max_height": null,
            "max_width": null,
            "min_height": null,
            "min_width": null,
            "object_fit": null,
            "object_position": null,
            "order": null,
            "overflow": null,
            "overflow_x": null,
            "overflow_y": null,
            "padding": null,
            "right": null,
            "top": null,
            "visibility": null,
            "width": null
          }
        },
        "08013b1d693344b18a8c230937525ed3": {
          "model_module": "@jupyter-widgets/controls",
          "model_name": "DescriptionStyleModel",
          "model_module_version": "1.5.0",
          "state": {
            "_model_module": "@jupyter-widgets/controls",
            "_model_module_version": "1.5.0",
            "_model_name": "DescriptionStyleModel",
            "_view_count": null,
            "_view_module": "@jupyter-widgets/base",
            "_view_module_version": "1.2.0",
            "_view_name": "StyleView",
            "description_width": ""
          }
        },
        "b0f008fb43404a6e9fecdbe96d0ddd09": {
          "model_module": "@jupyter-widgets/controls",
          "model_name": "HBoxModel",
          "model_module_version": "1.5.0",
          "state": {
            "_dom_classes": [],
            "_model_module": "@jupyter-widgets/controls",
            "_model_module_version": "1.5.0",
            "_model_name": "HBoxModel",
            "_view_count": null,
            "_view_module": "@jupyter-widgets/controls",
            "_view_module_version": "1.5.0",
            "_view_name": "HBoxView",
            "box_style": "",
            "children": [
              "IPY_MODEL_0673fdd05698465ba4b6617d12af5ed4",
              "IPY_MODEL_76f479dbe6e941688e737e895902f7b0",
              "IPY_MODEL_be32b36fc9d84250b43d63d7cdba409b"
            ],
            "layout": "IPY_MODEL_1653cdb95b5f4449baa3e365f6d8fac0"
          }
        },
        "0673fdd05698465ba4b6617d12af5ed4": {
          "model_module": "@jupyter-widgets/controls",
          "model_name": "HTMLModel",
          "model_module_version": "1.5.0",
          "state": {
            "_dom_classes": [],
            "_model_module": "@jupyter-widgets/controls",
            "_model_module_version": "1.5.0",
            "_model_name": "HTMLModel",
            "_view_count": null,
            "_view_module": "@jupyter-widgets/controls",
            "_view_module_version": "1.5.0",
            "_view_name": "HTMLView",
            "description": "",
            "description_tooltip": null,
            "layout": "IPY_MODEL_843d2c260f0447048b0463a4a485afc1",
            "placeholder": "​",
            "style": "IPY_MODEL_66bcdd18773644a5a3e5f0ecb07931cc",
            "value": "config.json: 100%"
          }
        },
        "76f479dbe6e941688e737e895902f7b0": {
          "model_module": "@jupyter-widgets/controls",
          "model_name": "FloatProgressModel",
          "model_module_version": "1.5.0",
          "state": {
            "_dom_classes": [],
            "_model_module": "@jupyter-widgets/controls",
            "_model_module_version": "1.5.0",
            "_model_name": "FloatProgressModel",
            "_view_count": null,
            "_view_module": "@jupyter-widgets/controls",
            "_view_module_version": "1.5.0",
            "_view_name": "ProgressView",
            "bar_style": "success",
            "description": "",
            "description_tooltip": null,
            "layout": "IPY_MODEL_98a162b8e5d348bab9b7931cadbc4dfd",
            "max": 642,
            "min": 0,
            "orientation": "horizontal",
            "style": "IPY_MODEL_fa14a5f6311b4829be642c502804cda8",
            "value": 642
          }
        },
        "be32b36fc9d84250b43d63d7cdba409b": {
          "model_module": "@jupyter-widgets/controls",
          "model_name": "HTMLModel",
          "model_module_version": "1.5.0",
          "state": {
            "_dom_classes": [],
            "_model_module": "@jupyter-widgets/controls",
            "_model_module_version": "1.5.0",
            "_model_name": "HTMLModel",
            "_view_count": null,
            "_view_module": "@jupyter-widgets/controls",
            "_view_module_version": "1.5.0",
            "_view_name": "HTMLView",
            "description": "",
            "description_tooltip": null,
            "layout": "IPY_MODEL_2cc6031bbf1f4ddfbbf98fe5e5327930",
            "placeholder": "​",
            "style": "IPY_MODEL_88c937eccaf943c6ac4587c08fb058bb",
            "value": " 642/642 [00:00&lt;00:00, 31.5kB/s]"
          }
        },
        "1653cdb95b5f4449baa3e365f6d8fac0": {
          "model_module": "@jupyter-widgets/base",
          "model_name": "LayoutModel",
          "model_module_version": "1.2.0",
          "state": {
            "_model_module": "@jupyter-widgets/base",
            "_model_module_version": "1.2.0",
            "_model_name": "LayoutModel",
            "_view_count": null,
            "_view_module": "@jupyter-widgets/base",
            "_view_module_version": "1.2.0",
            "_view_name": "LayoutView",
            "align_content": null,
            "align_items": null,
            "align_self": null,
            "border": null,
            "bottom": null,
            "display": null,
            "flex": null,
            "flex_flow": null,
            "grid_area": null,
            "grid_auto_columns": null,
            "grid_auto_flow": null,
            "grid_auto_rows": null,
            "grid_column": null,
            "grid_gap": null,
            "grid_row": null,
            "grid_template_areas": null,
            "grid_template_columns": null,
            "grid_template_rows": null,
            "height": null,
            "justify_content": null,
            "justify_items": null,
            "left": null,
            "margin": null,
            "max_height": null,
            "max_width": null,
            "min_height": null,
            "min_width": null,
            "object_fit": null,
            "object_position": null,
            "order": null,
            "overflow": null,
            "overflow_x": null,
            "overflow_y": null,
            "padding": null,
            "right": null,
            "top": null,
            "visibility": null,
            "width": null
          }
        },
        "843d2c260f0447048b0463a4a485afc1": {
          "model_module": "@jupyter-widgets/base",
          "model_name": "LayoutModel",
          "model_module_version": "1.2.0",
          "state": {
            "_model_module": "@jupyter-widgets/base",
            "_model_module_version": "1.2.0",
            "_model_name": "LayoutModel",
            "_view_count": null,
            "_view_module": "@jupyter-widgets/base",
            "_view_module_version": "1.2.0",
            "_view_name": "LayoutView",
            "align_content": null,
            "align_items": null,
            "align_self": null,
            "border": null,
            "bottom": null,
            "display": null,
            "flex": null,
            "flex_flow": null,
            "grid_area": null,
            "grid_auto_columns": null,
            "grid_auto_flow": null,
            "grid_auto_rows": null,
            "grid_column": null,
            "grid_gap": null,
            "grid_row": null,
            "grid_template_areas": null,
            "grid_template_columns": null,
            "grid_template_rows": null,
            "height": null,
            "justify_content": null,
            "justify_items": null,
            "left": null,
            "margin": null,
            "max_height": null,
            "max_width": null,
            "min_height": null,
            "min_width": null,
            "object_fit": null,
            "object_position": null,
            "order": null,
            "overflow": null,
            "overflow_x": null,
            "overflow_y": null,
            "padding": null,
            "right": null,
            "top": null,
            "visibility": null,
            "width": null
          }
        },
        "66bcdd18773644a5a3e5f0ecb07931cc": {
          "model_module": "@jupyter-widgets/controls",
          "model_name": "DescriptionStyleModel",
          "model_module_version": "1.5.0",
          "state": {
            "_model_module": "@jupyter-widgets/controls",
            "_model_module_version": "1.5.0",
            "_model_name": "DescriptionStyleModel",
            "_view_count": null,
            "_view_module": "@jupyter-widgets/base",
            "_view_module_version": "1.2.0",
            "_view_name": "StyleView",
            "description_width": ""
          }
        },
        "98a162b8e5d348bab9b7931cadbc4dfd": {
          "model_module": "@jupyter-widgets/base",
          "model_name": "LayoutModel",
          "model_module_version": "1.2.0",
          "state": {
            "_model_module": "@jupyter-widgets/base",
            "_model_module_version": "1.2.0",
            "_model_name": "LayoutModel",
            "_view_count": null,
            "_view_module": "@jupyter-widgets/base",
            "_view_module_version": "1.2.0",
            "_view_name": "LayoutView",
            "align_content": null,
            "align_items": null,
            "align_self": null,
            "border": null,
            "bottom": null,
            "display": null,
            "flex": null,
            "flex_flow": null,
            "grid_area": null,
            "grid_auto_columns": null,
            "grid_auto_flow": null,
            "grid_auto_rows": null,
            "grid_column": null,
            "grid_gap": null,
            "grid_row": null,
            "grid_template_areas": null,
            "grid_template_columns": null,
            "grid_template_rows": null,
            "height": null,
            "justify_content": null,
            "justify_items": null,
            "left": null,
            "margin": null,
            "max_height": null,
            "max_width": null,
            "min_height": null,
            "min_width": null,
            "object_fit": null,
            "object_position": null,
            "order": null,
            "overflow": null,
            "overflow_x": null,
            "overflow_y": null,
            "padding": null,
            "right": null,
            "top": null,
            "visibility": null,
            "width": null
          }
        },
        "fa14a5f6311b4829be642c502804cda8": {
          "model_module": "@jupyter-widgets/controls",
          "model_name": "ProgressStyleModel",
          "model_module_version": "1.5.0",
          "state": {
            "_model_module": "@jupyter-widgets/controls",
            "_model_module_version": "1.5.0",
            "_model_name": "ProgressStyleModel",
            "_view_count": null,
            "_view_module": "@jupyter-widgets/base",
            "_view_module_version": "1.2.0",
            "_view_name": "StyleView",
            "bar_color": null,
            "description_width": ""
          }
        },
        "2cc6031bbf1f4ddfbbf98fe5e5327930": {
          "model_module": "@jupyter-widgets/base",
          "model_name": "LayoutModel",
          "model_module_version": "1.2.0",
          "state": {
            "_model_module": "@jupyter-widgets/base",
            "_model_module_version": "1.2.0",
            "_model_name": "LayoutModel",
            "_view_count": null,
            "_view_module": "@jupyter-widgets/base",
            "_view_module_version": "1.2.0",
            "_view_name": "LayoutView",
            "align_content": null,
            "align_items": null,
            "align_self": null,
            "border": null,
            "bottom": null,
            "display": null,
            "flex": null,
            "flex_flow": null,
            "grid_area": null,
            "grid_auto_columns": null,
            "grid_auto_flow": null,
            "grid_auto_rows": null,
            "grid_column": null,
            "grid_gap": null,
            "grid_row": null,
            "grid_template_areas": null,
            "grid_template_columns": null,
            "grid_template_rows": null,
            "height": null,
            "justify_content": null,
            "justify_items": null,
            "left": null,
            "margin": null,
            "max_height": null,
            "max_width": null,
            "min_height": null,
            "min_width": null,
            "object_fit": null,
            "object_position": null,
            "order": null,
            "overflow": null,
            "overflow_x": null,
            "overflow_y": null,
            "padding": null,
            "right": null,
            "top": null,
            "visibility": null,
            "width": null
          }
        },
        "88c937eccaf943c6ac4587c08fb058bb": {
          "model_module": "@jupyter-widgets/controls",
          "model_name": "DescriptionStyleModel",
          "model_module_version": "1.5.0",
          "state": {
            "_model_module": "@jupyter-widgets/controls",
            "_model_module_version": "1.5.0",
            "_model_name": "DescriptionStyleModel",
            "_view_count": null,
            "_view_module": "@jupyter-widgets/base",
            "_view_module_version": "1.2.0",
            "_view_name": "StyleView",
            "description_width": ""
          }
        },
        "a8d3bb5938ee49b286cda5babe38f6f9": {
          "model_module": "@jupyter-widgets/controls",
          "model_name": "HBoxModel",
          "model_module_version": "1.5.0",
          "state": {
            "_dom_classes": [],
            "_model_module": "@jupyter-widgets/controls",
            "_model_module_version": "1.5.0",
            "_model_name": "HBoxModel",
            "_view_count": null,
            "_view_module": "@jupyter-widgets/controls",
            "_view_module_version": "1.5.0",
            "_view_name": "HBoxView",
            "box_style": "",
            "children": [
              "IPY_MODEL_aa9e58eff8b14818ae6032c24c8ab1ae",
              "IPY_MODEL_6bccab3127754f95a9e7554edfaca178",
              "IPY_MODEL_103a2367675947cb8c428c08ebb7dab9"
            ],
            "layout": "IPY_MODEL_be3b7771cdb9470d939dbd874ffd2fa9"
          }
        },
        "aa9e58eff8b14818ae6032c24c8ab1ae": {
          "model_module": "@jupyter-widgets/controls",
          "model_name": "HTMLModel",
          "model_module_version": "1.5.0",
          "state": {
            "_dom_classes": [],
            "_model_module": "@jupyter-widgets/controls",
            "_model_module_version": "1.5.0",
            "_model_name": "HTMLModel",
            "_view_count": null,
            "_view_module": "@jupyter-widgets/controls",
            "_view_module_version": "1.5.0",
            "_view_name": "HTMLView",
            "description": "",
            "description_tooltip": null,
            "layout": "IPY_MODEL_ea48bd756c73411bb7d83ef766f5409d",
            "placeholder": "​",
            "style": "IPY_MODEL_b2a8a39ed7184f1bb47783f3c9d3cef0",
            "value": "vocab.txt: 100%"
          }
        },
        "6bccab3127754f95a9e7554edfaca178": {
          "model_module": "@jupyter-widgets/controls",
          "model_name": "FloatProgressModel",
          "model_module_version": "1.5.0",
          "state": {
            "_dom_classes": [],
            "_model_module": "@jupyter-widgets/controls",
            "_model_module_version": "1.5.0",
            "_model_name": "FloatProgressModel",
            "_view_count": null,
            "_view_module": "@jupyter-widgets/controls",
            "_view_module_version": "1.5.0",
            "_view_name": "ProgressView",
            "bar_style": "success",
            "description": "",
            "description_tooltip": null,
            "layout": "IPY_MODEL_2aba18a5f19b4cefae54c1e854e57248",
            "max": 1649718,
            "min": 0,
            "orientation": "horizontal",
            "style": "IPY_MODEL_459aa7130408437c9d1f1e384dd783dd",
            "value": 1649718
          }
        },
        "103a2367675947cb8c428c08ebb7dab9": {
          "model_module": "@jupyter-widgets/controls",
          "model_name": "HTMLModel",
          "model_module_version": "1.5.0",
          "state": {
            "_dom_classes": [],
            "_model_module": "@jupyter-widgets/controls",
            "_model_module_version": "1.5.0",
            "_model_name": "HTMLModel",
            "_view_count": null,
            "_view_module": "@jupyter-widgets/controls",
            "_view_module_version": "1.5.0",
            "_view_name": "HTMLView",
            "description": "",
            "description_tooltip": null,
            "layout": "IPY_MODEL_d9e114dac2414ae39ead8f87de417ce9",
            "placeholder": "​",
            "style": "IPY_MODEL_6076fab72fae4d51a8cbac15f162c702",
            "value": " 1.65M/1.65M [00:00&lt;00:00, 6.69MB/s]"
          }
        },
        "be3b7771cdb9470d939dbd874ffd2fa9": {
          "model_module": "@jupyter-widgets/base",
          "model_name": "LayoutModel",
          "model_module_version": "1.2.0",
          "state": {
            "_model_module": "@jupyter-widgets/base",
            "_model_module_version": "1.2.0",
            "_model_name": "LayoutModel",
            "_view_count": null,
            "_view_module": "@jupyter-widgets/base",
            "_view_module_version": "1.2.0",
            "_view_name": "LayoutView",
            "align_content": null,
            "align_items": null,
            "align_self": null,
            "border": null,
            "bottom": null,
            "display": null,
            "flex": null,
            "flex_flow": null,
            "grid_area": null,
            "grid_auto_columns": null,
            "grid_auto_flow": null,
            "grid_auto_rows": null,
            "grid_column": null,
            "grid_gap": null,
            "grid_row": null,
            "grid_template_areas": null,
            "grid_template_columns": null,
            "grid_template_rows": null,
            "height": null,
            "justify_content": null,
            "justify_items": null,
            "left": null,
            "margin": null,
            "max_height": null,
            "max_width": null,
            "min_height": null,
            "min_width": null,
            "object_fit": null,
            "object_position": null,
            "order": null,
            "overflow": null,
            "overflow_x": null,
            "overflow_y": null,
            "padding": null,
            "right": null,
            "top": null,
            "visibility": null,
            "width": null
          }
        },
        "ea48bd756c73411bb7d83ef766f5409d": {
          "model_module": "@jupyter-widgets/base",
          "model_name": "LayoutModel",
          "model_module_version": "1.2.0",
          "state": {
            "_model_module": "@jupyter-widgets/base",
            "_model_module_version": "1.2.0",
            "_model_name": "LayoutModel",
            "_view_count": null,
            "_view_module": "@jupyter-widgets/base",
            "_view_module_version": "1.2.0",
            "_view_name": "LayoutView",
            "align_content": null,
            "align_items": null,
            "align_self": null,
            "border": null,
            "bottom": null,
            "display": null,
            "flex": null,
            "flex_flow": null,
            "grid_area": null,
            "grid_auto_columns": null,
            "grid_auto_flow": null,
            "grid_auto_rows": null,
            "grid_column": null,
            "grid_gap": null,
            "grid_row": null,
            "grid_template_areas": null,
            "grid_template_columns": null,
            "grid_template_rows": null,
            "height": null,
            "justify_content": null,
            "justify_items": null,
            "left": null,
            "margin": null,
            "max_height": null,
            "max_width": null,
            "min_height": null,
            "min_width": null,
            "object_fit": null,
            "object_position": null,
            "order": null,
            "overflow": null,
            "overflow_x": null,
            "overflow_y": null,
            "padding": null,
            "right": null,
            "top": null,
            "visibility": null,
            "width": null
          }
        },
        "b2a8a39ed7184f1bb47783f3c9d3cef0": {
          "model_module": "@jupyter-widgets/controls",
          "model_name": "DescriptionStyleModel",
          "model_module_version": "1.5.0",
          "state": {
            "_model_module": "@jupyter-widgets/controls",
            "_model_module_version": "1.5.0",
            "_model_name": "DescriptionStyleModel",
            "_view_count": null,
            "_view_module": "@jupyter-widgets/base",
            "_view_module_version": "1.2.0",
            "_view_name": "StyleView",
            "description_width": ""
          }
        },
        "2aba18a5f19b4cefae54c1e854e57248": {
          "model_module": "@jupyter-widgets/base",
          "model_name": "LayoutModel",
          "model_module_version": "1.2.0",
          "state": {
            "_model_module": "@jupyter-widgets/base",
            "_model_module_version": "1.2.0",
            "_model_name": "LayoutModel",
            "_view_count": null,
            "_view_module": "@jupyter-widgets/base",
            "_view_module_version": "1.2.0",
            "_view_name": "LayoutView",
            "align_content": null,
            "align_items": null,
            "align_self": null,
            "border": null,
            "bottom": null,
            "display": null,
            "flex": null,
            "flex_flow": null,
            "grid_area": null,
            "grid_auto_columns": null,
            "grid_auto_flow": null,
            "grid_auto_rows": null,
            "grid_column": null,
            "grid_gap": null,
            "grid_row": null,
            "grid_template_areas": null,
            "grid_template_columns": null,
            "grid_template_rows": null,
            "height": null,
            "justify_content": null,
            "justify_items": null,
            "left": null,
            "margin": null,
            "max_height": null,
            "max_width": null,
            "min_height": null,
            "min_width": null,
            "object_fit": null,
            "object_position": null,
            "order": null,
            "overflow": null,
            "overflow_x": null,
            "overflow_y": null,
            "padding": null,
            "right": null,
            "top": null,
            "visibility": null,
            "width": null
          }
        },
        "459aa7130408437c9d1f1e384dd783dd": {
          "model_module": "@jupyter-widgets/controls",
          "model_name": "ProgressStyleModel",
          "model_module_version": "1.5.0",
          "state": {
            "_model_module": "@jupyter-widgets/controls",
            "_model_module_version": "1.5.0",
            "_model_name": "ProgressStyleModel",
            "_view_count": null,
            "_view_module": "@jupyter-widgets/base",
            "_view_module_version": "1.2.0",
            "_view_name": "StyleView",
            "bar_color": null,
            "description_width": ""
          }
        },
        "d9e114dac2414ae39ead8f87de417ce9": {
          "model_module": "@jupyter-widgets/base",
          "model_name": "LayoutModel",
          "model_module_version": "1.2.0",
          "state": {
            "_model_module": "@jupyter-widgets/base",
            "_model_module_version": "1.2.0",
            "_model_name": "LayoutModel",
            "_view_count": null,
            "_view_module": "@jupyter-widgets/base",
            "_view_module_version": "1.2.0",
            "_view_name": "LayoutView",
            "align_content": null,
            "align_items": null,
            "align_self": null,
            "border": null,
            "bottom": null,
            "display": null,
            "flex": null,
            "flex_flow": null,
            "grid_area": null,
            "grid_auto_columns": null,
            "grid_auto_flow": null,
            "grid_auto_rows": null,
            "grid_column": null,
            "grid_gap": null,
            "grid_row": null,
            "grid_template_areas": null,
            "grid_template_columns": null,
            "grid_template_rows": null,
            "height": null,
            "justify_content": null,
            "justify_items": null,
            "left": null,
            "margin": null,
            "max_height": null,
            "max_width": null,
            "min_height": null,
            "min_width": null,
            "object_fit": null,
            "object_position": null,
            "order": null,
            "overflow": null,
            "overflow_x": null,
            "overflow_y": null,
            "padding": null,
            "right": null,
            "top": null,
            "visibility": null,
            "width": null
          }
        },
        "6076fab72fae4d51a8cbac15f162c702": {
          "model_module": "@jupyter-widgets/controls",
          "model_name": "DescriptionStyleModel",
          "model_module_version": "1.5.0",
          "state": {
            "_model_module": "@jupyter-widgets/controls",
            "_model_module_version": "1.5.0",
            "_model_name": "DescriptionStyleModel",
            "_view_count": null,
            "_view_module": "@jupyter-widgets/base",
            "_view_module_version": "1.2.0",
            "_view_name": "StyleView",
            "description_width": ""
          }
        },
        "7ed2bddab41448dfb0954822548e4c4e": {
          "model_module": "@jupyter-widgets/controls",
          "model_name": "HBoxModel",
          "model_module_version": "1.5.0",
          "state": {
            "_dom_classes": [],
            "_model_module": "@jupyter-widgets/controls",
            "_model_module_version": "1.5.0",
            "_model_name": "HBoxModel",
            "_view_count": null,
            "_view_module": "@jupyter-widgets/controls",
            "_view_module_version": "1.5.0",
            "_view_name": "HBoxView",
            "box_style": "",
            "children": [
              "IPY_MODEL_8997b926901447e9b2bd3dbd8993546e",
              "IPY_MODEL_76bfd6789ccf46a4b2bf8ffb341099d4",
              "IPY_MODEL_5409c87d9b694acd88b114f2eee92f0a"
            ],
            "layout": "IPY_MODEL_0a8f962707b84630aa772b5971136de1"
          }
        },
        "8997b926901447e9b2bd3dbd8993546e": {
          "model_module": "@jupyter-widgets/controls",
          "model_name": "HTMLModel",
          "model_module_version": "1.5.0",
          "state": {
            "_dom_classes": [],
            "_model_module": "@jupyter-widgets/controls",
            "_model_module_version": "1.5.0",
            "_model_name": "HTMLModel",
            "_view_count": null,
            "_view_module": "@jupyter-widgets/controls",
            "_view_module_version": "1.5.0",
            "_view_name": "HTMLView",
            "description": "",
            "description_tooltip": null,
            "layout": "IPY_MODEL_7f3a8da5ad154307bb79f07374bc3757",
            "placeholder": "​",
            "style": "IPY_MODEL_5c11be53ca124557853c8a72733c9cbe",
            "value": "special_tokens_map.json: 100%"
          }
        },
        "76bfd6789ccf46a4b2bf8ffb341099d4": {
          "model_module": "@jupyter-widgets/controls",
          "model_name": "FloatProgressModel",
          "model_module_version": "1.5.0",
          "state": {
            "_dom_classes": [],
            "_model_module": "@jupyter-widgets/controls",
            "_model_module_version": "1.5.0",
            "_model_name": "FloatProgressModel",
            "_view_count": null,
            "_view_module": "@jupyter-widgets/controls",
            "_view_module_version": "1.5.0",
            "_view_name": "ProgressView",
            "bar_style": "success",
            "description": "",
            "description_tooltip": null,
            "layout": "IPY_MODEL_ae71f3c09d5c42b6abd159a1506c129f",
            "max": 112,
            "min": 0,
            "orientation": "horizontal",
            "style": "IPY_MODEL_f055865d11dd4d0f93cf2f9476ecd06f",
            "value": 112
          }
        },
        "5409c87d9b694acd88b114f2eee92f0a": {
          "model_module": "@jupyter-widgets/controls",
          "model_name": "HTMLModel",
          "model_module_version": "1.5.0",
          "state": {
            "_dom_classes": [],
            "_model_module": "@jupyter-widgets/controls",
            "_model_module_version": "1.5.0",
            "_model_name": "HTMLModel",
            "_view_count": null,
            "_view_module": "@jupyter-widgets/controls",
            "_view_module_version": "1.5.0",
            "_view_name": "HTMLView",
            "description": "",
            "description_tooltip": null,
            "layout": "IPY_MODEL_76c1b1cf2bba486e91ff7b33c954c094",
            "placeholder": "​",
            "style": "IPY_MODEL_5628a936a231443c894ec5512aa66173",
            "value": " 112/112 [00:00&lt;00:00, 4.41kB/s]"
          }
        },
        "0a8f962707b84630aa772b5971136de1": {
          "model_module": "@jupyter-widgets/base",
          "model_name": "LayoutModel",
          "model_module_version": "1.2.0",
          "state": {
            "_model_module": "@jupyter-widgets/base",
            "_model_module_version": "1.2.0",
            "_model_name": "LayoutModel",
            "_view_count": null,
            "_view_module": "@jupyter-widgets/base",
            "_view_module_version": "1.2.0",
            "_view_name": "LayoutView",
            "align_content": null,
            "align_items": null,
            "align_self": null,
            "border": null,
            "bottom": null,
            "display": null,
            "flex": null,
            "flex_flow": null,
            "grid_area": null,
            "grid_auto_columns": null,
            "grid_auto_flow": null,
            "grid_auto_rows": null,
            "grid_column": null,
            "grid_gap": null,
            "grid_row": null,
            "grid_template_areas": null,
            "grid_template_columns": null,
            "grid_template_rows": null,
            "height": null,
            "justify_content": null,
            "justify_items": null,
            "left": null,
            "margin": null,
            "max_height": null,
            "max_width": null,
            "min_height": null,
            "min_width": null,
            "object_fit": null,
            "object_position": null,
            "order": null,
            "overflow": null,
            "overflow_x": null,
            "overflow_y": null,
            "padding": null,
            "right": null,
            "top": null,
            "visibility": null,
            "width": null
          }
        },
        "7f3a8da5ad154307bb79f07374bc3757": {
          "model_module": "@jupyter-widgets/base",
          "model_name": "LayoutModel",
          "model_module_version": "1.2.0",
          "state": {
            "_model_module": "@jupyter-widgets/base",
            "_model_module_version": "1.2.0",
            "_model_name": "LayoutModel",
            "_view_count": null,
            "_view_module": "@jupyter-widgets/base",
            "_view_module_version": "1.2.0",
            "_view_name": "LayoutView",
            "align_content": null,
            "align_items": null,
            "align_self": null,
            "border": null,
            "bottom": null,
            "display": null,
            "flex": null,
            "flex_flow": null,
            "grid_area": null,
            "grid_auto_columns": null,
            "grid_auto_flow": null,
            "grid_auto_rows": null,
            "grid_column": null,
            "grid_gap": null,
            "grid_row": null,
            "grid_template_areas": null,
            "grid_template_columns": null,
            "grid_template_rows": null,
            "height": null,
            "justify_content": null,
            "justify_items": null,
            "left": null,
            "margin": null,
            "max_height": null,
            "max_width": null,
            "min_height": null,
            "min_width": null,
            "object_fit": null,
            "object_position": null,
            "order": null,
            "overflow": null,
            "overflow_x": null,
            "overflow_y": null,
            "padding": null,
            "right": null,
            "top": null,
            "visibility": null,
            "width": null
          }
        },
        "5c11be53ca124557853c8a72733c9cbe": {
          "model_module": "@jupyter-widgets/controls",
          "model_name": "DescriptionStyleModel",
          "model_module_version": "1.5.0",
          "state": {
            "_model_module": "@jupyter-widgets/controls",
            "_model_module_version": "1.5.0",
            "_model_name": "DescriptionStyleModel",
            "_view_count": null,
            "_view_module": "@jupyter-widgets/base",
            "_view_module_version": "1.2.0",
            "_view_name": "StyleView",
            "description_width": ""
          }
        },
        "ae71f3c09d5c42b6abd159a1506c129f": {
          "model_module": "@jupyter-widgets/base",
          "model_name": "LayoutModel",
          "model_module_version": "1.2.0",
          "state": {
            "_model_module": "@jupyter-widgets/base",
            "_model_module_version": "1.2.0",
            "_model_name": "LayoutModel",
            "_view_count": null,
            "_view_module": "@jupyter-widgets/base",
            "_view_module_version": "1.2.0",
            "_view_name": "LayoutView",
            "align_content": null,
            "align_items": null,
            "align_self": null,
            "border": null,
            "bottom": null,
            "display": null,
            "flex": null,
            "flex_flow": null,
            "grid_area": null,
            "grid_auto_columns": null,
            "grid_auto_flow": null,
            "grid_auto_rows": null,
            "grid_column": null,
            "grid_gap": null,
            "grid_row": null,
            "grid_template_areas": null,
            "grid_template_columns": null,
            "grid_template_rows": null,
            "height": null,
            "justify_content": null,
            "justify_items": null,
            "left": null,
            "margin": null,
            "max_height": null,
            "max_width": null,
            "min_height": null,
            "min_width": null,
            "object_fit": null,
            "object_position": null,
            "order": null,
            "overflow": null,
            "overflow_x": null,
            "overflow_y": null,
            "padding": null,
            "right": null,
            "top": null,
            "visibility": null,
            "width": null
          }
        },
        "f055865d11dd4d0f93cf2f9476ecd06f": {
          "model_module": "@jupyter-widgets/controls",
          "model_name": "ProgressStyleModel",
          "model_module_version": "1.5.0",
          "state": {
            "_model_module": "@jupyter-widgets/controls",
            "_model_module_version": "1.5.0",
            "_model_name": "ProgressStyleModel",
            "_view_count": null,
            "_view_module": "@jupyter-widgets/base",
            "_view_module_version": "1.2.0",
            "_view_name": "StyleView",
            "bar_color": null,
            "description_width": ""
          }
        },
        "76c1b1cf2bba486e91ff7b33c954c094": {
          "model_module": "@jupyter-widgets/base",
          "model_name": "LayoutModel",
          "model_module_version": "1.2.0",
          "state": {
            "_model_module": "@jupyter-widgets/base",
            "_model_module_version": "1.2.0",
            "_model_name": "LayoutModel",
            "_view_count": null,
            "_view_module": "@jupyter-widgets/base",
            "_view_module_version": "1.2.0",
            "_view_name": "LayoutView",
            "align_content": null,
            "align_items": null,
            "align_self": null,
            "border": null,
            "bottom": null,
            "display": null,
            "flex": null,
            "flex_flow": null,
            "grid_area": null,
            "grid_auto_columns": null,
            "grid_auto_flow": null,
            "grid_auto_rows": null,
            "grid_column": null,
            "grid_gap": null,
            "grid_row": null,
            "grid_template_areas": null,
            "grid_template_columns": null,
            "grid_template_rows": null,
            "height": null,
            "justify_content": null,
            "justify_items": null,
            "left": null,
            "margin": null,
            "max_height": null,
            "max_width": null,
            "min_height": null,
            "min_width": null,
            "object_fit": null,
            "object_position": null,
            "order": null,
            "overflow": null,
            "overflow_x": null,
            "overflow_y": null,
            "padding": null,
            "right": null,
            "top": null,
            "visibility": null,
            "width": null
          }
        },
        "5628a936a231443c894ec5512aa66173": {
          "model_module": "@jupyter-widgets/controls",
          "model_name": "DescriptionStyleModel",
          "model_module_version": "1.5.0",
          "state": {
            "_model_module": "@jupyter-widgets/controls",
            "_model_module_version": "1.5.0",
            "_model_name": "DescriptionStyleModel",
            "_view_count": null,
            "_view_module": "@jupyter-widgets/base",
            "_view_module_version": "1.2.0",
            "_view_name": "StyleView",
            "description_width": ""
          }
        },
        "6ea02a1c058745a3a7a77f5020de5231": {
          "model_module": "@jupyter-widgets/controls",
          "model_name": "HBoxModel",
          "model_module_version": "1.5.0",
          "state": {
            "_dom_classes": [],
            "_model_module": "@jupyter-widgets/controls",
            "_model_module_version": "1.5.0",
            "_model_name": "HBoxModel",
            "_view_count": null,
            "_view_module": "@jupyter-widgets/controls",
            "_view_module_version": "1.5.0",
            "_view_name": "HBoxView",
            "box_style": "",
            "children": [
              "IPY_MODEL_1901d69f88b5420fa15e2ca962eb1a5e",
              "IPY_MODEL_a530deaf5b694d9e83b8b4eb90a93c32",
              "IPY_MODEL_45228dbabd764834a80fc14f377ea94c"
            ],
            "layout": "IPY_MODEL_e5144064646543c79bf37a1788b577f0"
          }
        },
        "1901d69f88b5420fa15e2ca962eb1a5e": {
          "model_module": "@jupyter-widgets/controls",
          "model_name": "HTMLModel",
          "model_module_version": "1.5.0",
          "state": {
            "_dom_classes": [],
            "_model_module": "@jupyter-widgets/controls",
            "_model_module_version": "1.5.0",
            "_model_name": "HTMLModel",
            "_view_count": null,
            "_view_module": "@jupyter-widgets/controls",
            "_view_module_version": "1.5.0",
            "_view_name": "HTMLView",
            "description": "",
            "description_tooltip": null,
            "layout": "IPY_MODEL_e17c8e0dcefe486e984628d160fca951",
            "placeholder": "​",
            "style": "IPY_MODEL_8a50d4a089c947db9531f655bcd0ef65",
            "value": "pytorch_model.bin: 100%"
          }
        },
        "a530deaf5b694d9e83b8b4eb90a93c32": {
          "model_module": "@jupyter-widgets/controls",
          "model_name": "FloatProgressModel",
          "model_module_version": "1.5.0",
          "state": {
            "_dom_classes": [],
            "_model_module": "@jupyter-widgets/controls",
            "_model_module_version": "1.5.0",
            "_model_name": "FloatProgressModel",
            "_view_count": null,
            "_view_module": "@jupyter-widgets/controls",
            "_view_module_version": "1.5.0",
            "_view_name": "ProgressView",
            "bar_style": "success",
            "description": "",
            "description_tooltip": null,
            "layout": "IPY_MODEL_b2f3e0666d2d4239be854a3cc59b1506",
            "max": 711456784,
            "min": 0,
            "orientation": "horizontal",
            "style": "IPY_MODEL_03f93009fb4243b9a5f2a5042f68db8e",
            "value": 711456784
          }
        },
        "45228dbabd764834a80fc14f377ea94c": {
          "model_module": "@jupyter-widgets/controls",
          "model_name": "HTMLModel",
          "model_module_version": "1.5.0",
          "state": {
            "_dom_classes": [],
            "_model_module": "@jupyter-widgets/controls",
            "_model_module_version": "1.5.0",
            "_model_name": "HTMLModel",
            "_view_count": null,
            "_view_module": "@jupyter-widgets/controls",
            "_view_module_version": "1.5.0",
            "_view_name": "HTMLView",
            "description": "",
            "description_tooltip": null,
            "layout": "IPY_MODEL_1c894f2dd0a749a0aae1e246ecfda472",
            "placeholder": "​",
            "style": "IPY_MODEL_da3e7349f21846d9b61622be025c2ab0",
            "value": " 711M/711M [00:06&lt;00:00, 27.4MB/s]"
          }
        },
        "e5144064646543c79bf37a1788b577f0": {
          "model_module": "@jupyter-widgets/base",
          "model_name": "LayoutModel",
          "model_module_version": "1.2.0",
          "state": {
            "_model_module": "@jupyter-widgets/base",
            "_model_module_version": "1.2.0",
            "_model_name": "LayoutModel",
            "_view_count": null,
            "_view_module": "@jupyter-widgets/base",
            "_view_module_version": "1.2.0",
            "_view_name": "LayoutView",
            "align_content": null,
            "align_items": null,
            "align_self": null,
            "border": null,
            "bottom": null,
            "display": null,
            "flex": null,
            "flex_flow": null,
            "grid_area": null,
            "grid_auto_columns": null,
            "grid_auto_flow": null,
            "grid_auto_rows": null,
            "grid_column": null,
            "grid_gap": null,
            "grid_row": null,
            "grid_template_areas": null,
            "grid_template_columns": null,
            "grid_template_rows": null,
            "height": null,
            "justify_content": null,
            "justify_items": null,
            "left": null,
            "margin": null,
            "max_height": null,
            "max_width": null,
            "min_height": null,
            "min_width": null,
            "object_fit": null,
            "object_position": null,
            "order": null,
            "overflow": null,
            "overflow_x": null,
            "overflow_y": null,
            "padding": null,
            "right": null,
            "top": null,
            "visibility": null,
            "width": null
          }
        },
        "e17c8e0dcefe486e984628d160fca951": {
          "model_module": "@jupyter-widgets/base",
          "model_name": "LayoutModel",
          "model_module_version": "1.2.0",
          "state": {
            "_model_module": "@jupyter-widgets/base",
            "_model_module_version": "1.2.0",
            "_model_name": "LayoutModel",
            "_view_count": null,
            "_view_module": "@jupyter-widgets/base",
            "_view_module_version": "1.2.0",
            "_view_name": "LayoutView",
            "align_content": null,
            "align_items": null,
            "align_self": null,
            "border": null,
            "bottom": null,
            "display": null,
            "flex": null,
            "flex_flow": null,
            "grid_area": null,
            "grid_auto_columns": null,
            "grid_auto_flow": null,
            "grid_auto_rows": null,
            "grid_column": null,
            "grid_gap": null,
            "grid_row": null,
            "grid_template_areas": null,
            "grid_template_columns": null,
            "grid_template_rows": null,
            "height": null,
            "justify_content": null,
            "justify_items": null,
            "left": null,
            "margin": null,
            "max_height": null,
            "max_width": null,
            "min_height": null,
            "min_width": null,
            "object_fit": null,
            "object_position": null,
            "order": null,
            "overflow": null,
            "overflow_x": null,
            "overflow_y": null,
            "padding": null,
            "right": null,
            "top": null,
            "visibility": null,
            "width": null
          }
        },
        "8a50d4a089c947db9531f655bcd0ef65": {
          "model_module": "@jupyter-widgets/controls",
          "model_name": "DescriptionStyleModel",
          "model_module_version": "1.5.0",
          "state": {
            "_model_module": "@jupyter-widgets/controls",
            "_model_module_version": "1.5.0",
            "_model_name": "DescriptionStyleModel",
            "_view_count": null,
            "_view_module": "@jupyter-widgets/base",
            "_view_module_version": "1.2.0",
            "_view_name": "StyleView",
            "description_width": ""
          }
        },
        "b2f3e0666d2d4239be854a3cc59b1506": {
          "model_module": "@jupyter-widgets/base",
          "model_name": "LayoutModel",
          "model_module_version": "1.2.0",
          "state": {
            "_model_module": "@jupyter-widgets/base",
            "_model_module_version": "1.2.0",
            "_model_name": "LayoutModel",
            "_view_count": null,
            "_view_module": "@jupyter-widgets/base",
            "_view_module_version": "1.2.0",
            "_view_name": "LayoutView",
            "align_content": null,
            "align_items": null,
            "align_self": null,
            "border": null,
            "bottom": null,
            "display": null,
            "flex": null,
            "flex_flow": null,
            "grid_area": null,
            "grid_auto_columns": null,
            "grid_auto_flow": null,
            "grid_auto_rows": null,
            "grid_column": null,
            "grid_gap": null,
            "grid_row": null,
            "grid_template_areas": null,
            "grid_template_columns": null,
            "grid_template_rows": null,
            "height": null,
            "justify_content": null,
            "justify_items": null,
            "left": null,
            "margin": null,
            "max_height": null,
            "max_width": null,
            "min_height": null,
            "min_width": null,
            "object_fit": null,
            "object_position": null,
            "order": null,
            "overflow": null,
            "overflow_x": null,
            "overflow_y": null,
            "padding": null,
            "right": null,
            "top": null,
            "visibility": null,
            "width": null
          }
        },
        "03f93009fb4243b9a5f2a5042f68db8e": {
          "model_module": "@jupyter-widgets/controls",
          "model_name": "ProgressStyleModel",
          "model_module_version": "1.5.0",
          "state": {
            "_model_module": "@jupyter-widgets/controls",
            "_model_module_version": "1.5.0",
            "_model_name": "ProgressStyleModel",
            "_view_count": null,
            "_view_module": "@jupyter-widgets/base",
            "_view_module_version": "1.2.0",
            "_view_name": "StyleView",
            "bar_color": null,
            "description_width": ""
          }
        },
        "1c894f2dd0a749a0aae1e246ecfda472": {
          "model_module": "@jupyter-widgets/base",
          "model_name": "LayoutModel",
          "model_module_version": "1.2.0",
          "state": {
            "_model_module": "@jupyter-widgets/base",
            "_model_module_version": "1.2.0",
            "_model_name": "LayoutModel",
            "_view_count": null,
            "_view_module": "@jupyter-widgets/base",
            "_view_module_version": "1.2.0",
            "_view_name": "LayoutView",
            "align_content": null,
            "align_items": null,
            "align_self": null,
            "border": null,
            "bottom": null,
            "display": null,
            "flex": null,
            "flex_flow": null,
            "grid_area": null,
            "grid_auto_columns": null,
            "grid_auto_flow": null,
            "grid_auto_rows": null,
            "grid_column": null,
            "grid_gap": null,
            "grid_row": null,
            "grid_template_areas": null,
            "grid_template_columns": null,
            "grid_template_rows": null,
            "height": null,
            "justify_content": null,
            "justify_items": null,
            "left": null,
            "margin": null,
            "max_height": null,
            "max_width": null,
            "min_height": null,
            "min_width": null,
            "object_fit": null,
            "object_position": null,
            "order": null,
            "overflow": null,
            "overflow_x": null,
            "overflow_y": null,
            "padding": null,
            "right": null,
            "top": null,
            "visibility": null,
            "width": null
          }
        },
        "da3e7349f21846d9b61622be025c2ab0": {
          "model_module": "@jupyter-widgets/controls",
          "model_name": "DescriptionStyleModel",
          "model_module_version": "1.5.0",
          "state": {
            "_model_module": "@jupyter-widgets/controls",
            "_model_module_version": "1.5.0",
            "_model_name": "DescriptionStyleModel",
            "_view_count": null,
            "_view_module": "@jupyter-widgets/base",
            "_view_module_version": "1.2.0",
            "_view_name": "StyleView",
            "description_width": ""
          }
        }
      }
    }
  },
  "cells": [
    {
      "cell_type": "markdown",
      "metadata": {
        "id": "view-in-github",
        "colab_type": "text"
      },
      "source": [
        "<a href=\"https://colab.research.google.com/github/Romario1975/graphic_arts/blob/main/NPA.ipynb\" target=\"_parent\"><img src=\"https://colab.research.google.com/assets/colab-badge.svg\" alt=\"Open In Colab\"/></a>"
      ]
    },
    {
      "cell_type": "markdown",
      "source": [
        "## 1.0 Загружаем Дата cет с примерами по правильным формулировкам НПА и формулировкам содержащим корупциогенные признаки. Устанавливаем необхожимые для работы библиотеки"
      ],
      "metadata": {
        "id": "59Il-SBNk_xn"
      }
    },
    {
      "cell_type": "markdown",
      "source": [
        "Загружаем библиотеку Transformers она представляет инструменты и модели из Huggging Face для их использования"
      ],
      "metadata": {
        "id": "Oz9s56qpIaAH"
      }
    },
    {
      "cell_type": "code",
      "execution_count": null,
      "metadata": {
        "colab": {
          "base_uri": "https://localhost:8080/"
        },
        "id": "ssR_ipNvyaxS",
        "outputId": "a023aa99-8da5-41fb-b7c9-9354cd801319"
      },
      "outputs": [
        {
          "output_type": "stream",
          "name": "stdout",
          "text": [
            "Requirement already satisfied: transformers in /usr/local/lib/python3.10/dist-packages (4.35.2)\n",
            "Requirement already satisfied: filelock in /usr/local/lib/python3.10/dist-packages (from transformers) (3.13.1)\n",
            "Requirement already satisfied: huggingface-hub<1.0,>=0.16.4 in /usr/local/lib/python3.10/dist-packages (from transformers) (0.19.4)\n",
            "Requirement already satisfied: numpy>=1.17 in /usr/local/lib/python3.10/dist-packages (from transformers) (1.23.5)\n",
            "Requirement already satisfied: packaging>=20.0 in /usr/local/lib/python3.10/dist-packages (from transformers) (23.2)\n",
            "Requirement already satisfied: pyyaml>=5.1 in /usr/local/lib/python3.10/dist-packages (from transformers) (6.0.1)\n",
            "Requirement already satisfied: regex!=2019.12.17 in /usr/local/lib/python3.10/dist-packages (from transformers) (2023.6.3)\n",
            "Requirement already satisfied: requests in /usr/local/lib/python3.10/dist-packages (from transformers) (2.31.0)\n",
            "Requirement already satisfied: tokenizers<0.19,>=0.14 in /usr/local/lib/python3.10/dist-packages (from transformers) (0.15.0)\n",
            "Requirement already satisfied: safetensors>=0.3.1 in /usr/local/lib/python3.10/dist-packages (from transformers) (0.4.0)\n",
            "Requirement already satisfied: tqdm>=4.27 in /usr/local/lib/python3.10/dist-packages (from transformers) (4.66.1)\n",
            "Requirement already satisfied: fsspec>=2023.5.0 in /usr/local/lib/python3.10/dist-packages (from huggingface-hub<1.0,>=0.16.4->transformers) (2023.6.0)\n",
            "Requirement already satisfied: typing-extensions>=3.7.4.3 in /usr/local/lib/python3.10/dist-packages (from huggingface-hub<1.0,>=0.16.4->transformers) (4.5.0)\n",
            "Requirement already satisfied: charset-normalizer<4,>=2 in /usr/local/lib/python3.10/dist-packages (from requests->transformers) (3.3.2)\n",
            "Requirement already satisfied: idna<4,>=2.5 in /usr/local/lib/python3.10/dist-packages (from requests->transformers) (3.4)\n",
            "Requirement already satisfied: urllib3<3,>=1.21.1 in /usr/local/lib/python3.10/dist-packages (from requests->transformers) (2.0.7)\n",
            "Requirement already satisfied: certifi>=2017.4.17 in /usr/local/lib/python3.10/dist-packages (from requests->transformers) (2023.7.22)\n"
          ]
        }
      ],
      "source": [
        "! pip install transformers"
      ]
    },
    {
      "cell_type": "code",
      "source": [
        "# импорртируем пандас - библиотека для работы с таблицами\n",
        "import pandas as pd"
      ],
      "metadata": {
        "id": "m21imS1Wyby9"
      },
      "execution_count": null,
      "outputs": []
    },
    {
      "cell_type": "code",
      "source": [
        "from transformers import BertTokenizer"
      ],
      "metadata": {
        "id": "pJf7LZw0I-p-"
      },
      "execution_count": null,
      "outputs": []
    },
    {
      "cell_type": "code",
      "source": [
        "import torch"
      ],
      "metadata": {
        "id": "O53i-KpLPGac"
      },
      "execution_count": null,
      "outputs": []
    },
    {
      "cell_type": "markdown",
      "source": [
        "1.1 Импортируем данные"
      ],
      "metadata": {
        "id": "CPQEvyksuJLK"
      }
    },
    {
      "cell_type": "code",
      "source": [
        "df_label_studio = pd.read_csv('/content/data_set.csv',  sep='\\t')"
      ],
      "metadata": {
        "id": "nU_bJCd9O4QD"
      },
      "execution_count": null,
      "outputs": []
    },
    {
      "cell_type": "code",
      "source": [
        "df_label_studio"
      ],
      "metadata": {
        "colab": {
          "base_uri": "https://localhost:8080/",
          "height": 424
        },
        "id": "25k2RLcjPM-a",
        "outputId": "f4f9500c-0c8c-4d70-bc36-b5c6e05647e8"
      },
      "execution_count": null,
      "outputs": [
        {
          "output_type": "execute_result",
          "data": {
            "text/plain": [
              "    annotation_id,\"annotator\",\"bad\",\"created_at\",\"id\",\"lead_time\",\"sentiment\",\"updated_at\";\n",
              "0    13519,\"36\",\"«В случае утраты действующей лицен...                                     \n",
              "1    13520,\"36\",\"«При необходимости, заявителю необ...                                     \n",
              "2    13521,\"38\",\"\"\"После регистрации принятых от гр...                                     \n",
              "3    13522,\"38\",\"\"\"В случаях, требующих проведения ...                                     \n",
              "4    13523,\"38\",\"\"\"Акт о выборе земельного участка ...                                     \n",
              "..                                                 ...                                     \n",
              "136  наличие в представленных документах недостовер...                                     \n",
              "137  документы имеют серьезные повреждения, наличие...                                     \n",
              "138  13607,\"34\",\"«.... В результате рассмотрения хо...                                     \n",
              "139  поддержать ходатайство и обратиться в Правител...                                     \n",
              "140  доски за счет средств ходатайствующей организа...                                     \n",
              "\n",
              "[141 rows x 1 columns]"
            ],
            "text/html": [
              "\n",
              "  <div id=\"df-f3e6739b-706c-4bd7-9f85-b1b93fd95f35\" class=\"colab-df-container\">\n",
              "    <div>\n",
              "<style scoped>\n",
              "    .dataframe tbody tr th:only-of-type {\n",
              "        vertical-align: middle;\n",
              "    }\n",
              "\n",
              "    .dataframe tbody tr th {\n",
              "        vertical-align: top;\n",
              "    }\n",
              "\n",
              "    .dataframe thead th {\n",
              "        text-align: right;\n",
              "    }\n",
              "</style>\n",
              "<table border=\"1\" class=\"dataframe\">\n",
              "  <thead>\n",
              "    <tr style=\"text-align: right;\">\n",
              "      <th></th>\n",
              "      <th>annotation_id,\"annotator\",\"bad\",\"created_at\",\"id\",\"lead_time\",\"sentiment\",\"updated_at\";</th>\n",
              "    </tr>\n",
              "  </thead>\n",
              "  <tbody>\n",
              "    <tr>\n",
              "      <th>0</th>\n",
              "      <td>13519,\"36\",\"«В случае утраты действующей лицен...</td>\n",
              "    </tr>\n",
              "    <tr>\n",
              "      <th>1</th>\n",
              "      <td>13520,\"36\",\"«При необходимости, заявителю необ...</td>\n",
              "    </tr>\n",
              "    <tr>\n",
              "      <th>2</th>\n",
              "      <td>13521,\"38\",\"\"\"После регистрации принятых от гр...</td>\n",
              "    </tr>\n",
              "    <tr>\n",
              "      <th>3</th>\n",
              "      <td>13522,\"38\",\"\"\"В случаях, требующих проведения ...</td>\n",
              "    </tr>\n",
              "    <tr>\n",
              "      <th>4</th>\n",
              "      <td>13523,\"38\",\"\"\"Акт о выборе земельного участка ...</td>\n",
              "    </tr>\n",
              "    <tr>\n",
              "      <th>...</th>\n",
              "      <td>...</td>\n",
              "    </tr>\n",
              "    <tr>\n",
              "      <th>136</th>\n",
              "      <td>наличие в представленных документах недостовер...</td>\n",
              "    </tr>\n",
              "    <tr>\n",
              "      <th>137</th>\n",
              "      <td>документы имеют серьезные повреждения, наличие...</td>\n",
              "    </tr>\n",
              "    <tr>\n",
              "      <th>138</th>\n",
              "      <td>13607,\"34\",\"«.... В результате рассмотрения хо...</td>\n",
              "    </tr>\n",
              "    <tr>\n",
              "      <th>139</th>\n",
              "      <td>поддержать ходатайство и обратиться в Правител...</td>\n",
              "    </tr>\n",
              "    <tr>\n",
              "      <th>140</th>\n",
              "      <td>доски за счет средств ходатайствующей организа...</td>\n",
              "    </tr>\n",
              "  </tbody>\n",
              "</table>\n",
              "<p>141 rows × 1 columns</p>\n",
              "</div>\n",
              "    <div class=\"colab-df-buttons\">\n",
              "\n",
              "  <div class=\"colab-df-container\">\n",
              "    <button class=\"colab-df-convert\" onclick=\"convertToInteractive('df-f3e6739b-706c-4bd7-9f85-b1b93fd95f35')\"\n",
              "            title=\"Convert this dataframe to an interactive table.\"\n",
              "            style=\"display:none;\">\n",
              "\n",
              "  <svg xmlns=\"http://www.w3.org/2000/svg\" height=\"24px\" viewBox=\"0 -960 960 960\">\n",
              "    <path d=\"M120-120v-720h720v720H120Zm60-500h600v-160H180v160Zm220 220h160v-160H400v160Zm0 220h160v-160H400v160ZM180-400h160v-160H180v160Zm440 0h160v-160H620v160ZM180-180h160v-160H180v160Zm440 0h160v-160H620v160Z\"/>\n",
              "  </svg>\n",
              "    </button>\n",
              "\n",
              "  <style>\n",
              "    .colab-df-container {\n",
              "      display:flex;\n",
              "      gap: 12px;\n",
              "    }\n",
              "\n",
              "    .colab-df-convert {\n",
              "      background-color: #E8F0FE;\n",
              "      border: none;\n",
              "      border-radius: 50%;\n",
              "      cursor: pointer;\n",
              "      display: none;\n",
              "      fill: #1967D2;\n",
              "      height: 32px;\n",
              "      padding: 0 0 0 0;\n",
              "      width: 32px;\n",
              "    }\n",
              "\n",
              "    .colab-df-convert:hover {\n",
              "      background-color: #E2EBFA;\n",
              "      box-shadow: 0px 1px 2px rgba(60, 64, 67, 0.3), 0px 1px 3px 1px rgba(60, 64, 67, 0.15);\n",
              "      fill: #174EA6;\n",
              "    }\n",
              "\n",
              "    .colab-df-buttons div {\n",
              "      margin-bottom: 4px;\n",
              "    }\n",
              "\n",
              "    [theme=dark] .colab-df-convert {\n",
              "      background-color: #3B4455;\n",
              "      fill: #D2E3FC;\n",
              "    }\n",
              "\n",
              "    [theme=dark] .colab-df-convert:hover {\n",
              "      background-color: #434B5C;\n",
              "      box-shadow: 0px 1px 3px 1px rgba(0, 0, 0, 0.15);\n",
              "      filter: drop-shadow(0px 1px 2px rgba(0, 0, 0, 0.3));\n",
              "      fill: #FFFFFF;\n",
              "    }\n",
              "  </style>\n",
              "\n",
              "    <script>\n",
              "      const buttonEl =\n",
              "        document.querySelector('#df-f3e6739b-706c-4bd7-9f85-b1b93fd95f35 button.colab-df-convert');\n",
              "      buttonEl.style.display =\n",
              "        google.colab.kernel.accessAllowed ? 'block' : 'none';\n",
              "\n",
              "      async function convertToInteractive(key) {\n",
              "        const element = document.querySelector('#df-f3e6739b-706c-4bd7-9f85-b1b93fd95f35');\n",
              "        const dataTable =\n",
              "          await google.colab.kernel.invokeFunction('convertToInteractive',\n",
              "                                                    [key], {});\n",
              "        if (!dataTable) return;\n",
              "\n",
              "        const docLinkHtml = 'Like what you see? Visit the ' +\n",
              "          '<a target=\"_blank\" href=https://colab.research.google.com/notebooks/data_table.ipynb>data table notebook</a>'\n",
              "          + ' to learn more about interactive tables.';\n",
              "        element.innerHTML = '';\n",
              "        dataTable['output_type'] = 'display_data';\n",
              "        await google.colab.output.renderOutput(dataTable, element);\n",
              "        const docLink = document.createElement('div');\n",
              "        docLink.innerHTML = docLinkHtml;\n",
              "        element.appendChild(docLink);\n",
              "      }\n",
              "    </script>\n",
              "  </div>\n",
              "\n",
              "\n",
              "<div id=\"df-439a2269-29f3-4d86-8047-3d89fd43e9dd\">\n",
              "  <button class=\"colab-df-quickchart\" onclick=\"quickchart('df-439a2269-29f3-4d86-8047-3d89fd43e9dd')\"\n",
              "            title=\"Suggest charts\"\n",
              "            style=\"display:none;\">\n",
              "\n",
              "<svg xmlns=\"http://www.w3.org/2000/svg\" height=\"24px\"viewBox=\"0 0 24 24\"\n",
              "     width=\"24px\">\n",
              "    <g>\n",
              "        <path d=\"M19 3H5c-1.1 0-2 .9-2 2v14c0 1.1.9 2 2 2h14c1.1 0 2-.9 2-2V5c0-1.1-.9-2-2-2zM9 17H7v-7h2v7zm4 0h-2V7h2v10zm4 0h-2v-4h2v4z\"/>\n",
              "    </g>\n",
              "</svg>\n",
              "  </button>\n",
              "\n",
              "<style>\n",
              "  .colab-df-quickchart {\n",
              "      --bg-color: #E8F0FE;\n",
              "      --fill-color: #1967D2;\n",
              "      --hover-bg-color: #E2EBFA;\n",
              "      --hover-fill-color: #174EA6;\n",
              "      --disabled-fill-color: #AAA;\n",
              "      --disabled-bg-color: #DDD;\n",
              "  }\n",
              "\n",
              "  [theme=dark] .colab-df-quickchart {\n",
              "      --bg-color: #3B4455;\n",
              "      --fill-color: #D2E3FC;\n",
              "      --hover-bg-color: #434B5C;\n",
              "      --hover-fill-color: #FFFFFF;\n",
              "      --disabled-bg-color: #3B4455;\n",
              "      --disabled-fill-color: #666;\n",
              "  }\n",
              "\n",
              "  .colab-df-quickchart {\n",
              "    background-color: var(--bg-color);\n",
              "    border: none;\n",
              "    border-radius: 50%;\n",
              "    cursor: pointer;\n",
              "    display: none;\n",
              "    fill: var(--fill-color);\n",
              "    height: 32px;\n",
              "    padding: 0;\n",
              "    width: 32px;\n",
              "  }\n",
              "\n",
              "  .colab-df-quickchart:hover {\n",
              "    background-color: var(--hover-bg-color);\n",
              "    box-shadow: 0 1px 2px rgba(60, 64, 67, 0.3), 0 1px 3px 1px rgba(60, 64, 67, 0.15);\n",
              "    fill: var(--button-hover-fill-color);\n",
              "  }\n",
              "\n",
              "  .colab-df-quickchart-complete:disabled,\n",
              "  .colab-df-quickchart-complete:disabled:hover {\n",
              "    background-color: var(--disabled-bg-color);\n",
              "    fill: var(--disabled-fill-color);\n",
              "    box-shadow: none;\n",
              "  }\n",
              "\n",
              "  .colab-df-spinner {\n",
              "    border: 2px solid var(--fill-color);\n",
              "    border-color: transparent;\n",
              "    border-bottom-color: var(--fill-color);\n",
              "    animation:\n",
              "      spin 1s steps(1) infinite;\n",
              "  }\n",
              "\n",
              "  @keyframes spin {\n",
              "    0% {\n",
              "      border-color: transparent;\n",
              "      border-bottom-color: var(--fill-color);\n",
              "      border-left-color: var(--fill-color);\n",
              "    }\n",
              "    20% {\n",
              "      border-color: transparent;\n",
              "      border-left-color: var(--fill-color);\n",
              "      border-top-color: var(--fill-color);\n",
              "    }\n",
              "    30% {\n",
              "      border-color: transparent;\n",
              "      border-left-color: var(--fill-color);\n",
              "      border-top-color: var(--fill-color);\n",
              "      border-right-color: var(--fill-color);\n",
              "    }\n",
              "    40% {\n",
              "      border-color: transparent;\n",
              "      border-right-color: var(--fill-color);\n",
              "      border-top-color: var(--fill-color);\n",
              "    }\n",
              "    60% {\n",
              "      border-color: transparent;\n",
              "      border-right-color: var(--fill-color);\n",
              "    }\n",
              "    80% {\n",
              "      border-color: transparent;\n",
              "      border-right-color: var(--fill-color);\n",
              "      border-bottom-color: var(--fill-color);\n",
              "    }\n",
              "    90% {\n",
              "      border-color: transparent;\n",
              "      border-bottom-color: var(--fill-color);\n",
              "    }\n",
              "  }\n",
              "</style>\n",
              "\n",
              "  <script>\n",
              "    async function quickchart(key) {\n",
              "      const quickchartButtonEl =\n",
              "        document.querySelector('#' + key + ' button');\n",
              "      quickchartButtonEl.disabled = true;  // To prevent multiple clicks.\n",
              "      quickchartButtonEl.classList.add('colab-df-spinner');\n",
              "      try {\n",
              "        const charts = await google.colab.kernel.invokeFunction(\n",
              "            'suggestCharts', [key], {});\n",
              "      } catch (error) {\n",
              "        console.error('Error during call to suggestCharts:', error);\n",
              "      }\n",
              "      quickchartButtonEl.classList.remove('colab-df-spinner');\n",
              "      quickchartButtonEl.classList.add('colab-df-quickchart-complete');\n",
              "    }\n",
              "    (() => {\n",
              "      let quickchartButtonEl =\n",
              "        document.querySelector('#df-439a2269-29f3-4d86-8047-3d89fd43e9dd button');\n",
              "      quickchartButtonEl.style.display =\n",
              "        google.colab.kernel.accessAllowed ? 'block' : 'none';\n",
              "    })();\n",
              "  </script>\n",
              "</div>\n",
              "    </div>\n",
              "  </div>\n"
            ]
          },
          "metadata": {},
          "execution_count": 6
        }
      ]
    },
    {
      "cell_type": "code",
      "source": [
        "# импортируем данные\n",
        "df = pd.read_excel('/content/data_set_new.xlsx')"
      ],
      "metadata": {
        "id": "iHI2871tSDx1"
      },
      "execution_count": null,
      "outputs": []
    },
    {
      "cell_type": "code",
      "source": [
        "df.info()"
      ],
      "metadata": {
        "colab": {
          "base_uri": "https://localhost:8080/"
        },
        "id": "S4eoILJlsTD9",
        "outputId": "d1700c50-f339-4ead-f930-c1aaa538874a"
      },
      "execution_count": null,
      "outputs": [
        {
          "output_type": "stream",
          "name": "stdout",
          "text": [
            "<class 'pandas.core.frame.DataFrame'>\n",
            "RangeIndex: 88 entries, 0 to 87\n",
            "Data columns (total 2 columns):\n",
            " #   Column    Non-Null Count  Dtype \n",
            "---  ------    --------------  ----- \n",
            " 0   sentence  88 non-null     object\n",
            " 1   label     88 non-null     int64 \n",
            "dtypes: int64(1), object(1)\n",
            "memory usage: 1.5+ KB\n"
          ]
        }
      ]
    },
    {
      "cell_type": "code",
      "source": [
        "df.head(20)"
      ],
      "metadata": {
        "colab": {
          "base_uri": "https://localhost:8080/",
          "height": 784
        },
        "id": "bevwRHGpSPHW",
        "outputId": "46aad673-915f-4b34-de83-c037290e2311"
      },
      "execution_count": null,
      "outputs": [
        {
          "output_type": "execute_result",
          "data": {
            "text/plain": [
              "                                             sentence  label \n",
              "0   После регистрации принятых от гражданина докум...       1\n",
              "1   В случаях, требующих проведения специальной пр...       0\n",
              "2   Распоряжение об утверждении проекта границ зем...       0\n",
              "3   Уполномоченный орган местной администрации (да...       0\n",
              "4   Гражданину может быть отказано в постановке на...       0\n",
              "5   В случае утраты действующей лицензии на право ...       1\n",
              "6   При необходимости, заявителю необходимо предос...       1\n",
              "7   После регистрации принятых от гражданина докум...       1\n",
              "8   В случаях, требующих проведения специальной пр...       1\n",
              "9   Акт о выборе земельного участка оформляется в ...       1\n",
              "10  Поступившие от гражданина в полном объеме доку...       1\n",
              "11  Распоряжение об утверждении проекта границ зем...       1\n",
              "12  Гражданину может быть отказано в постановке на...       1\n",
              "13  Рекомендуемый срок для принятия лицензионной к...       1\n",
              "14  сообщение об операции незамедлительно передает...       1\n",
              "15  При необходимости, заявителю необходимо предос...       1\n",
              "16  Если победитель аукциона не оплатил в течение ...       1\n",
              "17  Маршрут может быть закрыт или приостановлен в ...       1\n",
              "18  В случае систематического несоблюдения перевоз...       1\n",
              "19  При наличии у местной Администрации сведений, ...       1"
            ],
            "text/html": [
              "\n",
              "  <div id=\"df-775a5675-6a32-44fc-b961-c5e7dacf6528\" class=\"colab-df-container\">\n",
              "    <div>\n",
              "<style scoped>\n",
              "    .dataframe tbody tr th:only-of-type {\n",
              "        vertical-align: middle;\n",
              "    }\n",
              "\n",
              "    .dataframe tbody tr th {\n",
              "        vertical-align: top;\n",
              "    }\n",
              "\n",
              "    .dataframe thead th {\n",
              "        text-align: right;\n",
              "    }\n",
              "</style>\n",
              "<table border=\"1\" class=\"dataframe\">\n",
              "  <thead>\n",
              "    <tr style=\"text-align: right;\">\n",
              "      <th></th>\n",
              "      <th>sentence</th>\n",
              "      <th>label</th>\n",
              "    </tr>\n",
              "  </thead>\n",
              "  <tbody>\n",
              "    <tr>\n",
              "      <th>0</th>\n",
              "      <td>После регистрации принятых от гражданина докум...</td>\n",
              "      <td>1</td>\n",
              "    </tr>\n",
              "    <tr>\n",
              "      <th>1</th>\n",
              "      <td>В случаях, требующих проведения специальной пр...</td>\n",
              "      <td>0</td>\n",
              "    </tr>\n",
              "    <tr>\n",
              "      <th>2</th>\n",
              "      <td>Распоряжение об утверждении проекта границ зем...</td>\n",
              "      <td>0</td>\n",
              "    </tr>\n",
              "    <tr>\n",
              "      <th>3</th>\n",
              "      <td>Уполномоченный орган местной администрации (да...</td>\n",
              "      <td>0</td>\n",
              "    </tr>\n",
              "    <tr>\n",
              "      <th>4</th>\n",
              "      <td>Гражданину может быть отказано в постановке на...</td>\n",
              "      <td>0</td>\n",
              "    </tr>\n",
              "    <tr>\n",
              "      <th>5</th>\n",
              "      <td>В случае утраты действующей лицензии на право ...</td>\n",
              "      <td>1</td>\n",
              "    </tr>\n",
              "    <tr>\n",
              "      <th>6</th>\n",
              "      <td>При необходимости, заявителю необходимо предос...</td>\n",
              "      <td>1</td>\n",
              "    </tr>\n",
              "    <tr>\n",
              "      <th>7</th>\n",
              "      <td>После регистрации принятых от гражданина докум...</td>\n",
              "      <td>1</td>\n",
              "    </tr>\n",
              "    <tr>\n",
              "      <th>8</th>\n",
              "      <td>В случаях, требующих проведения специальной пр...</td>\n",
              "      <td>1</td>\n",
              "    </tr>\n",
              "    <tr>\n",
              "      <th>9</th>\n",
              "      <td>Акт о выборе земельного участка оформляется в ...</td>\n",
              "      <td>1</td>\n",
              "    </tr>\n",
              "    <tr>\n",
              "      <th>10</th>\n",
              "      <td>Поступившие от гражданина в полном объеме доку...</td>\n",
              "      <td>1</td>\n",
              "    </tr>\n",
              "    <tr>\n",
              "      <th>11</th>\n",
              "      <td>Распоряжение об утверждении проекта границ зем...</td>\n",
              "      <td>1</td>\n",
              "    </tr>\n",
              "    <tr>\n",
              "      <th>12</th>\n",
              "      <td>Гражданину может быть отказано в постановке на...</td>\n",
              "      <td>1</td>\n",
              "    </tr>\n",
              "    <tr>\n",
              "      <th>13</th>\n",
              "      <td>Рекомендуемый срок для принятия лицензионной к...</td>\n",
              "      <td>1</td>\n",
              "    </tr>\n",
              "    <tr>\n",
              "      <th>14</th>\n",
              "      <td>сообщение об операции незамедлительно передает...</td>\n",
              "      <td>1</td>\n",
              "    </tr>\n",
              "    <tr>\n",
              "      <th>15</th>\n",
              "      <td>При необходимости, заявителю необходимо предос...</td>\n",
              "      <td>1</td>\n",
              "    </tr>\n",
              "    <tr>\n",
              "      <th>16</th>\n",
              "      <td>Если победитель аукциона не оплатил в течение ...</td>\n",
              "      <td>1</td>\n",
              "    </tr>\n",
              "    <tr>\n",
              "      <th>17</th>\n",
              "      <td>Маршрут может быть закрыт или приостановлен в ...</td>\n",
              "      <td>1</td>\n",
              "    </tr>\n",
              "    <tr>\n",
              "      <th>18</th>\n",
              "      <td>В случае систематического несоблюдения перевоз...</td>\n",
              "      <td>1</td>\n",
              "    </tr>\n",
              "    <tr>\n",
              "      <th>19</th>\n",
              "      <td>При наличии у местной Администрации сведений, ...</td>\n",
              "      <td>1</td>\n",
              "    </tr>\n",
              "  </tbody>\n",
              "</table>\n",
              "</div>\n",
              "    <div class=\"colab-df-buttons\">\n",
              "\n",
              "  <div class=\"colab-df-container\">\n",
              "    <button class=\"colab-df-convert\" onclick=\"convertToInteractive('df-775a5675-6a32-44fc-b961-c5e7dacf6528')\"\n",
              "            title=\"Convert this dataframe to an interactive table.\"\n",
              "            style=\"display:none;\">\n",
              "\n",
              "  <svg xmlns=\"http://www.w3.org/2000/svg\" height=\"24px\" viewBox=\"0 -960 960 960\">\n",
              "    <path d=\"M120-120v-720h720v720H120Zm60-500h600v-160H180v160Zm220 220h160v-160H400v160Zm0 220h160v-160H400v160ZM180-400h160v-160H180v160Zm440 0h160v-160H620v160ZM180-180h160v-160H180v160Zm440 0h160v-160H620v160Z\"/>\n",
              "  </svg>\n",
              "    </button>\n",
              "\n",
              "  <style>\n",
              "    .colab-df-container {\n",
              "      display:flex;\n",
              "      gap: 12px;\n",
              "    }\n",
              "\n",
              "    .colab-df-convert {\n",
              "      background-color: #E8F0FE;\n",
              "      border: none;\n",
              "      border-radius: 50%;\n",
              "      cursor: pointer;\n",
              "      display: none;\n",
              "      fill: #1967D2;\n",
              "      height: 32px;\n",
              "      padding: 0 0 0 0;\n",
              "      width: 32px;\n",
              "    }\n",
              "\n",
              "    .colab-df-convert:hover {\n",
              "      background-color: #E2EBFA;\n",
              "      box-shadow: 0px 1px 2px rgba(60, 64, 67, 0.3), 0px 1px 3px 1px rgba(60, 64, 67, 0.15);\n",
              "      fill: #174EA6;\n",
              "    }\n",
              "\n",
              "    .colab-df-buttons div {\n",
              "      margin-bottom: 4px;\n",
              "    }\n",
              "\n",
              "    [theme=dark] .colab-df-convert {\n",
              "      background-color: #3B4455;\n",
              "      fill: #D2E3FC;\n",
              "    }\n",
              "\n",
              "    [theme=dark] .colab-df-convert:hover {\n",
              "      background-color: #434B5C;\n",
              "      box-shadow: 0px 1px 3px 1px rgba(0, 0, 0, 0.15);\n",
              "      filter: drop-shadow(0px 1px 2px rgba(0, 0, 0, 0.3));\n",
              "      fill: #FFFFFF;\n",
              "    }\n",
              "  </style>\n",
              "\n",
              "    <script>\n",
              "      const buttonEl =\n",
              "        document.querySelector('#df-775a5675-6a32-44fc-b961-c5e7dacf6528 button.colab-df-convert');\n",
              "      buttonEl.style.display =\n",
              "        google.colab.kernel.accessAllowed ? 'block' : 'none';\n",
              "\n",
              "      async function convertToInteractive(key) {\n",
              "        const element = document.querySelector('#df-775a5675-6a32-44fc-b961-c5e7dacf6528');\n",
              "        const dataTable =\n",
              "          await google.colab.kernel.invokeFunction('convertToInteractive',\n",
              "                                                    [key], {});\n",
              "        if (!dataTable) return;\n",
              "\n",
              "        const docLinkHtml = 'Like what you see? Visit the ' +\n",
              "          '<a target=\"_blank\" href=https://colab.research.google.com/notebooks/data_table.ipynb>data table notebook</a>'\n",
              "          + ' to learn more about interactive tables.';\n",
              "        element.innerHTML = '';\n",
              "        dataTable['output_type'] = 'display_data';\n",
              "        await google.colab.output.renderOutput(dataTable, element);\n",
              "        const docLink = document.createElement('div');\n",
              "        docLink.innerHTML = docLinkHtml;\n",
              "        element.appendChild(docLink);\n",
              "      }\n",
              "    </script>\n",
              "  </div>\n",
              "\n",
              "\n",
              "<div id=\"df-b8091184-55a3-4aed-aa95-968bd708b832\">\n",
              "  <button class=\"colab-df-quickchart\" onclick=\"quickchart('df-b8091184-55a3-4aed-aa95-968bd708b832')\"\n",
              "            title=\"Suggest charts\"\n",
              "            style=\"display:none;\">\n",
              "\n",
              "<svg xmlns=\"http://www.w3.org/2000/svg\" height=\"24px\"viewBox=\"0 0 24 24\"\n",
              "     width=\"24px\">\n",
              "    <g>\n",
              "        <path d=\"M19 3H5c-1.1 0-2 .9-2 2v14c0 1.1.9 2 2 2h14c1.1 0 2-.9 2-2V5c0-1.1-.9-2-2-2zM9 17H7v-7h2v7zm4 0h-2V7h2v10zm4 0h-2v-4h2v4z\"/>\n",
              "    </g>\n",
              "</svg>\n",
              "  </button>\n",
              "\n",
              "<style>\n",
              "  .colab-df-quickchart {\n",
              "      --bg-color: #E8F0FE;\n",
              "      --fill-color: #1967D2;\n",
              "      --hover-bg-color: #E2EBFA;\n",
              "      --hover-fill-color: #174EA6;\n",
              "      --disabled-fill-color: #AAA;\n",
              "      --disabled-bg-color: #DDD;\n",
              "  }\n",
              "\n",
              "  [theme=dark] .colab-df-quickchart {\n",
              "      --bg-color: #3B4455;\n",
              "      --fill-color: #D2E3FC;\n",
              "      --hover-bg-color: #434B5C;\n",
              "      --hover-fill-color: #FFFFFF;\n",
              "      --disabled-bg-color: #3B4455;\n",
              "      --disabled-fill-color: #666;\n",
              "  }\n",
              "\n",
              "  .colab-df-quickchart {\n",
              "    background-color: var(--bg-color);\n",
              "    border: none;\n",
              "    border-radius: 50%;\n",
              "    cursor: pointer;\n",
              "    display: none;\n",
              "    fill: var(--fill-color);\n",
              "    height: 32px;\n",
              "    padding: 0;\n",
              "    width: 32px;\n",
              "  }\n",
              "\n",
              "  .colab-df-quickchart:hover {\n",
              "    background-color: var(--hover-bg-color);\n",
              "    box-shadow: 0 1px 2px rgba(60, 64, 67, 0.3), 0 1px 3px 1px rgba(60, 64, 67, 0.15);\n",
              "    fill: var(--button-hover-fill-color);\n",
              "  }\n",
              "\n",
              "  .colab-df-quickchart-complete:disabled,\n",
              "  .colab-df-quickchart-complete:disabled:hover {\n",
              "    background-color: var(--disabled-bg-color);\n",
              "    fill: var(--disabled-fill-color);\n",
              "    box-shadow: none;\n",
              "  }\n",
              "\n",
              "  .colab-df-spinner {\n",
              "    border: 2px solid var(--fill-color);\n",
              "    border-color: transparent;\n",
              "    border-bottom-color: var(--fill-color);\n",
              "    animation:\n",
              "      spin 1s steps(1) infinite;\n",
              "  }\n",
              "\n",
              "  @keyframes spin {\n",
              "    0% {\n",
              "      border-color: transparent;\n",
              "      border-bottom-color: var(--fill-color);\n",
              "      border-left-color: var(--fill-color);\n",
              "    }\n",
              "    20% {\n",
              "      border-color: transparent;\n",
              "      border-left-color: var(--fill-color);\n",
              "      border-top-color: var(--fill-color);\n",
              "    }\n",
              "    30% {\n",
              "      border-color: transparent;\n",
              "      border-left-color: var(--fill-color);\n",
              "      border-top-color: var(--fill-color);\n",
              "      border-right-color: var(--fill-color);\n",
              "    }\n",
              "    40% {\n",
              "      border-color: transparent;\n",
              "      border-right-color: var(--fill-color);\n",
              "      border-top-color: var(--fill-color);\n",
              "    }\n",
              "    60% {\n",
              "      border-color: transparent;\n",
              "      border-right-color: var(--fill-color);\n",
              "    }\n",
              "    80% {\n",
              "      border-color: transparent;\n",
              "      border-right-color: var(--fill-color);\n",
              "      border-bottom-color: var(--fill-color);\n",
              "    }\n",
              "    90% {\n",
              "      border-color: transparent;\n",
              "      border-bottom-color: var(--fill-color);\n",
              "    }\n",
              "  }\n",
              "</style>\n",
              "\n",
              "  <script>\n",
              "    async function quickchart(key) {\n",
              "      const quickchartButtonEl =\n",
              "        document.querySelector('#' + key + ' button');\n",
              "      quickchartButtonEl.disabled = true;  // To prevent multiple clicks.\n",
              "      quickchartButtonEl.classList.add('colab-df-spinner');\n",
              "      try {\n",
              "        const charts = await google.colab.kernel.invokeFunction(\n",
              "            'suggestCharts', [key], {});\n",
              "      } catch (error) {\n",
              "        console.error('Error during call to suggestCharts:', error);\n",
              "      }\n",
              "      quickchartButtonEl.classList.remove('colab-df-spinner');\n",
              "      quickchartButtonEl.classList.add('colab-df-quickchart-complete');\n",
              "    }\n",
              "    (() => {\n",
              "      let quickchartButtonEl =\n",
              "        document.querySelector('#df-b8091184-55a3-4aed-aa95-968bd708b832 button');\n",
              "      quickchartButtonEl.style.display =\n",
              "        google.colab.kernel.accessAllowed ? 'block' : 'none';\n",
              "    })();\n",
              "  </script>\n",
              "</div>\n",
              "    </div>\n",
              "  </div>\n"
            ]
          },
          "metadata": {},
          "execution_count": 9
        }
      ]
    },
    {
      "cell_type": "code",
      "source": [
        "df['sentence'].loc[:2]"
      ],
      "metadata": {
        "colab": {
          "base_uri": "https://localhost:8080/"
        },
        "id": "BC8qgBeLZcro",
        "outputId": "a3195cdd-4a44-4394-c123-ecc4700142ef"
      },
      "execution_count": null,
      "outputs": [
        {
          "output_type": "execute_result",
          "data": {
            "text/plain": [
              "0    После регистрации принятых от гражданина докум...\n",
              "1    В случаях, требующих проведения специальной пр...\n",
              "2    Распоряжение об утверждении проекта границ зем...\n",
              "Name: sentence, dtype: object"
            ]
          },
          "metadata": {},
          "execution_count": 10
        }
      ]
    },
    {
      "cell_type": "code",
      "source": [
        "df.columns"
      ],
      "metadata": {
        "colab": {
          "base_uri": "https://localhost:8080/"
        },
        "id": "giwtO-XySvxK",
        "outputId": "6aa2f583-14d0-4a81-9b8c-76a30cebaaa3"
      },
      "execution_count": null,
      "outputs": [
        {
          "output_type": "execute_result",
          "data": {
            "text/plain": [
              "Index(['sentence', 'label '], dtype='object')"
            ]
          },
          "metadata": {},
          "execution_count": 11
        }
      ]
    },
    {
      "cell_type": "code",
      "source": [
        "df = df.rename(columns ={ 'label ':'label'})"
      ],
      "metadata": {
        "id": "AXZBXqcIqlei"
      },
      "execution_count": null,
      "outputs": []
    },
    {
      "cell_type": "markdown",
      "source": [
        "1.2 Делаем выборочный обзор полученных данных, проверояем данные на наличие пропусков"
      ],
      "metadata": {
        "id": "HMsuwdhOuRpD"
      }
    },
    {
      "cell_type": "code",
      "source": [
        "df['label'].value_counts()"
      ],
      "metadata": {
        "colab": {
          "base_uri": "https://localhost:8080/"
        },
        "id": "f1fHm0Y3SdgU",
        "outputId": "b351e0ac-96b5-45d1-c959-38df926fe3b4"
      },
      "execution_count": null,
      "outputs": [
        {
          "output_type": "execute_result",
          "data": {
            "text/plain": [
              "1    51\n",
              "0    37\n",
              "Name: label, dtype: int64"
            ]
          },
          "metadata": {},
          "execution_count": 13
        }
      ]
    },
    {
      "cell_type": "code",
      "source": [
        "df.info()"
      ],
      "metadata": {
        "colab": {
          "base_uri": "https://localhost:8080/"
        },
        "id": "zUzc16kXUJ7z",
        "outputId": "a8c5e5e2-7444-41c9-c4d0-be15dbf7b1b6"
      },
      "execution_count": null,
      "outputs": [
        {
          "output_type": "stream",
          "name": "stdout",
          "text": [
            "<class 'pandas.core.frame.DataFrame'>\n",
            "RangeIndex: 88 entries, 0 to 87\n",
            "Data columns (total 2 columns):\n",
            " #   Column    Non-Null Count  Dtype \n",
            "---  ------    --------------  ----- \n",
            " 0   sentence  88 non-null     object\n",
            " 1   label     88 non-null     int64 \n",
            "dtypes: int64(1), object(1)\n",
            "memory usage: 1.5+ KB\n"
          ]
        }
      ]
    },
    {
      "cell_type": "code",
      "source": [
        "df.iloc[0,0]"
      ],
      "metadata": {
        "colab": {
          "base_uri": "https://localhost:8080/",
          "height": 53
        },
        "id": "8Q6xsBLMif3n",
        "outputId": "e15833a6-158f-408f-a92e-ab688714cd08"
      },
      "execution_count": null,
      "outputs": [
        {
          "output_type": "execute_result",
          "data": {
            "text/plain": [
              "'После регистрации принятых от гражданина документов они в течение одного рабочего дня направляются в юридическую службу для проведения правовой экспертизы. В случае положительного результата правовой экспертизы документов юридическая служба готовит проект распоряжения о даче согласия на вступление в брак несовершеннолетних лиц'"
            ],
            "application/vnd.google.colaboratory.intrinsic+json": {
              "type": "string"
            }
          },
          "metadata": {},
          "execution_count": 15
        }
      ]
    },
    {
      "cell_type": "code",
      "source": [
        "df['label'][0]"
      ],
      "metadata": {
        "colab": {
          "base_uri": "https://localhost:8080/"
        },
        "id": "qPXjIlQWj944",
        "outputId": "27b544e2-89ae-42f1-a3a9-7b84b20de733"
      },
      "execution_count": null,
      "outputs": [
        {
          "output_type": "execute_result",
          "data": {
            "text/plain": [
              "1"
            ]
          },
          "metadata": {},
          "execution_count": 16
        }
      ]
    },
    {
      "cell_type": "markdown",
      "source": [
        "Положительные примеры"
      ],
      "metadata": {
        "id": "4Fl27ZiFoqtM"
      }
    },
    {
      "cell_type": "code",
      "source": [
        "df.loc[df['label'] ==0.0].sample(5)"
      ],
      "metadata": {
        "colab": {
          "base_uri": "https://localhost:8080/",
          "height": 206
        },
        "id": "VvtOjlIfkd4n",
        "outputId": "5dbd128d-c841-4a59-bce9-327621459d1e"
      },
      "execution_count": null,
      "outputs": [
        {
          "output_type": "execute_result",
          "data": {
            "text/plain": [
              "                                             sentence  label\n",
              "72  Если день обращения (при поступлении заявления...      0\n",
              "67  Уполномоченный орган местной администрации (да...      0\n",
              "77  устанавливают необходимость согласования созда...      0\n",
              "84  Минтерразвития Забайкальского края переносит д...      0\n",
              "2   Распоряжение об утверждении проекта границ зем...      0"
            ],
            "text/html": [
              "\n",
              "  <div id=\"df-64b50813-059d-4340-83bb-519cc04b25b2\" class=\"colab-df-container\">\n",
              "    <div>\n",
              "<style scoped>\n",
              "    .dataframe tbody tr th:only-of-type {\n",
              "        vertical-align: middle;\n",
              "    }\n",
              "\n",
              "    .dataframe tbody tr th {\n",
              "        vertical-align: top;\n",
              "    }\n",
              "\n",
              "    .dataframe thead th {\n",
              "        text-align: right;\n",
              "    }\n",
              "</style>\n",
              "<table border=\"1\" class=\"dataframe\">\n",
              "  <thead>\n",
              "    <tr style=\"text-align: right;\">\n",
              "      <th></th>\n",
              "      <th>sentence</th>\n",
              "      <th>label</th>\n",
              "    </tr>\n",
              "  </thead>\n",
              "  <tbody>\n",
              "    <tr>\n",
              "      <th>72</th>\n",
              "      <td>Если день обращения (при поступлении заявления...</td>\n",
              "      <td>0</td>\n",
              "    </tr>\n",
              "    <tr>\n",
              "      <th>67</th>\n",
              "      <td>Уполномоченный орган местной администрации (да...</td>\n",
              "      <td>0</td>\n",
              "    </tr>\n",
              "    <tr>\n",
              "      <th>77</th>\n",
              "      <td>устанавливают необходимость согласования созда...</td>\n",
              "      <td>0</td>\n",
              "    </tr>\n",
              "    <tr>\n",
              "      <th>84</th>\n",
              "      <td>Минтерразвития Забайкальского края переносит д...</td>\n",
              "      <td>0</td>\n",
              "    </tr>\n",
              "    <tr>\n",
              "      <th>2</th>\n",
              "      <td>Распоряжение об утверждении проекта границ зем...</td>\n",
              "      <td>0</td>\n",
              "    </tr>\n",
              "  </tbody>\n",
              "</table>\n",
              "</div>\n",
              "    <div class=\"colab-df-buttons\">\n",
              "\n",
              "  <div class=\"colab-df-container\">\n",
              "    <button class=\"colab-df-convert\" onclick=\"convertToInteractive('df-64b50813-059d-4340-83bb-519cc04b25b2')\"\n",
              "            title=\"Convert this dataframe to an interactive table.\"\n",
              "            style=\"display:none;\">\n",
              "\n",
              "  <svg xmlns=\"http://www.w3.org/2000/svg\" height=\"24px\" viewBox=\"0 -960 960 960\">\n",
              "    <path d=\"M120-120v-720h720v720H120Zm60-500h600v-160H180v160Zm220 220h160v-160H400v160Zm0 220h160v-160H400v160ZM180-400h160v-160H180v160Zm440 0h160v-160H620v160ZM180-180h160v-160H180v160Zm440 0h160v-160H620v160Z\"/>\n",
              "  </svg>\n",
              "    </button>\n",
              "\n",
              "  <style>\n",
              "    .colab-df-container {\n",
              "      display:flex;\n",
              "      gap: 12px;\n",
              "    }\n",
              "\n",
              "    .colab-df-convert {\n",
              "      background-color: #E8F0FE;\n",
              "      border: none;\n",
              "      border-radius: 50%;\n",
              "      cursor: pointer;\n",
              "      display: none;\n",
              "      fill: #1967D2;\n",
              "      height: 32px;\n",
              "      padding: 0 0 0 0;\n",
              "      width: 32px;\n",
              "    }\n",
              "\n",
              "    .colab-df-convert:hover {\n",
              "      background-color: #E2EBFA;\n",
              "      box-shadow: 0px 1px 2px rgba(60, 64, 67, 0.3), 0px 1px 3px 1px rgba(60, 64, 67, 0.15);\n",
              "      fill: #174EA6;\n",
              "    }\n",
              "\n",
              "    .colab-df-buttons div {\n",
              "      margin-bottom: 4px;\n",
              "    }\n",
              "\n",
              "    [theme=dark] .colab-df-convert {\n",
              "      background-color: #3B4455;\n",
              "      fill: #D2E3FC;\n",
              "    }\n",
              "\n",
              "    [theme=dark] .colab-df-convert:hover {\n",
              "      background-color: #434B5C;\n",
              "      box-shadow: 0px 1px 3px 1px rgba(0, 0, 0, 0.15);\n",
              "      filter: drop-shadow(0px 1px 2px rgba(0, 0, 0, 0.3));\n",
              "      fill: #FFFFFF;\n",
              "    }\n",
              "  </style>\n",
              "\n",
              "    <script>\n",
              "      const buttonEl =\n",
              "        document.querySelector('#df-64b50813-059d-4340-83bb-519cc04b25b2 button.colab-df-convert');\n",
              "      buttonEl.style.display =\n",
              "        google.colab.kernel.accessAllowed ? 'block' : 'none';\n",
              "\n",
              "      async function convertToInteractive(key) {\n",
              "        const element = document.querySelector('#df-64b50813-059d-4340-83bb-519cc04b25b2');\n",
              "        const dataTable =\n",
              "          await google.colab.kernel.invokeFunction('convertToInteractive',\n",
              "                                                    [key], {});\n",
              "        if (!dataTable) return;\n",
              "\n",
              "        const docLinkHtml = 'Like what you see? Visit the ' +\n",
              "          '<a target=\"_blank\" href=https://colab.research.google.com/notebooks/data_table.ipynb>data table notebook</a>'\n",
              "          + ' to learn more about interactive tables.';\n",
              "        element.innerHTML = '';\n",
              "        dataTable['output_type'] = 'display_data';\n",
              "        await google.colab.output.renderOutput(dataTable, element);\n",
              "        const docLink = document.createElement('div');\n",
              "        docLink.innerHTML = docLinkHtml;\n",
              "        element.appendChild(docLink);\n",
              "      }\n",
              "    </script>\n",
              "  </div>\n",
              "\n",
              "\n",
              "<div id=\"df-a9060263-8be4-4656-8f4a-54d8b1c01786\">\n",
              "  <button class=\"colab-df-quickchart\" onclick=\"quickchart('df-a9060263-8be4-4656-8f4a-54d8b1c01786')\"\n",
              "            title=\"Suggest charts\"\n",
              "            style=\"display:none;\">\n",
              "\n",
              "<svg xmlns=\"http://www.w3.org/2000/svg\" height=\"24px\"viewBox=\"0 0 24 24\"\n",
              "     width=\"24px\">\n",
              "    <g>\n",
              "        <path d=\"M19 3H5c-1.1 0-2 .9-2 2v14c0 1.1.9 2 2 2h14c1.1 0 2-.9 2-2V5c0-1.1-.9-2-2-2zM9 17H7v-7h2v7zm4 0h-2V7h2v10zm4 0h-2v-4h2v4z\"/>\n",
              "    </g>\n",
              "</svg>\n",
              "  </button>\n",
              "\n",
              "<style>\n",
              "  .colab-df-quickchart {\n",
              "      --bg-color: #E8F0FE;\n",
              "      --fill-color: #1967D2;\n",
              "      --hover-bg-color: #E2EBFA;\n",
              "      --hover-fill-color: #174EA6;\n",
              "      --disabled-fill-color: #AAA;\n",
              "      --disabled-bg-color: #DDD;\n",
              "  }\n",
              "\n",
              "  [theme=dark] .colab-df-quickchart {\n",
              "      --bg-color: #3B4455;\n",
              "      --fill-color: #D2E3FC;\n",
              "      --hover-bg-color: #434B5C;\n",
              "      --hover-fill-color: #FFFFFF;\n",
              "      --disabled-bg-color: #3B4455;\n",
              "      --disabled-fill-color: #666;\n",
              "  }\n",
              "\n",
              "  .colab-df-quickchart {\n",
              "    background-color: var(--bg-color);\n",
              "    border: none;\n",
              "    border-radius: 50%;\n",
              "    cursor: pointer;\n",
              "    display: none;\n",
              "    fill: var(--fill-color);\n",
              "    height: 32px;\n",
              "    padding: 0;\n",
              "    width: 32px;\n",
              "  }\n",
              "\n",
              "  .colab-df-quickchart:hover {\n",
              "    background-color: var(--hover-bg-color);\n",
              "    box-shadow: 0 1px 2px rgba(60, 64, 67, 0.3), 0 1px 3px 1px rgba(60, 64, 67, 0.15);\n",
              "    fill: var(--button-hover-fill-color);\n",
              "  }\n",
              "\n",
              "  .colab-df-quickchart-complete:disabled,\n",
              "  .colab-df-quickchart-complete:disabled:hover {\n",
              "    background-color: var(--disabled-bg-color);\n",
              "    fill: var(--disabled-fill-color);\n",
              "    box-shadow: none;\n",
              "  }\n",
              "\n",
              "  .colab-df-spinner {\n",
              "    border: 2px solid var(--fill-color);\n",
              "    border-color: transparent;\n",
              "    border-bottom-color: var(--fill-color);\n",
              "    animation:\n",
              "      spin 1s steps(1) infinite;\n",
              "  }\n",
              "\n",
              "  @keyframes spin {\n",
              "    0% {\n",
              "      border-color: transparent;\n",
              "      border-bottom-color: var(--fill-color);\n",
              "      border-left-color: var(--fill-color);\n",
              "    }\n",
              "    20% {\n",
              "      border-color: transparent;\n",
              "      border-left-color: var(--fill-color);\n",
              "      border-top-color: var(--fill-color);\n",
              "    }\n",
              "    30% {\n",
              "      border-color: transparent;\n",
              "      border-left-color: var(--fill-color);\n",
              "      border-top-color: var(--fill-color);\n",
              "      border-right-color: var(--fill-color);\n",
              "    }\n",
              "    40% {\n",
              "      border-color: transparent;\n",
              "      border-right-color: var(--fill-color);\n",
              "      border-top-color: var(--fill-color);\n",
              "    }\n",
              "    60% {\n",
              "      border-color: transparent;\n",
              "      border-right-color: var(--fill-color);\n",
              "    }\n",
              "    80% {\n",
              "      border-color: transparent;\n",
              "      border-right-color: var(--fill-color);\n",
              "      border-bottom-color: var(--fill-color);\n",
              "    }\n",
              "    90% {\n",
              "      border-color: transparent;\n",
              "      border-bottom-color: var(--fill-color);\n",
              "    }\n",
              "  }\n",
              "</style>\n",
              "\n",
              "  <script>\n",
              "    async function quickchart(key) {\n",
              "      const quickchartButtonEl =\n",
              "        document.querySelector('#' + key + ' button');\n",
              "      quickchartButtonEl.disabled = true;  // To prevent multiple clicks.\n",
              "      quickchartButtonEl.classList.add('colab-df-spinner');\n",
              "      try {\n",
              "        const charts = await google.colab.kernel.invokeFunction(\n",
              "            'suggestCharts', [key], {});\n",
              "      } catch (error) {\n",
              "        console.error('Error during call to suggestCharts:', error);\n",
              "      }\n",
              "      quickchartButtonEl.classList.remove('colab-df-spinner');\n",
              "      quickchartButtonEl.classList.add('colab-df-quickchart-complete');\n",
              "    }\n",
              "    (() => {\n",
              "      let quickchartButtonEl =\n",
              "        document.querySelector('#df-a9060263-8be4-4656-8f4a-54d8b1c01786 button');\n",
              "      quickchartButtonEl.style.display =\n",
              "        google.colab.kernel.accessAllowed ? 'block' : 'none';\n",
              "    })();\n",
              "  </script>\n",
              "</div>\n",
              "    </div>\n",
              "  </div>\n"
            ]
          },
          "metadata": {},
          "execution_count": 17
        }
      ]
    },
    {
      "cell_type": "markdown",
      "source": [
        "Отрицательные примеры с корупциогенными признаками"
      ],
      "metadata": {
        "id": "5c_RFs1nowLy"
      }
    },
    {
      "cell_type": "code",
      "source": [
        "df.loc[df['label'] ==1.0].sample(5)"
      ],
      "metadata": {
        "colab": {
          "base_uri": "https://localhost:8080/",
          "height": 206
        },
        "id": "uVx3-uo5mLhy",
        "outputId": "6a4620c1-2967-44fc-85d2-a57f3cb5890c"
      },
      "execution_count": null,
      "outputs": [
        {
          "output_type": "execute_result",
          "data": {
            "text/plain": [
              "                                             sentence  label\n",
              "17  Маршрут может быть закрыт или приостановлен в ...      1\n",
              "31  В случае утраты действующей лицензии на право ...      1\n",
              "28  Орган  местной администрации  в области земель...      1\n",
              "0   После регистрации принятых от гражданина докум...      1\n",
              "41  При наличии у учреждения сведений, необходимых...      1"
            ],
            "text/html": [
              "\n",
              "  <div id=\"df-c984f180-9e78-4657-be2d-ab8eb9413d47\" class=\"colab-df-container\">\n",
              "    <div>\n",
              "<style scoped>\n",
              "    .dataframe tbody tr th:only-of-type {\n",
              "        vertical-align: middle;\n",
              "    }\n",
              "\n",
              "    .dataframe tbody tr th {\n",
              "        vertical-align: top;\n",
              "    }\n",
              "\n",
              "    .dataframe thead th {\n",
              "        text-align: right;\n",
              "    }\n",
              "</style>\n",
              "<table border=\"1\" class=\"dataframe\">\n",
              "  <thead>\n",
              "    <tr style=\"text-align: right;\">\n",
              "      <th></th>\n",
              "      <th>sentence</th>\n",
              "      <th>label</th>\n",
              "    </tr>\n",
              "  </thead>\n",
              "  <tbody>\n",
              "    <tr>\n",
              "      <th>17</th>\n",
              "      <td>Маршрут может быть закрыт или приостановлен в ...</td>\n",
              "      <td>1</td>\n",
              "    </tr>\n",
              "    <tr>\n",
              "      <th>31</th>\n",
              "      <td>В случае утраты действующей лицензии на право ...</td>\n",
              "      <td>1</td>\n",
              "    </tr>\n",
              "    <tr>\n",
              "      <th>28</th>\n",
              "      <td>Орган  местной администрации  в области земель...</td>\n",
              "      <td>1</td>\n",
              "    </tr>\n",
              "    <tr>\n",
              "      <th>0</th>\n",
              "      <td>После регистрации принятых от гражданина докум...</td>\n",
              "      <td>1</td>\n",
              "    </tr>\n",
              "    <tr>\n",
              "      <th>41</th>\n",
              "      <td>При наличии у учреждения сведений, необходимых...</td>\n",
              "      <td>1</td>\n",
              "    </tr>\n",
              "  </tbody>\n",
              "</table>\n",
              "</div>\n",
              "    <div class=\"colab-df-buttons\">\n",
              "\n",
              "  <div class=\"colab-df-container\">\n",
              "    <button class=\"colab-df-convert\" onclick=\"convertToInteractive('df-c984f180-9e78-4657-be2d-ab8eb9413d47')\"\n",
              "            title=\"Convert this dataframe to an interactive table.\"\n",
              "            style=\"display:none;\">\n",
              "\n",
              "  <svg xmlns=\"http://www.w3.org/2000/svg\" height=\"24px\" viewBox=\"0 -960 960 960\">\n",
              "    <path d=\"M120-120v-720h720v720H120Zm60-500h600v-160H180v160Zm220 220h160v-160H400v160Zm0 220h160v-160H400v160ZM180-400h160v-160H180v160Zm440 0h160v-160H620v160ZM180-180h160v-160H180v160Zm440 0h160v-160H620v160Z\"/>\n",
              "  </svg>\n",
              "    </button>\n",
              "\n",
              "  <style>\n",
              "    .colab-df-container {\n",
              "      display:flex;\n",
              "      gap: 12px;\n",
              "    }\n",
              "\n",
              "    .colab-df-convert {\n",
              "      background-color: #E8F0FE;\n",
              "      border: none;\n",
              "      border-radius: 50%;\n",
              "      cursor: pointer;\n",
              "      display: none;\n",
              "      fill: #1967D2;\n",
              "      height: 32px;\n",
              "      padding: 0 0 0 0;\n",
              "      width: 32px;\n",
              "    }\n",
              "\n",
              "    .colab-df-convert:hover {\n",
              "      background-color: #E2EBFA;\n",
              "      box-shadow: 0px 1px 2px rgba(60, 64, 67, 0.3), 0px 1px 3px 1px rgba(60, 64, 67, 0.15);\n",
              "      fill: #174EA6;\n",
              "    }\n",
              "\n",
              "    .colab-df-buttons div {\n",
              "      margin-bottom: 4px;\n",
              "    }\n",
              "\n",
              "    [theme=dark] .colab-df-convert {\n",
              "      background-color: #3B4455;\n",
              "      fill: #D2E3FC;\n",
              "    }\n",
              "\n",
              "    [theme=dark] .colab-df-convert:hover {\n",
              "      background-color: #434B5C;\n",
              "      box-shadow: 0px 1px 3px 1px rgba(0, 0, 0, 0.15);\n",
              "      filter: drop-shadow(0px 1px 2px rgba(0, 0, 0, 0.3));\n",
              "      fill: #FFFFFF;\n",
              "    }\n",
              "  </style>\n",
              "\n",
              "    <script>\n",
              "      const buttonEl =\n",
              "        document.querySelector('#df-c984f180-9e78-4657-be2d-ab8eb9413d47 button.colab-df-convert');\n",
              "      buttonEl.style.display =\n",
              "        google.colab.kernel.accessAllowed ? 'block' : 'none';\n",
              "\n",
              "      async function convertToInteractive(key) {\n",
              "        const element = document.querySelector('#df-c984f180-9e78-4657-be2d-ab8eb9413d47');\n",
              "        const dataTable =\n",
              "          await google.colab.kernel.invokeFunction('convertToInteractive',\n",
              "                                                    [key], {});\n",
              "        if (!dataTable) return;\n",
              "\n",
              "        const docLinkHtml = 'Like what you see? Visit the ' +\n",
              "          '<a target=\"_blank\" href=https://colab.research.google.com/notebooks/data_table.ipynb>data table notebook</a>'\n",
              "          + ' to learn more about interactive tables.';\n",
              "        element.innerHTML = '';\n",
              "        dataTable['output_type'] = 'display_data';\n",
              "        await google.colab.output.renderOutput(dataTable, element);\n",
              "        const docLink = document.createElement('div');\n",
              "        docLink.innerHTML = docLinkHtml;\n",
              "        element.appendChild(docLink);\n",
              "      }\n",
              "    </script>\n",
              "  </div>\n",
              "\n",
              "\n",
              "<div id=\"df-d8f250e8-4574-4a3f-b2f3-6a2459a184d0\">\n",
              "  <button class=\"colab-df-quickchart\" onclick=\"quickchart('df-d8f250e8-4574-4a3f-b2f3-6a2459a184d0')\"\n",
              "            title=\"Suggest charts\"\n",
              "            style=\"display:none;\">\n",
              "\n",
              "<svg xmlns=\"http://www.w3.org/2000/svg\" height=\"24px\"viewBox=\"0 0 24 24\"\n",
              "     width=\"24px\">\n",
              "    <g>\n",
              "        <path d=\"M19 3H5c-1.1 0-2 .9-2 2v14c0 1.1.9 2 2 2h14c1.1 0 2-.9 2-2V5c0-1.1-.9-2-2-2zM9 17H7v-7h2v7zm4 0h-2V7h2v10zm4 0h-2v-4h2v4z\"/>\n",
              "    </g>\n",
              "</svg>\n",
              "  </button>\n",
              "\n",
              "<style>\n",
              "  .colab-df-quickchart {\n",
              "      --bg-color: #E8F0FE;\n",
              "      --fill-color: #1967D2;\n",
              "      --hover-bg-color: #E2EBFA;\n",
              "      --hover-fill-color: #174EA6;\n",
              "      --disabled-fill-color: #AAA;\n",
              "      --disabled-bg-color: #DDD;\n",
              "  }\n",
              "\n",
              "  [theme=dark] .colab-df-quickchart {\n",
              "      --bg-color: #3B4455;\n",
              "      --fill-color: #D2E3FC;\n",
              "      --hover-bg-color: #434B5C;\n",
              "      --hover-fill-color: #FFFFFF;\n",
              "      --disabled-bg-color: #3B4455;\n",
              "      --disabled-fill-color: #666;\n",
              "  }\n",
              "\n",
              "  .colab-df-quickchart {\n",
              "    background-color: var(--bg-color);\n",
              "    border: none;\n",
              "    border-radius: 50%;\n",
              "    cursor: pointer;\n",
              "    display: none;\n",
              "    fill: var(--fill-color);\n",
              "    height: 32px;\n",
              "    padding: 0;\n",
              "    width: 32px;\n",
              "  }\n",
              "\n",
              "  .colab-df-quickchart:hover {\n",
              "    background-color: var(--hover-bg-color);\n",
              "    box-shadow: 0 1px 2px rgba(60, 64, 67, 0.3), 0 1px 3px 1px rgba(60, 64, 67, 0.15);\n",
              "    fill: var(--button-hover-fill-color);\n",
              "  }\n",
              "\n",
              "  .colab-df-quickchart-complete:disabled,\n",
              "  .colab-df-quickchart-complete:disabled:hover {\n",
              "    background-color: var(--disabled-bg-color);\n",
              "    fill: var(--disabled-fill-color);\n",
              "    box-shadow: none;\n",
              "  }\n",
              "\n",
              "  .colab-df-spinner {\n",
              "    border: 2px solid var(--fill-color);\n",
              "    border-color: transparent;\n",
              "    border-bottom-color: var(--fill-color);\n",
              "    animation:\n",
              "      spin 1s steps(1) infinite;\n",
              "  }\n",
              "\n",
              "  @keyframes spin {\n",
              "    0% {\n",
              "      border-color: transparent;\n",
              "      border-bottom-color: var(--fill-color);\n",
              "      border-left-color: var(--fill-color);\n",
              "    }\n",
              "    20% {\n",
              "      border-color: transparent;\n",
              "      border-left-color: var(--fill-color);\n",
              "      border-top-color: var(--fill-color);\n",
              "    }\n",
              "    30% {\n",
              "      border-color: transparent;\n",
              "      border-left-color: var(--fill-color);\n",
              "      border-top-color: var(--fill-color);\n",
              "      border-right-color: var(--fill-color);\n",
              "    }\n",
              "    40% {\n",
              "      border-color: transparent;\n",
              "      border-right-color: var(--fill-color);\n",
              "      border-top-color: var(--fill-color);\n",
              "    }\n",
              "    60% {\n",
              "      border-color: transparent;\n",
              "      border-right-color: var(--fill-color);\n",
              "    }\n",
              "    80% {\n",
              "      border-color: transparent;\n",
              "      border-right-color: var(--fill-color);\n",
              "      border-bottom-color: var(--fill-color);\n",
              "    }\n",
              "    90% {\n",
              "      border-color: transparent;\n",
              "      border-bottom-color: var(--fill-color);\n",
              "    }\n",
              "  }\n",
              "</style>\n",
              "\n",
              "  <script>\n",
              "    async function quickchart(key) {\n",
              "      const quickchartButtonEl =\n",
              "        document.querySelector('#' + key + ' button');\n",
              "      quickchartButtonEl.disabled = true;  // To prevent multiple clicks.\n",
              "      quickchartButtonEl.classList.add('colab-df-spinner');\n",
              "      try {\n",
              "        const charts = await google.colab.kernel.invokeFunction(\n",
              "            'suggestCharts', [key], {});\n",
              "      } catch (error) {\n",
              "        console.error('Error during call to suggestCharts:', error);\n",
              "      }\n",
              "      quickchartButtonEl.classList.remove('colab-df-spinner');\n",
              "      quickchartButtonEl.classList.add('colab-df-quickchart-complete');\n",
              "    }\n",
              "    (() => {\n",
              "      let quickchartButtonEl =\n",
              "        document.querySelector('#df-d8f250e8-4574-4a3f-b2f3-6a2459a184d0 button');\n",
              "      quickchartButtonEl.style.display =\n",
              "        google.colab.kernel.accessAllowed ? 'block' : 'none';\n",
              "    })();\n",
              "  </script>\n",
              "</div>\n",
              "    </div>\n",
              "  </div>\n"
            ]
          },
          "metadata": {},
          "execution_count": 18
        }
      ]
    },
    {
      "cell_type": "markdown",
      "source": [
        "### ** 2.0 Feature engineering / подготовка данных к обучению модели RuBERT**"
      ],
      "metadata": {
        "id": "is44LpjZthpe"
      }
    },
    {
      "cell_type": "markdown",
      "source": [
        "Поскольку Машинное обучение лучше справляется с числами, чем с текстом, нам необходима процедура токенизации — преобразование текста в последовательность чисел"
      ],
      "metadata": {
        "id": "wTVmMKV8Mt7g"
      }
    },
    {
      "cell_type": "markdown",
      "source": [
        " 2.1 С помощью модуля Array переводим наши списки в массивы"
      ],
      "metadata": {
        "id": "jMgD_R8Oped9"
      }
    },
    {
      "cell_type": "code",
      "source": [
        "sentences = df.sentence.values\n",
        "labels = df.label.values"
      ],
      "metadata": {
        "id": "AYsPBO_3oQTy"
      },
      "execution_count": null,
      "outputs": []
    },
    {
      "cell_type": "code",
      "source": [
        "labels"
      ],
      "metadata": {
        "colab": {
          "base_uri": "https://localhost:8080/"
        },
        "id": "i7WiasmeonmS",
        "outputId": "8da6334a-a44a-4e5f-d922-31b55f2d42f2"
      },
      "execution_count": null,
      "outputs": [
        {
          "output_type": "execute_result",
          "data": {
            "text/plain": [
              "array([1, 0, 0, 0, 0, 1, 1, 1, 1, 1, 1, 1, 1, 1, 1, 1, 1, 1, 1, 1, 1, 1,\n",
              "       1, 1, 1, 1, 1, 1, 1, 1, 1, 1, 1, 1, 1, 1, 1, 1, 1, 1, 1, 1, 1, 1,\n",
              "       1, 0, 1, 1, 1, 1, 1, 1, 1, 1, 1, 1, 0, 0, 0, 0, 0, 0, 0, 0, 0, 0,\n",
              "       0, 0, 0, 0, 0, 0, 0, 0, 0, 0, 0, 0, 0, 0, 0, 0, 0, 0, 0, 0, 0, 0])"
            ]
          },
          "metadata": {},
          "execution_count": 20
        }
      ]
    },
    {
      "cell_type": "markdown",
      "source": [
        "2.2 Чтобы подать на вход текст в модель, необходимо его разбить на токены (отдельные слова) и далее привести к дискретному виду. Для примера применим токенезатор к одному предложению (разобъем предложение на слова)"
      ],
      "metadata": {
        "id": "dVB-c0S4ugqS"
      }
    },
    {
      "cell_type": "code",
      "source": [
        "# импортируем моедль и токенайзер\n",
        "from transformers import BertForMaskedLM, BertTokenizer"
      ],
      "metadata": {
        "id": "IIkoygs-pJI1"
      },
      "execution_count": null,
      "outputs": []
    },
    {
      "cell_type": "code",
      "source": [
        "print ('Loading RuBERT tokenizer ...')\n",
        "tokenizer=BertTokenizer.from_pretrained('sberbank-ai/ruBert-base', do_lower_case=False)"
      ],
      "metadata": {
        "colab": {
          "base_uri": "https://localhost:8080/",
          "height": 98,
          "referenced_widgets": [
            "287eaf30797d44f8ae111078e403b858",
            "7161303b6cef43a5b106fe3b811fd9e8",
            "20003727815a4d758712ff8265c34717",
            "35b3cb3ffc87443f8506092130c78167",
            "d5357dae0814467f8586a5a2f3c23281",
            "7835331d20e546ff97a166d082c0e5ba",
            "29c16ccbe9184a5e8d1498399fff6b04",
            "a9da42c74da84e68adba3b4d48814f6d",
            "b44c060ae87a4699919cc80ea55271f0",
            "39fb17afc2ca4ba0aef595c8a16d0573",
            "37c990a90c884004bde5fd1bd586017b",
            "66924a604e124093a7381baa2bc31aab",
            "ba094b6f448943b2a759e398628b315c",
            "407b908bef894fa1969176795ae501ee",
            "7fca3723141f4d88b531ac57a209cf5c",
            "675f5aacd5de45878103b46cf30d3f23",
            "5263189d7ee44550a258e9cfb5c820fd",
            "b89809e1ccd649638f32811752d2b1e3",
            "a88e89fe509a4860b8ca7dd73a44bad7",
            "d6e4223f9e6d45499e60ba3ff04395dc",
            "1c2d2c9a595a487ba5524b6bcb23420e",
            "d016b43d7abd4315b2c74285e9a3b953"
          ]
        },
        "id": "gkRyZoACyGzH",
        "outputId": "5cc25542-4d39-46f8-ca92-98d89ce8ab49"
      },
      "execution_count": null,
      "outputs": [
        {
          "output_type": "stream",
          "name": "stdout",
          "text": [
            "Loading RuBERT tokenizer ...\n"
          ]
        },
        {
          "output_type": "display_data",
          "data": {
            "text/plain": [
              "vocab.txt:   0%|          | 0.00/1.78M [00:00<?, ?B/s]"
            ],
            "application/vnd.jupyter.widget-view+json": {
              "version_major": 2,
              "version_minor": 0,
              "model_id": "287eaf30797d44f8ae111078e403b858"
            }
          },
          "metadata": {}
        },
        {
          "output_type": "display_data",
          "data": {
            "text/plain": [
              "config.json:   0%|          | 0.00/590 [00:00<?, ?B/s]"
            ],
            "application/vnd.jupyter.widget-view+json": {
              "version_major": 2,
              "version_minor": 0,
              "model_id": "66924a604e124093a7381baa2bc31aab"
            }
          },
          "metadata": {}
        }
      ]
    },
    {
      "cell_type": "code",
      "source": [
        "# изначальный текст первого предложения\n",
        "print('Original: ', sentences[0])\n",
        "# токенизированный текс\n",
        "print('Tokenised: ', tokenizer.tokenize(sentences[0]))\n",
        "# айди номер слова\n",
        "print(' Toked IDs: ', tokenizer.convert_tokens_to_ids(tokenizer.tokenize(sentences[0])))"
      ],
      "metadata": {
        "colab": {
          "base_uri": "https://localhost:8080/"
        },
        "id": "77pj0zikpJDg",
        "outputId": "c2180d0c-4f02-48d9-b5b2-9dec857fc548"
      },
      "execution_count": null,
      "outputs": [
        {
          "output_type": "stream",
          "name": "stdout",
          "text": [
            "Original:  После регистрации принятых от гражданина документов они в течение одного рабочего дня направляются в юридическую службу для проведения правовой экспертизы. В случае положительного результата правовой экспертизы документов юридическая служба готовит проект распоряжения о даче согласия на вступление в брак несовершеннолетних лиц\n",
            "Tokenised:  ['После', 'регистрации', 'принятых', 'от', 'гражданина', 'документов', 'они', 'в', 'течение', 'одного', 'рабочего', 'дня', 'направляются', 'в', 'юридическую', 'службу', 'для', 'проведения', 'правовой', 'экспертизы', '.', 'В', 'случае', 'положительного', 'результата', 'правовой', 'экспертизы', 'документов', 'юридическая', 'служба', 'готовит', 'проект', 'распоряжения', 'о', 'даче', 'согласия', 'на', 'вступление', 'в', 'брак', 'несовершеннолетних', 'лиц']\n",
            " Toked IDs:  [1567, 12288, 36220, 700, 14244, 7589, 991, 113, 3007, 2235, 14962, 2450, 48446, 113, 54839, 6235, 849, 5303, 20532, 19823, 126, 138, 1947, 42893, 16640, 20532, 19823, 7589, 76174, 4167, 20763, 4219, 25653, 104, 28594, 14429, 660, 31006, 113, 13816, 21372, 4572]\n"
          ]
        }
      ]
    },
    {
      "cell_type": "code",
      "source": [
        "tokens = tokenizer.tokenize(sentences[0])"
      ],
      "metadata": {
        "id": "Arxmot-SpJAo"
      },
      "execution_count": null,
      "outputs": []
    },
    {
      "cell_type": "code",
      "source": [
        "len(tokens)"
      ],
      "metadata": {
        "colab": {
          "base_uri": "https://localhost:8080/"
        },
        "id": "UGoBbhbupI9_",
        "outputId": "3da90326-44f1-4757-b045-387a7858f47a"
      },
      "execution_count": null,
      "outputs": [
        {
          "output_type": "execute_result",
          "data": {
            "text/plain": [
              "42"
            ]
          },
          "metadata": {},
          "execution_count": 25
        }
      ]
    },
    {
      "cell_type": "code",
      "source": [
        "tokens[1]"
      ],
      "metadata": {
        "colab": {
          "base_uri": "https://localhost:8080/",
          "height": 35
        },
        "id": "4jw0n3qqpI0h",
        "outputId": "5a54b35a-4412-41d1-ef14-7f499f3e4047"
      },
      "execution_count": null,
      "outputs": [
        {
          "output_type": "execute_result",
          "data": {
            "text/plain": [
              "'регистрации'"
            ],
            "application/vnd.google.colaboratory.intrinsic+json": {
              "type": "string"
            }
          },
          "metadata": {},
          "execution_count": 26
        }
      ]
    },
    {
      "cell_type": "markdown",
      "source": [
        "2.3 Токенизация данных\n",
        "\n",
        "Находим максимальную длину предложения во всем тексте"
      ],
      "metadata": {
        "id": "2cE7wZjZKpev"
      }
    },
    {
      "cell_type": "markdown",
      "source": [
        "CLS начало предложения SEP конец предложения - специальные токены"
      ],
      "metadata": {
        "id": "EtZQ02pZKvev"
      }
    },
    {
      "cell_type": "code",
      "source": [
        "max_len = 0\n",
        "\n",
        "for sent in sentences:\n",
        "  input_ids = tokenizer.encode(sent, add_special_tokens = True)\n",
        "\n",
        "  max_len = max(max_len, len(input_ids))\n",
        "\n",
        "print('Токенезация всего дата сета завершена')\n",
        "print ('Максимальная длина предложения', max_len)\n"
      ],
      "metadata": {
        "colab": {
          "base_uri": "https://localhost:8080/"
        },
        "id": "su0TsyzsKovv",
        "outputId": "42679379-c52e-4ee2-84f1-d402231d8269"
      },
      "execution_count": null,
      "outputs": [
        {
          "output_type": "stream",
          "name": "stdout",
          "text": [
            "Токенезация всего дата сета завершена\n",
            "Максимальная длина предложения 127\n"
          ]
        }
      ]
    },
    {
      "cell_type": "markdown",
      "source": [
        "Воспользуемся функцией tokenizer.encode_plus которая сделает следующее\n",
        "1. Разобъет предложения на токены\n",
        "2. Добавит специальные токены в начало и конец [CLS] [SEP]\n",
        "3. Заменит токены на их ID\n",
        "4. Приведет все предложения к одной длине - max_len\n",
        "5. Создаст attention masks\n",
        "\n",
        "первые чентыре пункта реализованы в tokeniser.encode, но мы воспользуемся tokenizer.encode_plus чтобы получить пяторе свойство attention masks\n",
        "\n"
      ],
      "metadata": {
        "id": "_T9E6S-qNBmY"
      }
    },
    {
      "cell_type": "code",
      "source": [
        "input_ids = []\n",
        "attention_masks = []\n",
        "\n",
        "#for every sentence ...\n",
        "\n",
        "for sent in sentences:\n",
        "  # encode_plus will:\n",
        "  # (1) Tokenize the sentence\n",
        "  # (2) Prepend the [CLS] token to start\n",
        "  # (3) Append the [SEP] token to end\n",
        "  # Map tokens to their IDs\n",
        "  # Pad or trancate the sentence to 'max_lenth'\n",
        "  # Create attention masks for\n",
        "\n",
        "  encoded_dict = tokenizer.encode_plus (\n",
        "      sent, # sentence to encode\n",
        "      add_special_tokens = True, # Add CLS SEP\n",
        "      max_length = 144,\n",
        "      pad_to_max_length = True,\n",
        "      return_attention_mask = True, # Construct attn. masks\n",
        "      return_tensors = 'pt',\n",
        "      )\n",
        "  input_ids.append(encoded_dict['input_ids'])\n",
        "  attention_masks.append(encoded_dict['attention_mask'])\n",
        "\n",
        "# convert the lists into tensor\n",
        "input_ids = torch.cat(input_ids, dim =0)\n",
        "attention_masks = torch.cat(attention_masks, dim =0)\n",
        "labels = torch.tensor(labels)"
      ],
      "metadata": {
        "colab": {
          "base_uri": "https://localhost:8080/"
        },
        "id": "dzh1cfiVM-7r",
        "outputId": "7bbf9736-ffb3-4af6-c6b6-c256e89257b9"
      },
      "execution_count": null,
      "outputs": [
        {
          "output_type": "stream",
          "name": "stderr",
          "text": [
            "Truncation was not explicitly activated but `max_length` is provided a specific value, please use `truncation=True` to explicitly truncate examples to max length. Defaulting to 'longest_first' truncation strategy. If you encode pairs of sequences (GLUE-style) with the tokenizer you can select this strategy more precisely by providing a specific strategy to `truncation`.\n",
            "/usr/local/lib/python3.10/dist-packages/transformers/tokenization_utils_base.py:2614: FutureWarning: The `pad_to_max_length` argument is deprecated and will be removed in a future version, use `padding=True` or `padding='longest'` to pad to the longest sequence in the batch, or use `padding='max_length'` to pad to a max length. In this case, you can give a specific length with `max_length` (e.g. `max_length=45`) or leave max_length to None to pad to the maximal input size of the model (e.g. 512 for Bert).\n",
            "  warnings.warn(\n"
          ]
        }
      ]
    },
    {
      "cell_type": "code",
      "source": [
        "# выводим оригинальный текс и токенизированную дискретную форму\n",
        "print ('Original: ', sentences[0])\n",
        "print( 'TokenIDs; ', input_ids[0])\n",
        "print(attention_masks[0])"
      ],
      "metadata": {
        "colab": {
          "base_uri": "https://localhost:8080/"
        },
        "id": "ViLwCGukPRaj",
        "outputId": "24d8e80d-8dde-4b21-9848-c3bf68a4a19a"
      },
      "execution_count": null,
      "outputs": [
        {
          "output_type": "stream",
          "name": "stdout",
          "text": [
            "Original:  После регистрации принятых от гражданина документов они в течение одного рабочего дня направляются в юридическую службу для проведения правовой экспертизы. В случае положительного результата правовой экспертизы документов юридическая служба готовит проект распоряжения о даче согласия на вступление в брак несовершеннолетних лиц\n",
            "TokenIDs;  tensor([  101,  1567, 12288, 36220,   700, 14244,  7589,   991,   113,  3007,\n",
            "         2235, 14962,  2450, 48446,   113, 54839,  6235,   849,  5303, 20532,\n",
            "        19823,   126,   138,  1947, 42893, 16640, 20532, 19823,  7589, 76174,\n",
            "         4167, 20763,  4219, 25653,   104, 28594, 14429,   660, 31006,   113,\n",
            "        13816, 21372,  4572,   102,     0,     0,     0,     0,     0,     0,\n",
            "            0,     0,     0,     0,     0,     0,     0,     0,     0,     0,\n",
            "            0,     0,     0,     0,     0,     0,     0,     0,     0,     0,\n",
            "            0,     0,     0,     0,     0,     0,     0,     0,     0,     0,\n",
            "            0,     0,     0,     0,     0,     0,     0,     0,     0,     0,\n",
            "            0,     0,     0,     0,     0,     0,     0,     0,     0,     0,\n",
            "            0,     0,     0,     0,     0,     0,     0,     0,     0,     0,\n",
            "            0,     0,     0,     0,     0,     0,     0,     0,     0,     0,\n",
            "            0,     0,     0,     0,     0,     0,     0,     0,     0,     0,\n",
            "            0,     0,     0,     0,     0,     0,     0,     0,     0,     0,\n",
            "            0,     0,     0,     0])\n",
            "tensor([1, 1, 1, 1, 1, 1, 1, 1, 1, 1, 1, 1, 1, 1, 1, 1, 1, 1, 1, 1, 1, 1, 1, 1,\n",
            "        1, 1, 1, 1, 1, 1, 1, 1, 1, 1, 1, 1, 1, 1, 1, 1, 1, 1, 1, 1, 0, 0, 0, 0,\n",
            "        0, 0, 0, 0, 0, 0, 0, 0, 0, 0, 0, 0, 0, 0, 0, 0, 0, 0, 0, 0, 0, 0, 0, 0,\n",
            "        0, 0, 0, 0, 0, 0, 0, 0, 0, 0, 0, 0, 0, 0, 0, 0, 0, 0, 0, 0, 0, 0, 0, 0,\n",
            "        0, 0, 0, 0, 0, 0, 0, 0, 0, 0, 0, 0, 0, 0, 0, 0, 0, 0, 0, 0, 0, 0, 0, 0,\n",
            "        0, 0, 0, 0, 0, 0, 0, 0, 0, 0, 0, 0, 0, 0, 0, 0, 0, 0, 0, 0, 0, 0, 0, 0])\n"
          ]
        }
      ]
    },
    {
      "cell_type": "code",
      "source": [
        "print(attention_masks[0])"
      ],
      "metadata": {
        "colab": {
          "base_uri": "https://localhost:8080/"
        },
        "id": "2gbQyXfZT9j3",
        "outputId": "b63f2b52-ce29-4d62-cee4-a0859a897641"
      },
      "execution_count": null,
      "outputs": [
        {
          "output_type": "stream",
          "name": "stdout",
          "text": [
            "tensor([1, 1, 1, 1, 1, 1, 1, 1, 1, 1, 1, 1, 1, 1, 1, 1, 1, 1, 1, 1, 1, 1, 1, 1,\n",
            "        1, 1, 1, 1, 1, 1, 1, 1, 1, 1, 1, 1, 1, 1, 1, 1, 1, 1, 1, 1, 0, 0, 0, 0,\n",
            "        0, 0, 0, 0, 0, 0, 0, 0, 0, 0, 0, 0, 0, 0, 0, 0, 0, 0, 0, 0, 0, 0, 0, 0,\n",
            "        0, 0, 0, 0, 0, 0, 0, 0, 0, 0, 0, 0, 0, 0, 0, 0, 0, 0, 0, 0, 0, 0, 0, 0,\n",
            "        0, 0, 0, 0, 0, 0, 0, 0, 0, 0, 0, 0, 0, 0, 0, 0, 0, 0, 0, 0, 0, 0, 0, 0,\n",
            "        0, 0, 0, 0, 0, 0, 0, 0, 0, 0, 0, 0, 0, 0, 0, 0, 0, 0, 0, 0, 0, 0, 0, 0])\n"
          ]
        }
      ]
    },
    {
      "cell_type": "markdown",
      "source": [
        "TensorFlow работает с тензорами — многомерными структурами данных в векторном, то есть направленном пространстве. Они используются в линейной алгебре и физике. Отсюда происходит название библиотеки. С помощью тензоров описываются пути графа, а вершины— это математические операции"
      ],
      "metadata": {
        "id": "ugslEJqPSvPo"
      }
    },
    {
      "cell_type": "code",
      "source": [
        "encoded_dict"
      ],
      "metadata": {
        "colab": {
          "base_uri": "https://localhost:8080/"
        },
        "id": "TjV4EXZmVOyK",
        "outputId": "a2218175-0edc-47ef-fa7c-0e039c88c14a"
      },
      "execution_count": null,
      "outputs": [
        {
          "output_type": "execute_result",
          "data": {
            "text/plain": [
              "{'input_ids': tensor([[   101,  29834,   3996,   4846,  16319,  10756,   1079,   6811,  19008,\n",
              "           8231,  17596,    967, 113876,    845,   1205,  84338,   2611,    102,\n",
              "              0,      0,      0,      0,      0,      0,      0,      0,      0,\n",
              "              0,      0,      0,      0,      0,      0,      0,      0,      0,\n",
              "              0,      0,      0,      0,      0,      0,      0,      0,      0,\n",
              "              0,      0,      0,      0,      0,      0,      0,      0,      0,\n",
              "              0,      0,      0,      0,      0,      0,      0,      0,      0,\n",
              "              0,      0,      0,      0,      0,      0,      0,      0,      0,\n",
              "              0,      0,      0,      0,      0,      0,      0,      0,      0,\n",
              "              0,      0,      0,      0,      0,      0,      0,      0,      0,\n",
              "              0,      0,      0,      0,      0,      0,      0,      0,      0,\n",
              "              0,      0,      0,      0,      0,      0,      0,      0,      0,\n",
              "              0,      0,      0,      0,      0,      0,      0,      0,      0,\n",
              "              0,      0,      0,      0,      0,      0,      0,      0,      0,\n",
              "              0,      0,      0,      0,      0,      0,      0,      0,      0,\n",
              "              0,      0,      0,      0,      0,      0,      0,      0,      0]]), 'token_type_ids': tensor([[0, 0, 0, 0, 0, 0, 0, 0, 0, 0, 0, 0, 0, 0, 0, 0, 0, 0, 0, 0, 0, 0, 0, 0,\n",
              "         0, 0, 0, 0, 0, 0, 0, 0, 0, 0, 0, 0, 0, 0, 0, 0, 0, 0, 0, 0, 0, 0, 0, 0,\n",
              "         0, 0, 0, 0, 0, 0, 0, 0, 0, 0, 0, 0, 0, 0, 0, 0, 0, 0, 0, 0, 0, 0, 0, 0,\n",
              "         0, 0, 0, 0, 0, 0, 0, 0, 0, 0, 0, 0, 0, 0, 0, 0, 0, 0, 0, 0, 0, 0, 0, 0,\n",
              "         0, 0, 0, 0, 0, 0, 0, 0, 0, 0, 0, 0, 0, 0, 0, 0, 0, 0, 0, 0, 0, 0, 0, 0,\n",
              "         0, 0, 0, 0, 0, 0, 0, 0, 0, 0, 0, 0, 0, 0, 0, 0, 0, 0, 0, 0, 0, 0, 0, 0]]), 'attention_mask': tensor([[1, 1, 1, 1, 1, 1, 1, 1, 1, 1, 1, 1, 1, 1, 1, 1, 1, 1, 0, 0, 0, 0, 0, 0,\n",
              "         0, 0, 0, 0, 0, 0, 0, 0, 0, 0, 0, 0, 0, 0, 0, 0, 0, 0, 0, 0, 0, 0, 0, 0,\n",
              "         0, 0, 0, 0, 0, 0, 0, 0, 0, 0, 0, 0, 0, 0, 0, 0, 0, 0, 0, 0, 0, 0, 0, 0,\n",
              "         0, 0, 0, 0, 0, 0, 0, 0, 0, 0, 0, 0, 0, 0, 0, 0, 0, 0, 0, 0, 0, 0, 0, 0,\n",
              "         0, 0, 0, 0, 0, 0, 0, 0, 0, 0, 0, 0, 0, 0, 0, 0, 0, 0, 0, 0, 0, 0, 0, 0,\n",
              "         0, 0, 0, 0, 0, 0, 0, 0, 0, 0, 0, 0, 0, 0, 0, 0, 0, 0, 0, 0, 0, 0, 0, 0]])}"
            ]
          },
          "metadata": {},
          "execution_count": 31
        }
      ]
    },
    {
      "cell_type": "code",
      "source": [
        "# Load model directly\n",
        "from transformers import AutoTokenizer, AutoModel\n",
        "\n",
        "tokenizer = AutoTokenizer.from_pretrained(\"DeepPavlov/rubert-base-cased-sentence\")\n",
        "model = AutoModel.from_pretrained(\"DeepPavlov/rubert-base-cased-sentence\")"
      ],
      "metadata": {
        "id": "xRtZboexOhDt",
        "colab": {
          "base_uri": "https://localhost:8080/",
          "height": 177,
          "referenced_widgets": [
            "35bacd8c22844d5bb4e112a7cffd57b6",
            "3bda2e61f3bd4c36971107c8e60eaf8b",
            "59b4740b91eb4217b93ba33d3845e4b7",
            "dc5c30ebd028422f8cea1b13b6164c26",
            "e35482eea1f8470da7f2e05b2c80d325",
            "33f693c611314695b60cc88417f7dfe2",
            "bcd46c36dc254d76b38ebda2a46b6af9",
            "8553edb5d2e245f1b762ad62c14987ca",
            "79e00b2e8aee41c4a3710690f789186c",
            "77007d26e2504e70bc4ebdda4638293f",
            "08013b1d693344b18a8c230937525ed3",
            "b0f008fb43404a6e9fecdbe96d0ddd09",
            "0673fdd05698465ba4b6617d12af5ed4",
            "76f479dbe6e941688e737e895902f7b0",
            "be32b36fc9d84250b43d63d7cdba409b",
            "1653cdb95b5f4449baa3e365f6d8fac0",
            "843d2c260f0447048b0463a4a485afc1",
            "66bcdd18773644a5a3e5f0ecb07931cc",
            "98a162b8e5d348bab9b7931cadbc4dfd",
            "fa14a5f6311b4829be642c502804cda8",
            "2cc6031bbf1f4ddfbbf98fe5e5327930",
            "88c937eccaf943c6ac4587c08fb058bb",
            "a8d3bb5938ee49b286cda5babe38f6f9",
            "aa9e58eff8b14818ae6032c24c8ab1ae",
            "6bccab3127754f95a9e7554edfaca178",
            "103a2367675947cb8c428c08ebb7dab9",
            "be3b7771cdb9470d939dbd874ffd2fa9",
            "ea48bd756c73411bb7d83ef766f5409d",
            "b2a8a39ed7184f1bb47783f3c9d3cef0",
            "2aba18a5f19b4cefae54c1e854e57248",
            "459aa7130408437c9d1f1e384dd783dd",
            "d9e114dac2414ae39ead8f87de417ce9",
            "6076fab72fae4d51a8cbac15f162c702",
            "7ed2bddab41448dfb0954822548e4c4e",
            "8997b926901447e9b2bd3dbd8993546e",
            "76bfd6789ccf46a4b2bf8ffb341099d4",
            "5409c87d9b694acd88b114f2eee92f0a",
            "0a8f962707b84630aa772b5971136de1",
            "7f3a8da5ad154307bb79f07374bc3757",
            "5c11be53ca124557853c8a72733c9cbe",
            "ae71f3c09d5c42b6abd159a1506c129f",
            "f055865d11dd4d0f93cf2f9476ecd06f",
            "76c1b1cf2bba486e91ff7b33c954c094",
            "5628a936a231443c894ec5512aa66173",
            "6ea02a1c058745a3a7a77f5020de5231",
            "1901d69f88b5420fa15e2ca962eb1a5e",
            "a530deaf5b694d9e83b8b4eb90a93c32",
            "45228dbabd764834a80fc14f377ea94c",
            "e5144064646543c79bf37a1788b577f0",
            "e17c8e0dcefe486e984628d160fca951",
            "8a50d4a089c947db9531f655bcd0ef65",
            "b2f3e0666d2d4239be854a3cc59b1506",
            "03f93009fb4243b9a5f2a5042f68db8e",
            "1c894f2dd0a749a0aae1e246ecfda472",
            "da3e7349f21846d9b61622be025c2ab0"
          ]
        },
        "outputId": "d36d6d29-d493-45f8-e013-0bff92de5344"
      },
      "execution_count": null,
      "outputs": [
        {
          "output_type": "display_data",
          "data": {
            "text/plain": [
              "tokenizer_config.json:   0%|          | 0.00/24.0 [00:00<?, ?B/s]"
            ],
            "application/vnd.jupyter.widget-view+json": {
              "version_major": 2,
              "version_minor": 0,
              "model_id": "35bacd8c22844d5bb4e112a7cffd57b6"
            }
          },
          "metadata": {}
        },
        {
          "output_type": "display_data",
          "data": {
            "text/plain": [
              "config.json:   0%|          | 0.00/642 [00:00<?, ?B/s]"
            ],
            "application/vnd.jupyter.widget-view+json": {
              "version_major": 2,
              "version_minor": 0,
              "model_id": "b0f008fb43404a6e9fecdbe96d0ddd09"
            }
          },
          "metadata": {}
        },
        {
          "output_type": "display_data",
          "data": {
            "text/plain": [
              "vocab.txt:   0%|          | 0.00/1.65M [00:00<?, ?B/s]"
            ],
            "application/vnd.jupyter.widget-view+json": {
              "version_major": 2,
              "version_minor": 0,
              "model_id": "a8d3bb5938ee49b286cda5babe38f6f9"
            }
          },
          "metadata": {}
        },
        {
          "output_type": "display_data",
          "data": {
            "text/plain": [
              "special_tokens_map.json:   0%|          | 0.00/112 [00:00<?, ?B/s]"
            ],
            "application/vnd.jupyter.widget-view+json": {
              "version_major": 2,
              "version_minor": 0,
              "model_id": "7ed2bddab41448dfb0954822548e4c4e"
            }
          },
          "metadata": {}
        },
        {
          "output_type": "display_data",
          "data": {
            "text/plain": [
              "pytorch_model.bin:   0%|          | 0.00/711M [00:00<?, ?B/s]"
            ],
            "application/vnd.jupyter.widget-view+json": {
              "version_major": 2,
              "version_minor": 0,
              "model_id": "6ea02a1c058745a3a7a77f5020de5231"
            }
          },
          "metadata": {}
        }
      ]
    },
    {
      "cell_type": "markdown",
      "source": [
        "## Из-за невозможности использования модели rubert перехожу на фреймворк Tensorflow / Keras модель Sequential для решения поставленной задачи   "
      ],
      "metadata": {
        "id": "eoV5YPohXZRj"
      }
    },
    {
      "cell_type": "code",
      "source": [
        "! pip install keras"
      ],
      "metadata": {
        "colab": {
          "base_uri": "https://localhost:8080/"
        },
        "id": "y20LyBa5bDtB",
        "outputId": "bb61997e-18ec-4354-f7d4-f3fa5c1d0d5e"
      },
      "execution_count": null,
      "outputs": [
        {
          "output_type": "stream",
          "name": "stdout",
          "text": [
            "Requirement already satisfied: keras in /usr/local/lib/python3.10/dist-packages (2.14.0)\n"
          ]
        }
      ]
    },
    {
      "cell_type": "code",
      "source": [
        "import tensorflow as tf\n",
        "from tensorflow.keras.layers import Dense\n",
        "from tensorflow import keras\n",
        "\n",
        "from tensorflow.keras.datasets import mnist\n",
        "from tensorflow.keras.utils import to_categorical\n"
      ],
      "metadata": {
        "id": "3uc1_ZMGbSNJ"
      },
      "execution_count": null,
      "outputs": []
    },
    {
      "cell_type": "code",
      "source": [
        "from tensorflow.keras import utils\n",
        "from tensorflow.keras.models import Sequential\n",
        "from tensorflow.keras.layers import Embedding, MaxPooling1D, Conv1D, GlobalMaxPooling1D, Dropout, LSTM, GRU\n",
        "from tensorflow.keras.preprocessing.sequence import pad_sequences\n",
        "from tensorflow.keras.preprocessing.text import Tokenizer\n",
        "from tensorflow.keras.callbacks import ModelCheckpoint\n",
        "\n",
        "import numpy as np"
      ],
      "metadata": {
        "id": "Z7hpORa1dLx_"
      },
      "execution_count": null,
      "outputs": []
    },
    {
      "cell_type": "code",
      "source": [
        "import matplotlib.pyplot as plt\n"
      ],
      "metadata": {
        "id": "Cuh_CG67drwj"
      },
      "execution_count": null,
      "outputs": []
    },
    {
      "cell_type": "code",
      "source": [
        "num_words = 1000\n",
        "max_sent_len = 144\n",
        "nb_classes = 2"
      ],
      "metadata": {
        "id": "yt7QS0fzfQyN"
      },
      "execution_count": null,
      "outputs": []
    },
    {
      "cell_type": "code",
      "source": [
        "y_train = df['label']"
      ],
      "metadata": {
        "id": "if02Lfww1CYF"
      },
      "execution_count": null,
      "outputs": []
    },
    {
      "cell_type": "code",
      "source": [
        "#y_train = utils.to_categorical(df['label'])"
      ],
      "metadata": {
        "id": "ls8h7wR6cZdo"
      },
      "execution_count": null,
      "outputs": []
    },
    {
      "cell_type": "code",
      "source": [
        "sentences = df['sentence']\n",
        "sentences"
      ],
      "metadata": {
        "colab": {
          "base_uri": "https://localhost:8080/"
        },
        "id": "AvCjapvfhGt9",
        "outputId": "05b052c8-4e7e-4f6b-fb7a-797072b11248"
      },
      "execution_count": null,
      "outputs": [
        {
          "output_type": "execute_result",
          "data": {
            "text/plain": [
              "0     После регистрации принятых от гражданина докум...\n",
              "1     В случаях, требующих проведения специальной пр...\n",
              "2     Распоряжение об утверждении проекта границ зем...\n",
              "3     Уполномоченный орган местной администрации (да...\n",
              "4     Гражданину может быть отказано в постановке на...\n",
              "                            ...                        \n",
              "83    Министерство отказывает творческим союзам в пр...\n",
              "84    Минтерразвития Забайкальского края переносит д...\n",
              "85    Исполнение государственной функции приостанавл...\n",
              "86    Для продления срока рассмотрения обращения нео...\n",
              "87    Продлить срок рассмотрения обращения может рук...\n",
              "Name: sentence, Length: 88, dtype: object"
            ]
          },
          "metadata": {},
          "execution_count": 135
        }
      ]
    },
    {
      "cell_type": "code",
      "source": [
        "tokenizer = Tokenizer(num_words=num_words)"
      ],
      "metadata": {
        "id": "ZdRsOj8PizAI"
      },
      "execution_count": null,
      "outputs": []
    },
    {
      "cell_type": "code",
      "source": [
        "tokenizer.fit_on_texts(sentences)"
      ],
      "metadata": {
        "id": "V9lr36FAjsPg"
      },
      "execution_count": null,
      "outputs": []
    },
    {
      "cell_type": "code",
      "source": [
        "tokenizer.word_index"
      ],
      "metadata": {
        "colab": {
          "base_uri": "https://localhost:8080/"
        },
        "id": "SiaTvM30jd3w",
        "outputId": "8eaf41f2-e6e9-4c3a-e7b4-233e2569de44"
      },
      "execution_count": null,
      "outputs": [
        {
          "output_type": "execute_result",
          "data": {
            "text/plain": [
              "{'в': 1,\n",
              " 'и': 2,\n",
              " 'на': 3,\n",
              " 'о': 4,\n",
              " 'рассмотрения': 5,\n",
              " 'обращения': 6,\n",
              " 'для': 7,\n",
              " 'может': 8,\n",
              " 'не': 9,\n",
              " 'по': 10,\n",
              " 'с': 11,\n",
              " 'дней': 12,\n",
              " 'или': 13,\n",
              " 'срок': 14,\n",
              " 'быть': 15,\n",
              " 'срока': 16,\n",
              " 'проведения': 17,\n",
              " 'при': 18,\n",
              " 'от': 19,\n",
              " 'случае': 20,\n",
              " 'течение': 21,\n",
              " 'за': 22,\n",
              " 'гражданина': 23,\n",
              " 'документов': 24,\n",
              " 'об': 25,\n",
              " 'заявителю': 26,\n",
              " 'земельного': 27,\n",
              " 'дня': 28,\n",
              " 'экспертизы': 29,\n",
              " 'участка': 30,\n",
              " 'лицензии': 31,\n",
              " 'правовой': 32,\n",
              " 'принятия': 33,\n",
              " 'позднее': 34,\n",
              " 'момента': 35,\n",
              " 'условий': 36,\n",
              " '10': 37,\n",
              " 'предоставлении': 38,\n",
              " 'случаях': 39,\n",
              " 'проверки': 40,\n",
              " 'мер': 41,\n",
              " 'гражданину': 42,\n",
              " 'продлении': 43,\n",
              " 'органа': 44,\n",
              " 'местного': 45,\n",
              " 'самоуправления': 46,\n",
              " 'должностное': 47,\n",
              " 'лицо': 48,\n",
              " 'администрации': 49,\n",
              " 'решения': 50,\n",
              " 'после': 51,\n",
              " 'регистрации': 52,\n",
              " 'направляются': 53,\n",
              " 'перечень': 54,\n",
              " 'необходимых': 55,\n",
              " 'предложения': 56,\n",
              " 'им': 57,\n",
              " '2': 58,\n",
              " 'выдается': 59,\n",
              " 'календарных': 60,\n",
              " 'его': 61,\n",
              " 'уполномоченный': 62,\n",
              " 'орган': 63,\n",
              " 'местной': 64,\n",
              " 'отказано': 65,\n",
              " 'учет': 66,\n",
              " 'качестве': 67,\n",
              " 'нуждающегося': 68,\n",
              " 'рабочих': 69,\n",
              " 'услуги': 70,\n",
              " 'материалов': 71,\n",
              " 'чем': 72,\n",
              " 'необходимо': 73,\n",
              " 'до': 74,\n",
              " 'постановке': 75,\n",
              " 'улучшении': 76,\n",
              " 'жилищных': 77,\n",
              " 'то': 78,\n",
              " 'ее': 79,\n",
              " 'со': 80,\n",
              " 'сведений': 81,\n",
              " 'их': 82,\n",
              " 'деятельности': 83,\n",
              " 'функции': 84,\n",
              " 'заявок': 85,\n",
              " 'требующих': 86,\n",
              " 'продлен': 87,\n",
              " 'период': 88,\n",
              " 'невозможности': 89,\n",
              " 'распоряжение': 90,\n",
              " 'утверждении': 91,\n",
              " 'проекта': 92,\n",
              " 'границ': 93,\n",
              " 'акт': 94,\n",
              " 'области': 95,\n",
              " 'муниципальной': 96,\n",
              " 'что': 97,\n",
              " 'города': 98,\n",
              " 'государственной': 99,\n",
              " 'принятых': 100,\n",
              " 'они': 101,\n",
              " 'одного': 102,\n",
              " 'юридическую': 103,\n",
              " 'службу': 104,\n",
              " 'положительного': 105,\n",
              " 'результата': 106,\n",
              " 'юридическая': 107,\n",
              " 'служба': 108,\n",
              " 'готовит': 109,\n",
              " 'проект': 110,\n",
              " 'распоряжения': 111,\n",
              " 'даче': 112,\n",
              " 'согласия': 113,\n",
              " 'вступление': 114,\n",
              " 'брак': 115,\n",
              " 'несовершеннолетних': 116,\n",
              " 'лиц': 117,\n",
              " 'специальной': 118,\n",
              " 'истребования': 119,\n",
              " 'дополнительных': 120,\n",
              " 'других': 121,\n",
              " 'более': 122,\n",
              " 'продления': 123,\n",
              " 'подготовить': 124,\n",
              " 'информацию': 125,\n",
              " 'проделанной': 126,\n",
              " 'работе': 127,\n",
              " 'установленный': 128,\n",
              " 'обоснование': 129,\n",
              " 'существу': 130,\n",
              " 'установленные': 131,\n",
              " 'сроки': 132,\n",
              " 'включая': 133,\n",
              " 'данного': 134,\n",
              " 'продлить': 135,\n",
              " 'руководитель': 136,\n",
              " 'уполномоченное': 137,\n",
              " 'уведомление': 138,\n",
              " 'промежуточный': 139,\n",
              " 'ответ': 140,\n",
              " 'направляется': 141,\n",
              " 'заблаговременно': 142,\n",
              " 'истечения': 143,\n",
              " 'далее': 144,\n",
              " 'своих': 145,\n",
              " 'документы': 146,\n",
              " 'руководителю': 147,\n",
              " 'получения': 148,\n",
              " 'государственного': 149,\n",
              " 'жилищного': 150,\n",
              " 'организации': 151,\n",
              " 'аукциона': 152,\n",
              " 'принимает': 153,\n",
              " 'решение': 154,\n",
              " '–': 155,\n",
              " 'положения': 156,\n",
              " 'могут': 157,\n",
              " 'муниципальных': 158,\n",
              " 'заключения': 159,\n",
              " 'исполнение': 160,\n",
              " 'ведения': 161,\n",
              " 'содержащихся': 162,\n",
              " 'лица': 163,\n",
              " 'трех': 164,\n",
              " 'день': 165,\n",
              " 'рабочего': 166,\n",
              " '30': 167,\n",
              " 'этом': 168,\n",
              " 'семи': 169,\n",
              " '40': 170,\n",
              " 'оформляет': 171,\n",
              " 'выбора': 172,\n",
              " 'следующим': 173,\n",
              " 'основаниям': 174,\n",
              " 'указывает': 175,\n",
              " 'четко': 176,\n",
              " 'которое': 177,\n",
              " 'компетентно': 178,\n",
              " 'рассматривать': 179,\n",
              " 'жалобу': 180,\n",
              " 'это': 181,\n",
              " 'порождает': 182,\n",
              " 'возможность': 183,\n",
              " '«запуска': 184,\n",
              " 'кругу»': 185,\n",
              " 'заявителя': 186,\n",
              " 'защите': 187,\n",
              " 'нарушенных': 188,\n",
              " 'прав': 189,\n",
              " 'пользования': 190,\n",
              " 'необходимости': 191,\n",
              " 'всех': 192,\n",
              " 'поступившие': 193,\n",
              " 'полном': 194,\n",
              " 'объеме': 195,\n",
              " 'отказе': 196,\n",
              " 'мотивированного': 197,\n",
              " 'надзора': 198,\n",
              " 'представления': 199,\n",
              " 'подписания': 200,\n",
              " 'комиссия': 201,\n",
              " 'вправе': 202,\n",
              " 'строительства': 203,\n",
              " 'соответствующего': 204,\n",
              " 'условиях': 205,\n",
              " 'к': 206,\n",
              " 'права': 207,\n",
              " 'порядке': 208,\n",
              " 'граждане': 209,\n",
              " 'главы': 210,\n",
              " 'обязанности': 211,\n",
              " 'место': 212,\n",
              " 'органов': 213,\n",
              " 'настоящего': 214,\n",
              " 'подведомственных': 215,\n",
              " 'заказчиков': 216,\n",
              " 'а': 217,\n",
              " 'также': 218,\n",
              " 'информации': 219,\n",
              " 'документах': 220,\n",
              " 'проведении': 221,\n",
              " '6': 222,\n",
              " 'брянской': 223,\n",
              " 'акта': 224,\n",
              " 'жилья': 225,\n",
              " 'следующих': 226,\n",
              " 'превышать': 227,\n",
              " 'соответствии': 228,\n",
              " 'режимом': 229,\n",
              " 'работы': 230,\n",
              " 'музеев': 231,\n",
              " 'выставок': 232,\n",
              " 'сообщением': 233,\n",
              " 'обратившемуся': 234,\n",
              " 'утраты': 235,\n",
              " 'действующей': 236,\n",
              " 'право': 237,\n",
              " 'недрами': 238,\n",
              " 'письменному': 239,\n",
              " 'заявлению': 240,\n",
              " 'владельца': 241,\n",
              " 'ксерокопия': 242,\n",
              " 'штампом': 243,\n",
              " 'бланке': 244,\n",
              " 'приложениях': 245,\n",
              " 'предоставить': 246,\n",
              " 'работ': 247,\n",
              " 'основании': 248,\n",
              " 'выборе': 249,\n",
              " 'оформляется': 250,\n",
              " 'месяцев': 251,\n",
              " 'разумный': 252,\n",
              " 'рекомендуемый': 253,\n",
              " 'лицензионной': 254,\n",
              " 'комиссией': 255,\n",
              " 'десять': 256,\n",
              " 'если': 257,\n",
              " 'разовый': 258,\n",
              " 'платеж': 259,\n",
              " 'маршрут': 260,\n",
              " 'отказа': 261,\n",
              " 'министерством': 262,\n",
              " 'архитектуры': 263,\n",
              " 'транспорта': 264,\n",
              " 'перевозчиком': 265,\n",
              " 'требований': 266,\n",
              " 'предъявляемых': 267,\n",
              " 'министерство': 268,\n",
              " 'принять': 269,\n",
              " 'наличии': 270,\n",
              " 'у': 271,\n",
              " 'выплате': 272,\n",
              " 'освобождены': 273,\n",
              " 'решению': 274,\n",
              " 'части': 275,\n",
              " 'указанных': 276,\n",
              " 'настоящем': 277,\n",
              " 'пункте': 278,\n",
              " 'порядка': 279,\n",
              " '5': 280,\n",
              " 'установить': 281,\n",
              " 'условия': 282,\n",
              " 'выплаты': 283,\n",
              " 'ежемесячного': 284,\n",
              " 'денежного': 285,\n",
              " 'поощрения': 286,\n",
              " 'муниципальным': 287,\n",
              " 'служащим': 288,\n",
              " 'вводятся': 289,\n",
              " 'действие': 290,\n",
              " 'вступления': 291,\n",
              " 'силу': 292,\n",
              " 'думы': 293,\n",
              " 'устанавливающего': 294,\n",
              " 'критерии': 295,\n",
              " 'оценки': 296,\n",
              " 'эффективности': 297,\n",
              " 'результативности': 298,\n",
              " 'служащих': 299,\n",
              " 'порядок': 300,\n",
              " 'применения': 301,\n",
              " 'земельных': 302,\n",
              " 'нужд': 303,\n",
              " 'заместитель': 304,\n",
              " 'курирующий': 305,\n",
              " 'сферу': 306,\n",
              " 'управления': 307,\n",
              " 'культуры': 308,\n",
              " 'подготовки': 309,\n",
              " 'из': 310,\n",
              " 'предусмотрена': 311,\n",
              " 'передача': 312,\n",
              " 'дублирующих': 313,\n",
              " 'министерства': 314,\n",
              " 'инвестиций': 315,\n",
              " 'промышленности': 316,\n",
              " 'науки': 317,\n",
              " 'московской': 318,\n",
              " 'оценке': 319,\n",
              " 'соответствия': 320,\n",
              " 'предъявляемым': 321,\n",
              " 'требованиям': 322,\n",
              " 'участников': 323,\n",
              " 'конкурсов': 324,\n",
              " 'полномочий': 325,\n",
              " 'проведению': 326,\n",
              " 'выездных': 327,\n",
              " 'обследований': 328,\n",
              " 'хозяйственной': 329,\n",
              " 'целью': 330,\n",
              " 'подтверждения': 331,\n",
              " 'местонахождении': 332,\n",
              " 'адресе': 333,\n",
              " 'бизнеса': 334,\n",
              " 'составе': 335,\n",
              " 'проверок': 336,\n",
              " 'достоверности': 337,\n",
              " 'заявках': 338,\n",
              " 'любым': 339,\n",
              " 'запрещенным': 340,\n",
              " 'законодательством': 341,\n",
              " 'способом': 342,\n",
              " 'комиссии': 343,\n",
              " 'пределах': 344,\n",
              " 'компетенции': 345,\n",
              " 'обращение': 346,\n",
              " 'учреждения': 347,\n",
              " 'землях': 348,\n",
              " 'культурного': 349,\n",
              " 'назначения': 350,\n",
              " 'предоставления': 351,\n",
              " 'творческим': 352,\n",
              " 'союзам': 353,\n",
              " 'приеме': 354,\n",
              " 'невыполнения': 355,\n",
              " 'изложенных': 356,\n",
              " 'пунктах': 357,\n",
              " 'минтерразвития': 358,\n",
              " 'забайкальского': 359,\n",
              " 'края': 360,\n",
              " 'дату': 361,\n",
              " 'приема': 362,\n",
              " 'поздний': 363,\n",
              " 'организациям': 364,\n",
              " 'должности': 365,\n",
              " 'областной': 366,\n",
              " 'отсутствия': 367,\n",
              " 'руководителя': 368,\n",
              " 'иного': 369,\n",
              " 'должностного': 370,\n",
              " 'уполномоченного': 371,\n",
              " 'представителя': 372,\n",
              " 'юридического': 373,\n",
              " 'индивидуального': 374,\n",
              " 'предпринимателя': 375,\n",
              " 'опеки': 376,\n",
              " 'попечительства': 377,\n",
              " 'субсидии': 378,\n",
              " 'предоставляются': 379,\n",
              " 'строительстве': 380,\n",
              " 'покупке': 381,\n",
              " 'вновь': 382,\n",
              " 'построенного': 383,\n",
              " 'ежемесячная': 384,\n",
              " 'денежная': 385,\n",
              " 'выплата': 386,\n",
              " 'перечисляется': 387,\n",
              " 'получателям': 388,\n",
              " 'истекшим': 389,\n",
              " 'месяцем': 390,\n",
              " 'оснований': 391,\n",
              " 'наличие': 392,\n",
              " 'москвы': 393,\n",
              " 'экспертного': 394,\n",
              " 'заявлением': 395,\n",
              " 'муниципальная': 396,\n",
              " 'услуга': 397,\n",
              " 'предоставляется': 398,\n",
              " 'указанный': 399,\n",
              " 'создания': 400,\n",
              " 'добровольной': 401,\n",
              " 'пожарной': 402,\n",
              " 'охраны': 403,\n",
              " 'даты': 404,\n",
              " 'приводится': 405,\n",
              " '«дубликат»': 406,\n",
              " 'график': 407,\n",
              " 'производства': 408,\n",
              " 'разработанный': 409,\n",
              " 'расчетов': 410,\n",
              " 'продолжительности': 411,\n",
              " 'видов': 412,\n",
              " 'сообщение': 413,\n",
              " 'операции': 414,\n",
              " 'незамедлительно': 415,\n",
              " 'передается': 416,\n",
              " 'специальному': 417,\n",
              " 'должностному': 418,\n",
              " 'лицу': 419,\n",
              " 'целесообразности': 420,\n",
              " 'копию': 421,\n",
              " 'документа': 422,\n",
              " 'воинского': 423,\n",
              " 'учета': 424,\n",
              " 'победитель': 425,\n",
              " 'оплатил': 426,\n",
              " 'отказался': 427,\n",
              " 'представитель': 428,\n",
              " 'правительства': 429,\n",
              " 'ростовской': 430,\n",
              " 'сфере': 431,\n",
              " 'недропользования': 432,\n",
              " 'аннулировании': 433,\n",
              " 'итогов': 434,\n",
              " 'аукционная': 435,\n",
              " 'признать': 436,\n",
              " 'победителем': 437,\n",
              " 'участника': 438,\n",
              " 'предложившего': 439,\n",
              " 'второй': 440,\n",
              " 'размеру': 441,\n",
              " 'закрыт': 442,\n",
              " 'приостановлен': 443,\n",
              " 'перевозчика': 444,\n",
              " 'обслуживать': 445,\n",
              " 'связанного': 446,\n",
              " 'неоднократными': 447,\n",
              " 'нарушениями': 448,\n",
              " 'выполнить': 449,\n",
              " 'перевозку': 450,\n",
              " 'сложных': 451,\n",
              " 'дорожных': 452,\n",
              " 'метеорологических': 453,\n",
              " 'систематического': 454,\n",
              " 'несоблюдения': 455,\n",
              " 'осуществлению': 456,\n",
              " 'перевозок': 457,\n",
              " 'пассажиров': 458,\n",
              " 'автомобильным': 459,\n",
              " 'транспортом': 460,\n",
              " 'автобусному': 461,\n",
              " 'маршруту': 462,\n",
              " 'общего': 463,\n",
              " 'пригородном': 464,\n",
              " 'межрайонном': 465,\n",
              " 'междугородном': 466,\n",
              " 'сообщениях': 467,\n",
              " 'передаче': 468,\n",
              " 'обслуживания': 469,\n",
              " 'маршрута': 470,\n",
              " 'другому': 471,\n",
              " 'перевозчику': 472,\n",
              " 'установленном': 473,\n",
              " 'пунктом': 474,\n",
              " '3': 475,\n",
              " '1': 476,\n",
              " 'подаче': 477,\n",
              " 'гражданином': 478,\n",
              " 'постановки': 479,\n",
              " 'бесплатного': 480,\n",
              " 'справки': 481,\n",
              " 'подтверждающие': 482,\n",
              " 'жительства': 483,\n",
              " 'принимаются': 484,\n",
              " 'выдачи': 485,\n",
              " 'уполномоченным': 486,\n",
              " 'органом': 487,\n",
              " 'запрашивается': 488,\n",
              " 'дополнительная': 489,\n",
              " 'информация': 490,\n",
              " 'вопросам': 491,\n",
              " 'относящимся': 492,\n",
              " 'предоставлению': 493,\n",
              " 'отношений': 494,\n",
              " 'осуществляет': 495,\n",
              " 'изъятие': 496,\n",
              " 'участков': 497,\n",
              " 'контроль': 498,\n",
              " 'выполнением': 499,\n",
              " 'постановления': 500,\n",
              " 'осуществляют': 501,\n",
              " 'городского': 502,\n",
              " 'хозяйства': 503,\n",
              " 'имущества': 504,\n",
              " 'градостроительства': 505,\n",
              " 'обращаться': 506,\n",
              " 'жалобами': 507,\n",
              " 'качество': 508,\n",
              " 'предоставленной': 509,\n",
              " 'образовательных': 510,\n",
              " 'учреждениях': 511,\n",
              " 'директору': 512,\n",
              " 'департамента': 513,\n",
              " 'образования': 514,\n",
              " 'председателю': 515,\n",
              " 'комитета': 516,\n",
              " 'здравоохранения': 517,\n",
              " 'начальнику': 518,\n",
              " 'дубликат': 519,\n",
              " 'составляет': 520,\n",
              " 'дополнительной': 521,\n",
              " 'заказчик': 522,\n",
              " 'наделении': 523,\n",
              " 'полномочиями': 524,\n",
              " 'функций': 525,\n",
              " 'заказчика': 526,\n",
              " 'направлению': 527,\n",
              " 'обращений': 528,\n",
              " 'размещения': 529,\n",
              " 'заказа': 530,\n",
              " 'согласованию': 531,\n",
              " 'конкурсных': 532,\n",
              " 'аукционных': 533,\n",
              " 'документаций': 534,\n",
              " 'иных': 535,\n",
              " 'действий': 536,\n",
              " 'определенных': 537,\n",
              " 'настоящим': 538,\n",
              " 'порядком': 539,\n",
              " 'установлено': 540,\n",
              " 'программе': 541,\n",
              " 'регламентирует': 542,\n",
              " 'процедуру': 543,\n",
              " 'заседания': 544,\n",
              " 'аттестационной': 545,\n",
              " 'возникновения': 546,\n",
              " 'конфликта': 547,\n",
              " 'интересов': 548,\n",
              " 'между': 549,\n",
              " 'членами': 550,\n",
              " 'председателем': 551,\n",
              " 'иными': 552,\n",
              " 'лицами': 553,\n",
              " 'которые': 554,\n",
              " 'участвуют': 555,\n",
              " 'аттестации': 556,\n",
              " 'осуществляющее': 557,\n",
              " 'личный': 558,\n",
              " 'прием': 559,\n",
              " 'своей': 560,\n",
              " 'удовлетворить': 561,\n",
              " 'отказать': 562,\n",
              " 'удовлетворении': 563,\n",
              " 'письменное': 564,\n",
              " 'этого': 565,\n",
              " 'отдельных': 566,\n",
              " 'историко': 567,\n",
              " 'том': 568,\n",
              " 'числе': 569,\n",
              " 'объектов': 570,\n",
              " 'наследия': 571,\n",
              " 'подлежащих': 572,\n",
              " 'исследованию': 573,\n",
              " 'консервации': 574,\n",
              " 'запрещена': 575,\n",
              " 'любая': 576,\n",
              " 'хозяйственная': 577,\n",
              " 'деятельность': 578,\n",
              " 'конечными': 579,\n",
              " 'результатами': 580,\n",
              " 'являться': 581,\n",
              " 'процедура': 582,\n",
              " 'завершаться': 583,\n",
              " 'путем': 584,\n",
              " 'перенести': 585,\n",
              " 'окончательную': 586,\n",
              " 'имущественная': 587,\n",
              " 'поддержка': 588,\n",
              " 'органы': 589,\n",
              " 'компетенций': 590,\n",
              " 'оказывать': 591,\n",
              " 'социально': 592,\n",
              " 'ориентированным': 593,\n",
              " 'некоммерческим': 594,\n",
              " 'имущественную': 595,\n",
              " 'поддержку': 596,\n",
              " 'мировые': 597,\n",
              " 'судьи': 598,\n",
              " 'назначаются': 599,\n",
              " 'думой': 600,\n",
              " 'представлению': 601,\n",
              " 'председателя': 602,\n",
              " 'брянского': 603,\n",
              " 'областного': 604,\n",
              " 'суда': 605,\n",
              " 'рассмотрении': 606,\n",
              " 'вопроса': 607,\n",
              " 'назначении': 608,\n",
              " 'кандидатов': 609,\n",
              " 'мировых': 610,\n",
              " 'судей': 611,\n",
              " 'думе': 612,\n",
              " 'учитываться': 613,\n",
              " 'мнение': 614,\n",
              " 'граждан': 615,\n",
              " 'общественных': 616,\n",
              " 'объединений': 617,\n",
              " 'начальника': 618,\n",
              " 'мировой': 619,\n",
              " 'юстиции': 620,\n",
              " 'приостановлено': 621,\n",
              " 'начинается': 622,\n",
              " 'установления': 623,\n",
              " 'опекуна': 624,\n",
              " 'попечителя': 625,\n",
              " 'осуществляется': 626,\n",
              " 'весь': 627,\n",
              " 'который': 628,\n",
              " 'установлена': 629,\n",
              " 'опека': 630,\n",
              " 'попечительство': 631,\n",
              " 'приобретении': 632,\n",
              " 'существующего': 633,\n",
              " 'тех': 634,\n",
              " 'же': 635,\n",
              " 'месяце': 636,\n",
              " 'следующем': 637,\n",
              " 'исчерпывающий': 638,\n",
              " 'приостановления': 639,\n",
              " 'предоставление': 640,\n",
              " 'полного': 641,\n",
              " 'перечня': 642,\n",
              " 'предусмотренных': 643,\n",
              " 'п': 644,\n",
              " 'регламента': 645,\n",
              " 'представленных': 646,\n",
              " 'недостоверной': 647,\n",
              " 'искаженной': 648,\n",
              " 'неполной': 649,\n",
              " 'имеют': 650,\n",
              " 'серьезные': 651,\n",
              " 'повреждения': 652,\n",
              " 'которых': 653,\n",
              " 'позволяет': 654,\n",
              " 'однозначно': 655,\n",
              " 'истолковать': 656,\n",
              " 'содержание': 657,\n",
              " 'результате': 658,\n",
              " 'ходатайств': 659,\n",
              " 'одно': 660,\n",
              " 'решений': 661,\n",
              " 'поддержать': 662,\n",
              " 'ходатайство': 663,\n",
              " 'обратиться': 664,\n",
              " 'правительство': 665,\n",
              " 'предложением': 666,\n",
              " 'поручить': 667,\n",
              " 'департаменту': 668,\n",
              " 'осуществление': 669,\n",
              " 'контроля': 670,\n",
              " 'оказание': 671,\n",
              " 'консультативно': 672,\n",
              " 'методической': 673,\n",
              " 'помощи': 674,\n",
              " 'художественно': 675,\n",
              " 'архитектурного': 676,\n",
              " 'проектирования': 677,\n",
              " 'изготовления': 678,\n",
              " 'долговечных': 679,\n",
              " 'материалах': 680,\n",
              " 'установки': 681,\n",
              " 'технического': 682,\n",
              " 'обеспечения': 683,\n",
              " 'торжественного': 684,\n",
              " 'открытия': 685,\n",
              " 'мемориальной': 686,\n",
              " 'доски': 687,\n",
              " 'счет': 688,\n",
              " 'средств': 689,\n",
              " 'ходатайствующей': 690,\n",
              " 'устным': 691,\n",
              " 'письменным': 692,\n",
              " 'заявителем': 693,\n",
              " 'поступлении': 694,\n",
              " 'заявления': 695,\n",
              " 'устной': 696,\n",
              " 'форме': 697,\n",
              " 'письменном': 698,\n",
              " 'заявлении': 699,\n",
              " 'является': 700,\n",
              " 'рабочим': 701,\n",
              " 'днем': 702,\n",
              " 'отказывается': 703,\n",
              " 'целях': 704,\n",
              " '«выдача': 705,\n",
              " 'градостроительного': 706,\n",
              " 'плана': 707,\n",
              " 'участка»': 708,\n",
              " 'заявитель': 709,\n",
              " 'направляет': 710,\n",
              " 'администрацию': 711,\n",
              " 'заявление': 712,\n",
              " 'которому': 713,\n",
              " 'прилагается': 714,\n",
              " 'копия': 715,\n",
              " 'паспорта': 716,\n",
              " 'устанавливают': 717,\n",
              " 'необходимость': 718,\n",
              " 'согласования': 719,\n",
              " 'администрацией': 720,\n",
              " 'есть': 721,\n",
              " 'завышенные': 722,\n",
              " 'обременительные': 723,\n",
              " 'требования': 724,\n",
              " 'реализации': 725,\n",
              " 'принадлежащего': 726,\n",
              " 'гражданам': 727,\n",
              " 'определяют': 728,\n",
              " 'принудительность': 729,\n",
              " 'формы': 730,\n",
              " 'методы': 731,\n",
              " 'добровольных': 732,\n",
              " 'пожарных': 733,\n",
              " 'свидетельствует': 734,\n",
              " 'принятии': 735,\n",
              " 'нормативного': 736,\n",
              " 'правового': 737,\n",
              " 'пределами': 738,\n",
              " 'лицензионная': 739,\n",
              " 'десяти': 740,\n",
              " 'исполнения': 741,\n",
              " 'начала': 742,\n",
              " 'составления': 743,\n",
              " 'результатам': 744,\n",
              " 'двадцать': 745,\n",
              " 'ежемесячно': 746,\n",
              " 'го': 747,\n",
              " 'числа': 748,\n",
              " 'месяца': 749,\n",
              " 'следующего': 750,\n",
              " 'отказывает': 751,\n",
              " 'переносит': 752,\n",
              " 'случаях»': 753,\n",
              " 'ниже': 754,\n",
              " 'приостанавливается': 755}"
            ]
          },
          "metadata": {},
          "execution_count": 138
        }
      ]
    },
    {
      "cell_type": "code",
      "source": [
        "sequences = tokenizer.texts_to_sequences(sentences)"
      ],
      "metadata": {
        "id": "hF_6mYlIhGrx"
      },
      "execution_count": null,
      "outputs": []
    },
    {
      "cell_type": "code",
      "source": [
        "index = 4\n",
        "print(sentences[index])\n",
        "print(sequences[index])"
      ],
      "metadata": {
        "colab": {
          "base_uri": "https://localhost:8080/"
        },
        "id": "YnokwXkPhGpX",
        "outputId": "162d2f1e-a148-458c-9ee0-3ed01d298f0d"
      },
      "execution_count": null,
      "outputs": [
        {
          "output_type": "stream",
          "name": "stdout",
          "text": [
            "Гражданину может быть отказано в постановке на учет в качестве нуждающегося в улучшении жилищных условий по следующим основаниям: не указывает четко на то должностное лицо, которое компетентно рассматривать его жалобу, это порождает возможность «запуска по кругу» заявителя при защите им своих нарушенных прав\n",
            "[42, 8, 15, 65, 1, 75, 3, 66, 1, 67, 68, 1, 76, 77, 36, 10, 173, 174, 9, 175, 176, 3, 78, 47, 48, 177, 178, 179, 61, 180, 181, 182, 183, 184, 10, 185, 186, 18, 187, 57, 145, 188, 189]\n"
          ]
        }
      ]
    },
    {
      "cell_type": "code",
      "source": [
        "tokenizer.word_index['гражданину']"
      ],
      "metadata": {
        "colab": {
          "base_uri": "https://localhost:8080/"
        },
        "id": "Uqma5-AmP38k",
        "outputId": "b155271c-b7fe-429b-ee99-be1587630055"
      },
      "execution_count": null,
      "outputs": [
        {
          "output_type": "execute_result",
          "data": {
            "text/plain": [
              "42"
            ]
          },
          "metadata": {},
          "execution_count": 46
        }
      ]
    },
    {
      "cell_type": "code",
      "source": [
        "tokenizer.word_index['орган']"
      ],
      "metadata": {
        "colab": {
          "base_uri": "https://localhost:8080/"
        },
        "id": "V0b2ra33hGmV",
        "outputId": "7609b33e-85c6-41a1-e6f7-5d870f3546fe"
      },
      "execution_count": null,
      "outputs": [
        {
          "output_type": "execute_result",
          "data": {
            "text/plain": [
              "63"
            ]
          },
          "metadata": {},
          "execution_count": 47
        }
      ]
    },
    {
      "cell_type": "code",
      "source": [
        "x_train = pad_sequences(sequences,maxlen=max_sent_len )"
      ],
      "metadata": {
        "id": "idCi8q5GhGjm"
      },
      "execution_count": null,
      "outputs": []
    },
    {
      "cell_type": "code",
      "source": [
        "# первые пять предложений в числовом представлении\n",
        "x_train[:2]"
      ],
      "metadata": {
        "colab": {
          "base_uri": "https://localhost:8080/"
        },
        "id": "x0azqSM4j7sq",
        "outputId": "b2ca551f-8fe4-48c4-b67a-934fda253f90"
      },
      "execution_count": null,
      "outputs": [
        {
          "output_type": "execute_result",
          "data": {
            "text/plain": [
              "array([[  0,   0,   0,   0,   0,   0,   0,   0,   0,   0,   0,   0,   0,\n",
              "          0,   0,   0,   0,   0,   0,   0,   0,   0,   0,   0,   0,   0,\n",
              "          0,   0,   0,   0,   0,   0,   0,   0,   0,   0,   0,   0,   0,\n",
              "          0,   0,   0,   0,   0,   0,   0,   0,   0,   0,   0,   0,   0,\n",
              "          0,   0,   0,   0,   0,   0,   0,   0,   0,   0,   0,   0,   0,\n",
              "          0,   0,   0,   0,   0,   0,   0,   0,   0,   0,   0,   0,   0,\n",
              "          0,   0,   0,   0,   0,   0,   0,   0,   0,   0,   0,   0,   0,\n",
              "          0,   0,   0,   0,   0,   0,   0,   0,   0,   0,   0,   0,  51,\n",
              "         52, 100,  19,  23,  24, 101,   1,  21, 102, 166,  28,  53,   1,\n",
              "        103, 104,   7,  17,  32,  29,   1,  20, 105, 106,  32,  29,  24,\n",
              "        107, 108, 109, 110, 111,   4, 112, 113,   3, 114,   1, 115, 116,\n",
              "        117],\n",
              "       [  0,   0,   0,   0,   0,   0,   0,   0,   0,   0,   0,   0,   0,\n",
              "          0,   0,   0,   0,   0,   0,   0,   0,   0,   0,   0,   0,   0,\n",
              "          0,   0,   0,   0,   0,   0,   0,   0,   0,   0,   0,   0,   0,\n",
              "          0,   0,   0,   0,   1,  39,  86,  17, 118,  40, 119, 120,  71,\n",
              "         33, 121,  41,  14,   5,   6,   8,  15,  87,   9, 122,  72,   3,\n",
              "        167,  12,  11, 233,  25, 168, 234,  42,   7, 123,  16,   5,   6,\n",
              "         73, 124, 125,   4, 126, 127,  22, 128,  88, 129,  89,   5,   6,\n",
              "         10, 130,   1, 131, 132, 133,  54,  41,  55,   7,   5, 134,   6,\n",
              "          2,  56,   4,  43,  16,   5, 135,  14,   5,   6,   8, 136,  44,\n",
              "         45,  46,  13, 137,  57,  47,  48, 138,   4,  43,  16,   5,   6,\n",
              "        139, 140, 141,  26, 142,   9,  34,  72,  22,  58,  28,  74, 143,\n",
              "         16]], dtype=int32)"
            ]
          },
          "metadata": {},
          "execution_count": 49
        }
      ]
    },
    {
      "cell_type": "markdown",
      "source": [
        "### Сверточная нейронная сеть"
      ],
      "metadata": {
        "id": "9qfcVEZWnVjP"
      }
    },
    {
      "cell_type": "code",
      "source": [
        "from keras.layers import Input, Flatten, LSTM\n"
      ],
      "metadata": {
        "id": "DjfgSNmcsqLs"
      },
      "execution_count": null,
      "outputs": []
    },
    {
      "cell_type": "code",
      "source": [
        "#model = tf.keras.Sequential()\n",
        "\n",
        "#model.add(Embedding(num_words, 16, input_length = max_sent_len))\n",
        "#model.add(Conv1D(250, 5, padding='valid', activation ='relu'))\n",
        "#model.add(GlobalMaxPooling1D())\n",
        "#model.add(Dense(128, activation='relu')),\n",
        "#model.add(Dense(2, activation='sigmoid'))"
      ],
      "metadata": {
        "id": "dMjZFku3j7pi"
      },
      "execution_count": null,
      "outputs": []
    },
    {
      "cell_type": "code",
      "source": [
        "model = Sequential()\n",
        "model.add(Embedding(num_words, 64))\n",
        "model.add(LSTM(128))\n",
        "model.add(Dense(1, activation='sigmoid')\n",
        ")"
      ],
      "metadata": {
        "id": "1sGdkawqIUoI"
      },
      "execution_count": null,
      "outputs": []
    },
    {
      "cell_type": "code",
      "source": [
        "num_words"
      ],
      "metadata": {
        "colab": {
          "base_uri": "https://localhost:8080/"
        },
        "id": "mzgzrL3q0CVl",
        "outputId": "1e7765db-8461-47c9-8805-a2fd5d3210bc"
      },
      "execution_count": null,
      "outputs": [
        {
          "output_type": "execute_result",
          "data": {
            "text/plain": [
              "1000"
            ]
          },
          "metadata": {},
          "execution_count": 53
        }
      ]
    },
    {
      "cell_type": "code",
      "source": [
        "model.compile(optimizer='adam', loss='BinaryCrossentropy', metrics=['accuracy'])"
      ],
      "metadata": {
        "id": "SypUl0qKj7mA"
      },
      "execution_count": null,
      "outputs": []
    },
    {
      "cell_type": "code",
      "source": [
        "model.evaluate(x_train, y_train)"
      ],
      "metadata": {
        "colab": {
          "base_uri": "https://localhost:8080/"
        },
        "id": "qIxZDt7LCgAz",
        "outputId": "000d0558-4bdc-4d22-ffe9-09477039daa3"
      },
      "execution_count": null,
      "outputs": [
        {
          "output_type": "stream",
          "name": "stdout",
          "text": [
            "3/3 [==============================] - 1s 57ms/step - loss: 0.8402 - accuracy: 0.6023\n"
          ]
        },
        {
          "output_type": "execute_result",
          "data": {
            "text/plain": [
              "[0.8401945233345032, 0.6022727489471436]"
            ]
          },
          "metadata": {},
          "execution_count": 140
        }
      ]
    },
    {
      "cell_type": "code",
      "source": [
        "model.summary()"
      ],
      "metadata": {
        "colab": {
          "base_uri": "https://localhost:8080/"
        },
        "id": "3yCXgEdjj7i7",
        "outputId": "7b3761ec-617e-4929-e08d-7afc2412e5fd"
      },
      "execution_count": null,
      "outputs": [
        {
          "output_type": "stream",
          "name": "stdout",
          "text": [
            "Model: \"sequential_1\"\n",
            "_________________________________________________________________\n",
            " Layer (type)                Output Shape              Param #   \n",
            "=================================================================\n",
            " embedding_1 (Embedding)     (None, None, 64)          64000     \n",
            "                                                                 \n",
            " lstm_1 (LSTM)               (None, 128)               98816     \n",
            "                                                                 \n",
            " dense_1 (Dense)             (None, 1)                 129       \n",
            "                                                                 \n",
            "=================================================================\n",
            "Total params: 162945 (636.50 KB)\n",
            "Trainable params: 162945 (636.50 KB)\n",
            "Non-trainable params: 0 (0.00 Byte)\n",
            "_________________________________________________________________\n"
          ]
        }
      ]
    },
    {
      "cell_type": "code",
      "source": [
        "model_save_path ='best_model.h5'\n",
        "checkpoint_callback = ModelCheckpoint(model_save_path,\n",
        "                                      monitor='val_accuracy',\n",
        "                                      save_best_only= True,\n",
        "                                      verbose=1)"
      ],
      "metadata": {
        "id": "2vlaDbtuWSgQ"
      },
      "execution_count": null,
      "outputs": []
    },
    {
      "cell_type": "code",
      "source": [
        "history = model.fit(x_train,\n",
        "                            y_train,\n",
        "                            epochs=50,\n",
        "                            batch_size=32,\n",
        "                            validation_split=0.7,\n",
        "\n",
        "\n",
        "                        )"
      ],
      "metadata": {
        "colab": {
          "base_uri": "https://localhost:8080/"
        },
        "id": "fKTD2FS1j7f2",
        "outputId": "b969191c-a9e8-465e-e08a-2d52ba1b27a2"
      },
      "execution_count": null,
      "outputs": [
        {
          "output_type": "stream",
          "name": "stdout",
          "text": [
            "Epoch 1/50\n",
            "1/1 [==============================] - 7s 7s/step - loss: 0.2357 - accuracy: 0.9231 - val_loss: 0.7399 - val_accuracy: 0.5484\n",
            "Epoch 2/50\n",
            "1/1 [==============================] - 1s 631ms/step - loss: 0.2449 - accuracy: 0.9231 - val_loss: 0.7748 - val_accuracy: 0.5484\n",
            "Epoch 3/50\n",
            "1/1 [==============================] - 1s 647ms/step - loss: 0.2021 - accuracy: 0.9231 - val_loss: 0.9630 - val_accuracy: 0.5161\n",
            "Epoch 4/50\n",
            "1/1 [==============================] - 1s 513ms/step - loss: 0.1645 - accuracy: 0.9231 - val_loss: 1.1629 - val_accuracy: 0.5161\n",
            "Epoch 5/50\n",
            "1/1 [==============================] - 1s 524ms/step - loss: 0.1610 - accuracy: 0.9231 - val_loss: 0.9124 - val_accuracy: 0.5968\n",
            "Epoch 6/50\n",
            "1/1 [==============================] - 0s 357ms/step - loss: 0.1167 - accuracy: 0.9231 - val_loss: 0.7301 - val_accuracy: 0.6613\n",
            "Epoch 7/50\n",
            "1/1 [==============================] - 0s 349ms/step - loss: 0.1056 - accuracy: 1.0000 - val_loss: 0.6938 - val_accuracy: 0.6774\n",
            "Epoch 8/50\n",
            "1/1 [==============================] - 0s 364ms/step - loss: 0.0957 - accuracy: 1.0000 - val_loss: 0.7215 - val_accuracy: 0.6774\n",
            "Epoch 9/50\n",
            "1/1 [==============================] - 0s 364ms/step - loss: 0.0748 - accuracy: 1.0000 - val_loss: 0.7873 - val_accuracy: 0.6452\n",
            "Epoch 10/50\n",
            "1/1 [==============================] - 0s 350ms/step - loss: 0.0537 - accuracy: 1.0000 - val_loss: 0.8114 - val_accuracy: 0.6290\n",
            "Epoch 11/50\n",
            "1/1 [==============================] - 0s 382ms/step - loss: 0.0414 - accuracy: 1.0000 - val_loss: 1.3481 - val_accuracy: 0.6452\n",
            "Epoch 12/50\n",
            "1/1 [==============================] - 0s 356ms/step - loss: 0.0484 - accuracy: 1.0000 - val_loss: 0.8764 - val_accuracy: 0.5645\n",
            "Epoch 13/50\n",
            "1/1 [==============================] - 0s 349ms/step - loss: 0.0291 - accuracy: 1.0000 - val_loss: 1.9768 - val_accuracy: 0.5968\n",
            "Epoch 14/50\n",
            "1/1 [==============================] - 0s 342ms/step - loss: 0.1257 - accuracy: 0.9231 - val_loss: 1.0509 - val_accuracy: 0.5806\n",
            "Epoch 15/50\n",
            "1/1 [==============================] - 0s 337ms/step - loss: 0.0213 - accuracy: 1.0000 - val_loss: 1.0745 - val_accuracy: 0.6774\n",
            "Epoch 16/50\n",
            "1/1 [==============================] - 0s 364ms/step - loss: 0.0234 - accuracy: 1.0000 - val_loss: 0.6609 - val_accuracy: 0.6290\n",
            "Epoch 17/50\n",
            "1/1 [==============================] - 0s 340ms/step - loss: 0.1343 - accuracy: 0.9231 - val_loss: 0.7613 - val_accuracy: 0.7097\n",
            "Epoch 18/50\n",
            "1/1 [==============================] - 0s 331ms/step - loss: 0.0441 - accuracy: 1.0000 - val_loss: 1.0825 - val_accuracy: 0.6774\n",
            "Epoch 19/50\n",
            "1/1 [==============================] - 0s 352ms/step - loss: 0.0187 - accuracy: 1.0000 - val_loss: 1.1460 - val_accuracy: 0.5968\n",
            "Epoch 20/50\n",
            "1/1 [==============================] - 0s 367ms/step - loss: 0.0164 - accuracy: 1.0000 - val_loss: 1.3405 - val_accuracy: 0.6452\n",
            "Epoch 21/50\n",
            "1/1 [==============================] - 0s 363ms/step - loss: 0.0164 - accuracy: 1.0000 - val_loss: 1.5506 - val_accuracy: 0.6452\n",
            "Epoch 22/50\n",
            "1/1 [==============================] - 0s 369ms/step - loss: 0.0225 - accuracy: 1.0000 - val_loss: 1.6916 - val_accuracy: 0.6613\n",
            "Epoch 23/50\n",
            "1/1 [==============================] - 0s 354ms/step - loss: 0.0303 - accuracy: 1.0000 - val_loss: 1.7005 - val_accuracy: 0.6613\n",
            "Epoch 24/50\n",
            "1/1 [==============================] - 0s 355ms/step - loss: 0.0274 - accuracy: 1.0000 - val_loss: 1.6053 - val_accuracy: 0.6452\n",
            "Epoch 25/50\n",
            "1/1 [==============================] - 0s 361ms/step - loss: 0.0175 - accuracy: 1.0000 - val_loss: 1.4941 - val_accuracy: 0.6452\n",
            "Epoch 26/50\n",
            "1/1 [==============================] - 0s 441ms/step - loss: 0.0116 - accuracy: 1.0000 - val_loss: 1.3843 - val_accuracy: 0.5968\n",
            "Epoch 27/50\n",
            "1/1 [==============================] - 1s 661ms/step - loss: 0.0102 - accuracy: 1.0000 - val_loss: 1.2947 - val_accuracy: 0.5968\n",
            "Epoch 28/50\n",
            "1/1 [==============================] - 1s 680ms/step - loss: 0.0109 - accuracy: 1.0000 - val_loss: 1.2494 - val_accuracy: 0.5968\n",
            "Epoch 29/50\n",
            "1/1 [==============================] - 1s 629ms/step - loss: 0.0115 - accuracy: 1.0000 - val_loss: 1.2812 - val_accuracy: 0.6290\n",
            "Epoch 30/50\n",
            "1/1 [==============================] - 1s 710ms/step - loss: 0.0101 - accuracy: 1.0000 - val_loss: 1.3834 - val_accuracy: 0.6452\n",
            "Epoch 31/50\n",
            "1/1 [==============================] - 1s 669ms/step - loss: 0.0090 - accuracy: 1.0000 - val_loss: 1.4983 - val_accuracy: 0.6613\n",
            "Epoch 32/50\n",
            "1/1 [==============================] - 1s 703ms/step - loss: 0.0092 - accuracy: 1.0000 - val_loss: 1.5278 - val_accuracy: 0.6613\n",
            "Epoch 33/50\n",
            "1/1 [==============================] - 1s 675ms/step - loss: 0.0089 - accuracy: 1.0000 - val_loss: 1.4599 - val_accuracy: 0.6613\n",
            "Epoch 34/50\n",
            "1/1 [==============================] - 0s 345ms/step - loss: 0.0079 - accuracy: 1.0000 - val_loss: 1.3716 - val_accuracy: 0.6613\n",
            "Epoch 35/50\n",
            "1/1 [==============================] - 0s 355ms/step - loss: 0.0075 - accuracy: 1.0000 - val_loss: 1.3375 - val_accuracy: 0.6774\n",
            "Epoch 36/50\n",
            "1/1 [==============================] - 0s 364ms/step - loss: 0.0076 - accuracy: 1.0000 - val_loss: 1.3840 - val_accuracy: 0.6613\n",
            "Epoch 37/50\n",
            "1/1 [==============================] - 0s 356ms/step - loss: 0.0069 - accuracy: 1.0000 - val_loss: 1.4848 - val_accuracy: 0.6613\n",
            "Epoch 38/50\n",
            "1/1 [==============================] - 0s 353ms/step - loss: 0.0063 - accuracy: 1.0000 - val_loss: 1.5757 - val_accuracy: 0.6613\n",
            "Epoch 39/50\n",
            "1/1 [==============================] - 0s 375ms/step - loss: 0.0063 - accuracy: 1.0000 - val_loss: 1.6069 - val_accuracy: 0.6613\n",
            "Epoch 40/50\n",
            "1/1 [==============================] - 1s 514ms/step - loss: 0.0061 - accuracy: 1.0000 - val_loss: 1.5754 - val_accuracy: 0.6613\n",
            "Epoch 41/50\n",
            "1/1 [==============================] - 0s 370ms/step - loss: 0.0056 - accuracy: 1.0000 - val_loss: 1.5100 - val_accuracy: 0.6613\n",
            "Epoch 42/50\n",
            "1/1 [==============================] - 0s 355ms/step - loss: 0.0052 - accuracy: 1.0000 - val_loss: 1.4557 - val_accuracy: 0.6613\n",
            "Epoch 43/50\n",
            "1/1 [==============================] - 0s 370ms/step - loss: 0.0051 - accuracy: 1.0000 - val_loss: 1.4478 - val_accuracy: 0.6613\n",
            "Epoch 44/50\n",
            "1/1 [==============================] - 0s 381ms/step - loss: 0.0049 - accuracy: 1.0000 - val_loss: 1.4926 - val_accuracy: 0.6613\n",
            "Epoch 45/50\n",
            "1/1 [==============================] - 0s 368ms/step - loss: 0.0046 - accuracy: 1.0000 - val_loss: 1.5674 - val_accuracy: 0.6613\n",
            "Epoch 46/50\n",
            "1/1 [==============================] - 0s 373ms/step - loss: 0.0043 - accuracy: 1.0000 - val_loss: 1.6354 - val_accuracy: 0.6613\n",
            "Epoch 47/50\n",
            "1/1 [==============================] - 0s 362ms/step - loss: 0.0042 - accuracy: 1.0000 - val_loss: 1.6726 - val_accuracy: 0.6613\n",
            "Epoch 48/50\n",
            "1/1 [==============================] - 0s 349ms/step - loss: 0.0041 - accuracy: 1.0000 - val_loss: 1.6740 - val_accuracy: 0.6613\n",
            "Epoch 49/50\n",
            "1/1 [==============================] - 0s 354ms/step - loss: 0.0039 - accuracy: 1.0000 - val_loss: 1.6466 - val_accuracy: 0.6613\n",
            "Epoch 50/50\n",
            "1/1 [==============================] - 0s 333ms/step - loss: 0.0037 - accuracy: 1.0000 - val_loss: 1.6058 - val_accuracy: 0.6613\n"
          ]
        }
      ]
    },
    {
      "cell_type": "code",
      "source": [
        "plt.plot(history.history['accuracy'],\n",
        "         label='Доля верных ответов на обучающем наборе')\n",
        "plt.plot(history.history['val_accuracy'],\n",
        "         label ='Доля верных ответов на валидационной выборке ')\n",
        "plt.xlabel('Эпоха обучения')\n",
        "plt.ylabel('Доля верных ответов')\n",
        "plt.legend()\n",
        "plt.show()"
      ],
      "metadata": {
        "colab": {
          "base_uri": "https://localhost:8080/",
          "height": 449
        },
        "id": "5gszQyMaV5i8",
        "outputId": "f9c06f37-1357-475f-d591-902083ce971e"
      },
      "execution_count": null,
      "outputs": [
        {
          "output_type": "display_data",
          "data": {
            "text/plain": [
              "<Figure size 640x480 with 1 Axes>"
            ],
            "image/png": "[encoded data removed]"
          },
          "metadata": {}
        }
      ]
    },
    {
      "cell_type": "code",
      "source": [
        "plt.plot(history.history['loss'])\n",
        "plt.plot(history.history['val_loss'])\n",
        "plt.grid(True)\n",
        "plt.show()"
      ],
      "metadata": {
        "id": "8sS3yulhj7dJ",
        "colab": {
          "base_uri": "https://localhost:8080/",
          "height": 430
        },
        "outputId": "9450d543-2ee3-4040-a167-5cf24c77789b"
      },
      "execution_count": null,
      "outputs": [
        {
          "output_type": "display_data",
          "data": {
            "text/plain": [
              "<Figure size 640x480 with 1 Axes>"
            ],
            "image/png": "[encoded data removed]"
          },
          "metadata": {}
        }
      ]
    },
    {
      "cell_type": "code",
      "source": [
        "x_test = (['Распоряжение об утверждении проекта границ земельного участка выдается заявителю не позднее семи календарных дней с момента его обращения'])"
      ],
      "metadata": {
        "id": "SxRHUn12luSE"
      },
      "execution_count": null,
      "outputs": []
    },
    {
      "cell_type": "code",
      "source": [
        "x_test_neg = (['В случаях, требующих проведения специальной проверки, истребования дополнительных материалов, принятия других мер, срок рассмотрения обращения может быть продлен'])"
      ],
      "metadata": {
        "id": "c8kqB0R_biOJ"
      },
      "execution_count": null,
      "outputs": []
    },
    {
      "cell_type": "code",
      "source": [
        "#model.get_weights()"
      ],
      "metadata": {
        "id": "5VyyG0I-j7W-"
      },
      "execution_count": null,
      "outputs": []
    },
    {
      "cell_type": "code",
      "source": [
        "sequences = tokenizer.texts_to_sequences(x_test)"
      ],
      "metadata": {
        "id": "Rp5Yy8SN7DAq"
      },
      "execution_count": null,
      "outputs": []
    },
    {
      "cell_type": "code",
      "source": [
        "sequences = tokenizer.texts_to_sequences(x_test_neg)"
      ],
      "metadata": {
        "id": "IpgaUBFwb4KH"
      },
      "execution_count": null,
      "outputs": []
    },
    {
      "cell_type": "code",
      "source": [
        "x_test = pad_sequences(sequences,maxlen=max_sent_len )"
      ],
      "metadata": {
        "id": "JVbeOee5j7Mf"
      },
      "execution_count": null,
      "outputs": []
    },
    {
      "cell_type": "code",
      "source": [
        "x_test_neg = pad_sequences(sequences,maxlen=max_sent_len )"
      ],
      "metadata": {
        "id": "bcPoPMv-b8Ov"
      },
      "execution_count": null,
      "outputs": []
    },
    {
      "cell_type": "code",
      "source": [
        "x_test"
      ],
      "metadata": {
        "colab": {
          "base_uri": "https://localhost:8080/"
        },
        "id": "36KgHBiK6Zn6",
        "outputId": "431c9178-e5fd-40e7-c2f0-feab9766d183"
      },
      "execution_count": null,
      "outputs": [
        {
          "output_type": "execute_result",
          "data": {
            "text/plain": [
              "array([[  0,   0,   0,   0,   0,   0,   0,   0,   0,   0,   0,   0,   0,\n",
              "          0,   0,   0,   0,   0,   0,   0,   0,   0,   0,   0,   0,   0,\n",
              "          0,   0,   0,   0,   0,   0,   0,   0,   0,   0,   0,   0,   0,\n",
              "          0,   0,   0,   0,   0,   0,   0,   0,   0,   0,   0,   0,   0,\n",
              "          0,   0,   0,   0,   0,   0,   0,   0,   0,   0,   0,   0,   0,\n",
              "          0,   0,   0,   0,   0,   0,   0,   0,   0,   0,   0,   0,   0,\n",
              "          0,   0,   0,   0,   0,   0,   0,   0,   0,   0,   0,   0,   0,\n",
              "          0,   0,   0,   0,   0,   0,   0,   0,   0,   0,   0,   0,   0,\n",
              "          0,   0,   0,   0,   0,   0,   0,   0,   0,   0,   0,   0,   0,\n",
              "          0,   0,   0,   0,   0,   0,   0,   0,   0,   1,  39,  86,  17,\n",
              "        118,  40, 119, 120,  71,  33, 121,  41,  14,   5,   6,   8,  15,\n",
              "         87]], dtype=int32)"
            ]
          },
          "metadata": {},
          "execution_count": 151
        }
      ]
    },
    {
      "cell_type": "code",
      "source": [
        "x_train [2]"
      ],
      "metadata": {
        "colab": {
          "base_uri": "https://localhost:8080/"
        },
        "id": "LY3G5m0_9iR-",
        "outputId": "73a170c0-5ff3-46a8-ac5c-baf388c9e086"
      },
      "execution_count": null,
      "outputs": [
        {
          "output_type": "execute_result",
          "data": {
            "text/plain": [
              "array([  0,   0,   0,   0,   0,   0,   0,   0,   0,   0,   0,   0,   0,\n",
              "         0,   0,   0,   0,   0,   0,   0,   0,   0,   0,   0,   0,   0,\n",
              "         0,   0,   0,   0,   0,   0,   0,   0,   0,   0,   0,   0,   0,\n",
              "         0,   0,   0,   0,   0,   0,   0,   0,   0,   0,   0,   0,   0,\n",
              "         0,   0,   0,   0,   0,   0,   0,   0,   0,   0,   0,   0,   0,\n",
              "         0,   0,   0,   0,   0,   0,   0,   0,   0,   0,   0,   0,   0,\n",
              "         0,   0,   0,   0,   0,   0,   0,   0,   0,   0,   0,   0,   0,\n",
              "         0,   0,   0,   0,   0,   0,   0,   0,   0,   0,   0,   0,   0,\n",
              "         0,   0,   0,   0,   0,   0,   0,   0,   0,   0,   0,   0,   0,\n",
              "         0,   0,   0,   0,   0,   0,   0,   0,   0,  90,  25,  91,  92,\n",
              "        93,  27,  30,  59,  26,   9,  34, 169,  60,  12,  11,  35,  61,\n",
              "         6], dtype=int32)"
            ]
          },
          "metadata": {},
          "execution_count": 69
        }
      ]
    },
    {
      "cell_type": "code",
      "source": [
        "tokenizer.word_index['вправе']"
      ],
      "metadata": {
        "colab": {
          "base_uri": "https://localhost:8080/"
        },
        "id": "s0ijSL3dOhK9",
        "outputId": "f3858783-cd6f-4378-fcee-4da231fd3a7d"
      },
      "execution_count": null,
      "outputs": [
        {
          "output_type": "execute_result",
          "data": {
            "text/plain": [
              "202"
            ]
          },
          "metadata": {},
          "execution_count": 152
        }
      ]
    },
    {
      "cell_type": "code",
      "source": [
        "model.predict(x_test)"
      ],
      "metadata": {
        "colab": {
          "base_uri": "https://localhost:8080/"
        },
        "id": "vAx7FghdMCNC",
        "outputId": "40bf211e-2755-45e6-cbe4-9b9f8a4cb0bb"
      },
      "execution_count": null,
      "outputs": [
        {
          "output_type": "stream",
          "name": "stdout",
          "text": [
            "1/1 [==============================] - 0s 486ms/step\n"
          ]
        },
        {
          "output_type": "execute_result",
          "data": {
            "text/plain": [
              "array([[0.9993766]], dtype=float32)"
            ]
          },
          "metadata": {},
          "execution_count": 153
        }
      ]
    },
    {
      "cell_type": "code",
      "source": [
        "model.predict(x_test_neg)"
      ],
      "metadata": {
        "colab": {
          "base_uri": "https://localhost:8080/"
        },
        "id": "Fum-razwbz9C",
        "outputId": "80604f83-edc4-431b-a678-996029ab5e8c"
      },
      "execution_count": null,
      "outputs": [
        {
          "output_type": "stream",
          "name": "stdout",
          "text": [
            "1/1 [==============================] - 0s 42ms/step\n"
          ]
        },
        {
          "output_type": "execute_result",
          "data": {
            "text/plain": [
              "array([[0.9993766]], dtype=float32)"
            ]
          },
          "metadata": {},
          "execution_count": 156
        }
      ]
    },
    {
      "cell_type": "code",
      "source": [
        "test_2 = ['Гражданину может быть отказано в постановке на учет в качестве нуждающегося в улучшении жилищных условий по следующим основаниям: не указывает четко на то должностное лицо, которое компетентно рассматривать его жалобу, это порождает возможность «запуска по кругу» заявителя при защите им своих нарушенных прав']"
      ],
      "metadata": {
        "id": "ZsTrhLVupUCc"
      },
      "execution_count": null,
      "outputs": []
    },
    {
      "cell_type": "code",
      "source": [
        "sequences = tokenizer.texts_to_sequences(test_2)"
      ],
      "metadata": {
        "id": "Gy2Xzk2JpbdT"
      },
      "execution_count": null,
      "outputs": []
    },
    {
      "cell_type": "code",
      "source": [
        "test_2 = pad_sequences(sequences,maxlen=max_sent_len )"
      ],
      "metadata": {
        "id": "iH1wUIo7piYt"
      },
      "execution_count": null,
      "outputs": []
    },
    {
      "cell_type": "code",
      "source": [
        "model.predict(test_2)"
      ],
      "metadata": {
        "colab": {
          "base_uri": "https://localhost:8080/"
        },
        "id": "16s10gfuprLT",
        "outputId": "a5684a17-76f3-49dc-a447-0ed943817b64"
      },
      "execution_count": null,
      "outputs": [
        {
          "output_type": "stream",
          "name": "stdout",
          "text": [
            "1/1 [==============================] - 0s 96ms/step\n"
          ]
        },
        {
          "output_type": "execute_result",
          "data": {
            "text/plain": [
              "array([[0.5421035]], dtype=float32)"
            ]
          },
          "metadata": {},
          "execution_count": 76
        }
      ]
    },
    {
      "cell_type": "code",
      "source": [
        "test_3 = ['Уполномоченный орган вправе расторгнуть договор на свое усмотрение.']"
      ],
      "metadata": {
        "id": "VW2Vf5QaHpqx"
      },
      "execution_count": null,
      "outputs": []
    },
    {
      "cell_type": "code",
      "source": [
        "sequences = tokenizer.texts_to_sequences(test_3)"
      ],
      "metadata": {
        "id": "luHIvCe3H4Dy"
      },
      "execution_count": null,
      "outputs": []
    },
    {
      "cell_type": "code",
      "source": [
        "test_3 = pad_sequences(sequences,maxlen=max_sent_len )"
      ],
      "metadata": {
        "id": "iHJPNnK2H7Gi"
      },
      "execution_count": null,
      "outputs": []
    },
    {
      "cell_type": "code",
      "source": [
        "model.predict(test_3)"
      ],
      "metadata": {
        "colab": {
          "base_uri": "https://localhost:8080/"
        },
        "id": "BNWut9QaH9ui",
        "outputId": "0a4cce72-8682-4302-970c-8ec6a99d4888"
      },
      "execution_count": null,
      "outputs": [
        {
          "output_type": "stream",
          "name": "stdout",
          "text": [
            "1/1 [==============================] - 1s 659ms/step\n"
          ]
        },
        {
          "output_type": "execute_result",
          "data": {
            "text/plain": [
              "array([[0.9487375]], dtype=float32)"
            ]
          },
          "metadata": {},
          "execution_count": 126
        }
      ]
    },
    {
      "cell_type": "code",
      "source": [
        "test_neg_4 = ['При необходимости, заявителю необходимо предоставить копию документа воинского учета']"
      ],
      "metadata": {
        "id": "CaAlQV2gTZDK"
      },
      "execution_count": null,
      "outputs": []
    },
    {
      "cell_type": "code",
      "source": [
        "sequences = tokenizer.texts_to_sequences(test_neg_4)"
      ],
      "metadata": {
        "id": "M34RF3q5Tf6B"
      },
      "execution_count": null,
      "outputs": []
    },
    {
      "cell_type": "code",
      "source": [
        "test_neg_4 = pad_sequences(sequences, maxlen=max_sent_len )"
      ],
      "metadata": {
        "id": "BISvGSgDTiqR"
      },
      "execution_count": null,
      "outputs": []
    },
    {
      "cell_type": "code",
      "source": [
        "model.predict(test_neg_4)"
      ],
      "metadata": {
        "colab": {
          "base_uri": "https://localhost:8080/"
        },
        "id": "emIH7SzJTqEZ",
        "outputId": "1aa1f982-ac20-4987-93d9-3833f7782e74"
      },
      "execution_count": null,
      "outputs": [
        {
          "output_type": "stream",
          "name": "stdout",
          "text": [
            "1/1 [==============================] - 0s 69ms/step\n"
          ]
        },
        {
          "output_type": "execute_result",
          "data": {
            "text/plain": [
              "array([[0.93956774]], dtype=float32)"
            ]
          },
          "metadata": {},
          "execution_count": 84
        }
      ]
    },
    {
      "cell_type": "code",
      "source": [
        "test_pos_0 =['Уведомление о продлении срока рассмотрения обращения (промежуточный ответ) направляется заявителю заблаговременно (не позднее чем за 2 дня до истечения срока)']"
      ],
      "metadata": {
        "id": "RdusKBXuT77B"
      },
      "execution_count": null,
      "outputs": []
    },
    {
      "cell_type": "code",
      "source": [
        "sequences = tokenizer.texts_to_sequences(test_pos_0)"
      ],
      "metadata": {
        "id": "KhNfP3lrUJgZ"
      },
      "execution_count": null,
      "outputs": []
    },
    {
      "cell_type": "code",
      "source": [
        "test_pos_0 = pad_sequences(sequences,maxlen=max_sent_len )"
      ],
      "metadata": {
        "id": "dmKkdpg1UMvo"
      },
      "execution_count": null,
      "outputs": []
    },
    {
      "cell_type": "code",
      "source": [
        "result = model.predict(test_pos_0)\n",
        "if result < 0.5:\n",
        "  print ('НПА составлен корректно')\n",
        "  if result >0.5:\n",
        "    print('Есть риски')"
      ],
      "metadata": {
        "colab": {
          "base_uri": "https://localhost:8080/"
        },
        "id": "qYgS4mmeURgg",
        "outputId": "1583c078-94fe-468d-bce2-48cf9752c8cc"
      },
      "execution_count": null,
      "outputs": [
        {
          "output_type": "stream",
          "name": "stdout",
          "text": [
            "1/1 [==============================] - 0s 44ms/step\n",
            "НПА составлен корректно\n"
          ]
        }
      ]
    },
    {
      "cell_type": "code",
      "source": [
        "def result (text):\n",
        "\n",
        "  sequences = tokenizer.texts_to_sequences(text)\n",
        "  text = pad_sequences(sequences,maxlen=max_sent_len )\n",
        "  result = model.predict(text)\n",
        "\n",
        "  if result < 0.5:\n",
        "    return 'Фрагмент НПА составлен корректно'\n",
        "  else:\n",
        "    return 'Фрагмент НПА несет в себе риски наличия коррупциогенных факторов'"
      ],
      "metadata": {
        "id": "15bsTB3bazrk"
      },
      "execution_count": null,
      "outputs": []
    },
    {
      "cell_type": "code",
      "source": [
        "text = ['Уведомление о продлении срока рассмотрения обращения (промежуточный ответ) направляется заявителю заблаговременно (не позднее чем за 2 дня до истечения срока)']"
      ],
      "metadata": {
        "id": "OWcF6Yesb9-7"
      },
      "execution_count": null,
      "outputs": []
    },
    {
      "cell_type": "code",
      "source": [
        "result(text)"
      ],
      "metadata": {
        "colab": {
          "base_uri": "https://localhost:8080/",
          "height": 53
        },
        "id": "ApLBX40Yb6uk",
        "outputId": "cb301936-4f7d-4f5d-8f2e-6e45a4d29fe3"
      },
      "execution_count": null,
      "outputs": [
        {
          "output_type": "stream",
          "name": "stdout",
          "text": [
            "1/1 [==============================] - 0s 44ms/step\n"
          ]
        },
        {
          "output_type": "execute_result",
          "data": {
            "text/plain": [
              "'Фрагмент НПА составлен корректно'"
            ],
            "application/vnd.google.colaboratory.intrinsic+json": {
              "type": "string"
            }
          },
          "metadata": {},
          "execution_count": 165
        }
      ]
    },
    {
      "cell_type": "code",
      "source": [
        "result(text)"
      ],
      "metadata": {
        "colab": {
          "base_uri": "https://localhost:8080/",
          "height": 53
        },
        "id": "v-A07fG8jDX5",
        "outputId": "4c42aaa0-dfba-411b-f634-3cc5f778d966"
      },
      "execution_count": null,
      "outputs": [
        {
          "output_type": "stream",
          "name": "stdout",
          "text": [
            "1/1 [==============================] - 0s 84ms/step\n"
          ]
        },
        {
          "output_type": "execute_result",
          "data": {
            "text/plain": [
              "'Фрагмент НПА составлен корректно'"
            ],
            "application/vnd.google.colaboratory.intrinsic+json": {
              "type": "string"
            }
          },
          "metadata": {},
          "execution_count": 166
        }
      ]
    },
    {
      "cell_type": "code",
      "source": [
        "text_1 = (['Распоряжение об утверждении проекта границ земельного участка выдается заявителю не позднее семи календарных дней с момента его обращения'])"
      ],
      "metadata": {
        "id": "WS0X-vBEtsSJ"
      },
      "execution_count": null,
      "outputs": []
    },
    {
      "cell_type": "code",
      "source": [
        "result(text_1)"
      ],
      "metadata": {
        "colab": {
          "base_uri": "https://localhost:8080/",
          "height": 53
        },
        "id": "kF-QgHM6qr-y",
        "outputId": "3ecb55e4-a6c3-44a0-f13f-17fc0c5a2191"
      },
      "execution_count": null,
      "outputs": [
        {
          "output_type": "stream",
          "name": "stdout",
          "text": [
            "1/1 [==============================] - 0s 45ms/step\n"
          ]
        },
        {
          "output_type": "execute_result",
          "data": {
            "text/plain": [
              "'Фрагмент НПА составлен корректно'"
            ],
            "application/vnd.google.colaboratory.intrinsic+json": {
              "type": "string"
            }
          },
          "metadata": {},
          "execution_count": 168
        }
      ]
    },
    {
      "cell_type": "code",
      "source": [
        "text_2 = ['Уполномоченный орган вправе расторгнуть договор на свое усмотрение.']"
      ],
      "metadata": {
        "id": "K0g-qYj_t4g5"
      },
      "execution_count": null,
      "outputs": []
    },
    {
      "cell_type": "code",
      "source": [
        "result(text_2)"
      ],
      "metadata": {
        "colab": {
          "base_uri": "https://localhost:8080/",
          "height": 53
        },
        "id": "6RbEbJ9wuLkh",
        "outputId": "6f5c11c7-be25-483e-ce54-8c05bac124ea"
      },
      "execution_count": null,
      "outputs": [
        {
          "output_type": "stream",
          "name": "stdout",
          "text": [
            "1/1 [==============================] - 0s 52ms/step\n"
          ]
        },
        {
          "output_type": "execute_result",
          "data": {
            "text/plain": [
              "'Фрагмент НПА несет в себе риски наличия коррупциогенных факторов'"
            ],
            "application/vnd.google.colaboratory.intrinsic+json": {
              "type": "string"
            }
          },
          "metadata": {},
          "execution_count": 170
        }
      ]
    },
    {
      "cell_type": "code",
      "source": [
        "text_3 = ['Уведомление о продлении срока рассмотрения обращения (промежуточный ответ) направляется заявителю заблаговременно (не позднее чем за 2 дня до истечения срока)']"
      ],
      "metadata": {
        "id": "2nHnvJ1XuPsM"
      },
      "execution_count": null,
      "outputs": []
    },
    {
      "cell_type": "code",
      "source": [
        "result(text_3)"
      ],
      "metadata": {
        "colab": {
          "base_uri": "https://localhost:8080/",
          "height": 53
        },
        "id": "sxsFP3XHur4B",
        "outputId": "9d4d7f11-e32c-4f2b-f426-4bdd61199e0c"
      },
      "execution_count": null,
      "outputs": [
        {
          "output_type": "stream",
          "name": "stdout",
          "text": [
            "1/1 [==============================] - 0s 65ms/step\n"
          ]
        },
        {
          "output_type": "execute_result",
          "data": {
            "text/plain": [
              "'Фрагмент НПА несет в себе риски наличия коррупциогенных факторов'"
            ],
            "application/vnd.google.colaboratory.intrinsic+json": {
              "type": "string"
            }
          },
          "metadata": {},
          "execution_count": 98
        }
      ]
    },
    {
      "cell_type": "code",
      "source": [
        "text_4 = ['При необходимости, заявителю необходимо предоставить копию документа воинского учета']"
      ],
      "metadata": {
        "id": "oLJ89CaEu1N4"
      },
      "execution_count": null,
      "outputs": []
    },
    {
      "cell_type": "code",
      "source": [
        "result(text_4)"
      ],
      "metadata": {
        "colab": {
          "base_uri": "https://localhost:8080/",
          "height": 53
        },
        "id": "AicdQSg5u-bw",
        "outputId": "18c4c532-317b-427a-eed2-b3b07dc02214"
      },
      "execution_count": null,
      "outputs": [
        {
          "output_type": "stream",
          "name": "stdout",
          "text": [
            "1/1 [==============================] - 0s 75ms/step\n"
          ]
        },
        {
          "output_type": "execute_result",
          "data": {
            "text/plain": [
              "'Фрагмент НПА несет в себе риски наличия коррупциогенных факторов'"
            ],
            "application/vnd.google.colaboratory.intrinsic+json": {
              "type": "string"
            }
          },
          "metadata": {},
          "execution_count": 100
        }
      ]
    }
  ]
}